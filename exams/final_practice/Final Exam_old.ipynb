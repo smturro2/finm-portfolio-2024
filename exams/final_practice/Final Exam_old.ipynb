{
 "cells": [
  {
   "cell_type": "code",
   "execution_count": 86,
   "id": "0fd2a8ca",
   "metadata": {},
   "outputs": [],
   "source": [
    "import numpy as np\n",
    "import matplotlib.pyplot as plt\n",
    "import pandas as pd\n",
    "import seaborn as sns\n",
    "import scipy\n",
    "import os\n",
    "import statsmodels.api as sm\n",
    "import scipy.stats as stats\n",
    "import statsmodels.formula.api as smf\n",
    "    \n",
    "import portfolio_management_helper as pmh"
   ]
  },
  {
   "cell_type": "markdown",
   "id": "e49f9090",
   "metadata": {},
   "source": [
    "# Final Exam\n",
    "\n",
    "## FINM 36700 - 2023\n",
    "\n",
    "### UChicago Financial Mathematics\n",
    "\n",
    "* Mark Hendricks\n",
    "* hendricks@uchicago.edu"
   ]
  },
  {
   "cell_type": "markdown",
   "id": "6a26cd48",
   "metadata": {},
   "source": [
    "# Instructions"
   ]
  },
  {
   "cell_type": "markdown",
   "id": "7450dc04",
   "metadata": {},
   "source": [
    "## Please note the following:\n",
    "\n",
    "Points\n",
    "* The exam is 155 points.\n",
    "* You have 180 minutes to complete the exam.\n",
    "* For every minute late you submit the exam, you will lose one point.\n",
    "\n",
    "\n",
    "Submission\n",
    "* You will upload your solution to the `Final Exam` assignment on Canvas, where you downloaded this. (Be sure to **submit** on Canvas, not just **save** on Canvas.\n",
    "* Your submission should be readable, (the graders can understand your answers,) and it should **include all code used in your analysis in a file format that the code can be executed.** \n",
    "\n",
    "Rules\n",
    "* The exam is open-material, closed-communication.\n",
    "* You do not need to cite material from the course github repo--you are welcome to use the code posted there without citation.\n",
    "\n",
    "Advice\n",
    "* If you find any question to be unclear, state your interpretation and proceed. We will only answer questions of interpretation if there is a typo, error, etc.\n",
    "* The exam will be graded for partial credit."
   ]
  },
  {
   "cell_type": "markdown",
   "id": "2ed02541",
   "metadata": {},
   "source": [
    "## Data\n",
    "\n",
    "**All data files are found in the class github repo, in the `data` folder.**\n",
    "\n",
    "This exam makes use of the following data files:\n",
    "* `final_exam_data.xlsx`\n",
    "\n",
    "This file has sheets for...\n",
    "* `portfolio` (weekly) - Part 2\n",
    "* `forecasting` (monthly) - Part 3\n",
    "* `fx_carry`(daily) - Part 4"
   ]
  },
  {
   "cell_type": "markdown",
   "id": "8e430ec4",
   "metadata": {},
   "source": [
    "## Scoring\n",
    "\n",
    "| Problem | Points |\n",
    "|---------|--------|\n",
    "| 1       | 40     |\n",
    "| 2       | 25     |\n",
    "| 3       | 50     |\n",
    "| 4       | 40     |"
   ]
  },
  {
   "cell_type": "code",
   "execution_count": 87,
   "id": "5392fdf1",
   "metadata": {},
   "outputs": [
    {
     "name": "stdout",
     "output_type": "stream",
     "text": [
      "portfolio: (392, 8)\n",
      "forecasting: (175, 4)\n",
      "fx_carry: (1380, 4)\n"
     ]
    }
   ],
   "source": [
    "dfs_raw = pd.read_excel(r\"final_exam_data.xlsx\" , sheet_name=None)\n",
    "for key in dfs_raw.keys():\n",
    "    print(f\"{key}: {dfs_raw[key].shape}\")\n",
    "    \n",
    "# ticker_mapping = {tick: name \n",
    "#                   for tick, name in zip(dfs_raw['descriptions'].iloc[:, 0], \n",
    "#                                                 dfs_raw['descriptions'].iloc[:, 1])}\n",
    "\n",
    "# ticker_mapping\n"
   ]
  },
  {
   "cell_type": "markdown",
   "id": "7b2f131d",
   "metadata": {},
   "source": [
    "### Each numbered question is worth 5 points unless otherwise specified."
   ]
  },
  {
   "cell_type": "markdown",
   "id": "e7bae96a",
   "metadata": {},
   "source": [
    "### Notation\n",
    "(Hidden LaTeX commands)\n",
    "\n",
    "$$\\newcommand{\\betamkt}{\\beta^{i,\\text{MKT}}}$$\n",
    "$$\\newcommand{\\betahml}{\\beta^{i,\\text{HML}}}$$\n",
    "$$\\newcommand{\\betaumd}{\\beta^{i,\\text{UMD}}}$$\n",
    "$$\\newcommand{\\Eri}{E\\left[\\tilde{r}^{i}\\right]}$$\n",
    "$$\\newcommand{\\Emkt}{E\\left[\\tilde{r}^{\\text{MKT}}\\right]}$$\n",
    "$$\\newcommand{\\Ehml}{E\\left[\\tilde{r}^{\\text{HML}}\\right]}$$\n",
    "$$\\newcommand{\\Eumd}{E\\left[\\tilde{r}^{\\text{UMD}}\\right]}$$\n",
    "\n",
    "$$\\newcommand{\\frn}{\\text{MXN}}$$\n",
    "$$\\newcommand{\\frnrate}{\\text{MXSTR}}$$\n",
    "$$\\newcommand{\\FXspot}{S}$$\n",
    "$$\\newcommand{\\fxspot}{\\texttt{s}}$$\n",
    "$$\\newcommand{\\rflogusd}{\\texttt{r}^{\\text{USD}}}$$\n",
    "$$\\newcommand{\\rflogfrn}{\\texttt{r}^{\\frn}}$$\n",
    "\n",
    "$$\\newcommand{\\wintt}{t,t+1}$$\n",
    "\n",
    "$$\\newcommand{\\targ}{\\text{USO}}$$"
   ]
  },
  {
   "cell_type": "markdown",
   "id": "29108024",
   "metadata": {},
   "source": [
    "# 1. Short Answer"
   ]
  },
  {
   "cell_type": "markdown",
   "id": "10e4483d",
   "metadata": {},
   "source": [
    "#### No Data Needed\n",
    "\n",
    "These problems do not require any data file. Rather, analyze them conceptually. "
   ]
  },
  {
   "cell_type": "markdown",
   "id": "fb4ae41e",
   "metadata": {},
   "source": [
    "### 1.\n",
    "\n",
    "Consider a Linear Factor Pricing Model (LFPM).\n",
    "\n",
    "Which metric do we examine to understand its fit, (or errors)...\n",
    "* given the estimated **time-series (TS)** test?\n",
    "* given the estimated **cross-sectional (CS)** test?"
   ]
  },
  {
   "cell_type": "markdown",
   "id": "dfba050f",
   "metadata": {},
   "source": [
    "* **time-series (TS)**: Significance of intercepts\n",
    "* **cross-sectional (CS)**: $R^2$"
   ]
  },
  {
   "cell_type": "markdown",
   "id": "b3af04d7",
   "metadata": {},
   "source": [
    "### 2.\n",
    "\n",
    "Consider the Arbitrage Pricing Theory (APT). Is it fair to say that it is more likely to work for sets of assets with low cross-correlation? Why or why not?"
   ]
  },
  {
   "cell_type": "markdown",
   "id": "282a0541",
   "metadata": {},
   "source": [
    "Yes because correlation between factors are assumed to be 0. todo"
   ]
  },
  {
   "cell_type": "markdown",
   "id": "098ce470",
   "metadata": {},
   "source": [
    "### 3.\n",
    "\n",
    "In constructing momentum portfolios, we discussed selecting the top and bottom 10% of stocks, ranked by past returns. How do you think the strategy would be impacted if we were more extreme in the selection, and went long-short just the top / bottom 1% of total stocks?"
   ]
  },
  {
   "cell_type": "markdown",
   "id": "a86a9479",
   "metadata": {},
   "source": [
    "We would have much more turnover in our strategy and thus be encountering many more fees. Momentum is already known to give small returns so doing this would likely make this strategy unprofitable."
   ]
  },
  {
   "cell_type": "markdown",
   "id": "36646d1a",
   "metadata": {},
   "source": [
    "### 4.\n",
    "\n",
    "Over longer horizons, do investments have higher Sharpe ratios? How is this issue relevant to long-term asset allocators such as Barnstable?"
   ]
  },
  {
   "cell_type": "markdown",
   "id": "63e10a4f",
   "metadata": {},
   "source": [
    "todo"
   ]
  },
  {
   "cell_type": "markdown",
   "id": "b37329a6",
   "metadata": {},
   "source": [
    "### 5.\n",
    "\n",
    "Before it crashed, how did LTCM's performance compare to the S&P (SPY)? Was it an attractive investment? Be specific."
   ]
  },
  {
   "cell_type": "markdown",
   "id": "d45578d5",
   "metadata": {},
   "source": [
    "todo"
   ]
  },
  {
   "cell_type": "markdown",
   "id": "5fc27e9c",
   "metadata": {},
   "source": [
    "### 6.\n",
    "\n",
    "Suppose investors are **not** mean-variance investors. If we find an investment with a Sharpe ratio higher than the \"market\", would this would be inconsistent with the CAPM?"
   ]
  },
  {
   "cell_type": "markdown",
   "id": "6820e609",
   "metadata": {},
   "source": [
    "todo"
   ]
  },
  {
   "cell_type": "markdown",
   "id": "80418680",
   "metadata": {},
   "source": [
    "### 7.\n",
    "\n",
    "What causes us concern about the performance of classic mean-variance optimization out-of-sample?\n",
    "\n",
    "What is one of the potential solutions we discussed?"
   ]
  },
  {
   "cell_type": "markdown",
   "id": "0c1c798b",
   "metadata": {},
   "source": [
    "todo"
   ]
  },
  {
   "cell_type": "markdown",
   "id": "93744f83",
   "metadata": {},
   "source": [
    "### 8.\n",
    "\n",
    "True or False: Uncovered Interest Parity implies Covered Interest Parity, but not vice-versa.\n",
    "\n",
    "Explain."
   ]
  },
  {
   "cell_type": "markdown",
   "id": "09d049ea",
   "metadata": {},
   "source": [
    "todo"
   ]
  },
  {
   "cell_type": "markdown",
   "id": "7966dc11",
   "metadata": {},
   "source": [
    "***"
   ]
  },
  {
   "cell_type": "markdown",
   "id": "36e16d88",
   "metadata": {},
   "source": [
    "# 2. Optimization\n",
    "\n",
    "Use the data found in the `portfolio` tab. it is weekly data."
   ]
  },
  {
   "cell_type": "code",
   "execution_count": 88,
   "id": "a2eb73ca",
   "metadata": {},
   "outputs": [
    {
     "data": {
      "text/html": [
       "<div>\n",
       "<style scoped>\n",
       "    .dataframe tbody tr th:only-of-type {\n",
       "        vertical-align: middle;\n",
       "    }\n",
       "\n",
       "    .dataframe tbody tr th {\n",
       "        vertical-align: top;\n",
       "    }\n",
       "\n",
       "    .dataframe thead th {\n",
       "        text-align: right;\n",
       "    }\n",
       "</style>\n",
       "<table border=\"1\" class=\"dataframe\">\n",
       "  <thead>\n",
       "    <tr style=\"text-align: right;\">\n",
       "      <th></th>\n",
       "      <th>SPY</th>\n",
       "      <th>BTC</th>\n",
       "      <th>USO</th>\n",
       "      <th>TLT</th>\n",
       "      <th>IEF</th>\n",
       "      <th>IYR</th>\n",
       "      <th>GLD</th>\n",
       "    </tr>\n",
       "    <tr>\n",
       "      <th>date</th>\n",
       "      <th></th>\n",
       "      <th></th>\n",
       "      <th></th>\n",
       "      <th></th>\n",
       "      <th></th>\n",
       "      <th></th>\n",
       "      <th></th>\n",
       "    </tr>\n",
       "  </thead>\n",
       "  <tbody>\n",
       "    <tr>\n",
       "      <th>2016-01-15</th>\n",
       "      <td>-0.0214</td>\n",
       "      <td>-0.1439</td>\n",
       "      <td>-0.1031</td>\n",
       "      <td>0.0194</td>\n",
       "      <td>0.0078</td>\n",
       "      <td>-0.0307</td>\n",
       "      <td>-0.0151</td>\n",
       "    </tr>\n",
       "    <tr>\n",
       "      <th>2016-01-22</th>\n",
       "      <td>0.0144</td>\n",
       "      <td>-0.0214</td>\n",
       "      <td>0.0546</td>\n",
       "      <td>-0.0033</td>\n",
       "      <td>-0.0011</td>\n",
       "      <td>0.0101</td>\n",
       "      <td>0.0088</td>\n",
       "    </tr>\n",
       "    <tr>\n",
       "      <th>2016-01-29</th>\n",
       "      <td>0.0168</td>\n",
       "      <td>-0.0101</td>\n",
       "      <td>0.0410</td>\n",
       "      <td>0.0156</td>\n",
       "      <td>0.0115</td>\n",
       "      <td>0.0105</td>\n",
       "      <td>0.0186</td>\n",
       "    </tr>\n",
       "    <tr>\n",
       "      <th>2016-02-05</th>\n",
       "      <td>-0.0298</td>\n",
       "      <td>0.0258</td>\n",
       "      <td>-0.0767</td>\n",
       "      <td>0.0131</td>\n",
       "      <td>0.0073</td>\n",
       "      <td>-0.0268</td>\n",
       "      <td>0.0502</td>\n",
       "    </tr>\n",
       "    <tr>\n",
       "      <th>2016-02-12</th>\n",
       "      <td>-0.0070</td>\n",
       "      <td>-0.0085</td>\n",
       "      <td>-0.0651</td>\n",
       "      <td>0.0216</td>\n",
       "      <td>0.0076</td>\n",
       "      <td>-0.0420</td>\n",
       "      <td>0.0538</td>\n",
       "    </tr>\n",
       "  </tbody>\n",
       "</table>\n",
       "</div>"
      ],
      "text/plain": [
       "               SPY     BTC     USO     TLT     IEF     IYR     GLD\n",
       "date                                                              \n",
       "2016-01-15 -0.0214 -0.1439 -0.1031  0.0194  0.0078 -0.0307 -0.0151\n",
       "2016-01-22  0.0144 -0.0214  0.0546 -0.0033 -0.0011  0.0101  0.0088\n",
       "2016-01-29  0.0168 -0.0101  0.0410  0.0156  0.0115  0.0105  0.0186\n",
       "2016-02-05 -0.0298  0.0258 -0.0767  0.0131  0.0073 -0.0268  0.0502\n",
       "2016-02-12 -0.0070 -0.0085 -0.0651  0.0216  0.0076 -0.0420  0.0538"
      ]
     },
     "execution_count": 88,
     "metadata": {},
     "output_type": "execute_result"
    }
   ],
   "source": [
    "df_portfolio = dfs_raw[\"portfolio\"].set_index(\"date\")\n",
    "annual_factor = 52  # Weeks\n",
    "\n",
    "df_portfolio.head()"
   ]
  },
  {
   "cell_type": "markdown",
   "id": "eea0db3c",
   "metadata": {},
   "source": [
    "### 1.\n",
    "\n",
    "Assume the provided data is in terms of **excess** returns.\n",
    "\n",
    "Report the weights of the tangency portfolio.\n",
    "\n",
    "Report the weights of the MV portfolio which achieves a mean weekly return of `0.0025`."
   ]
  },
  {
   "cell_type": "code",
   "execution_count": 89,
   "id": "17f9a333",
   "metadata": {},
   "outputs": [
    {
     "data": {
      "text/html": [
       "<div>\n",
       "<style scoped>\n",
       "    .dataframe tbody tr th:only-of-type {\n",
       "        vertical-align: middle;\n",
       "    }\n",
       "\n",
       "    .dataframe tbody tr th {\n",
       "        vertical-align: top;\n",
       "    }\n",
       "\n",
       "    .dataframe thead th {\n",
       "        text-align: right;\n",
       "    }\n",
       "</style>\n",
       "<table border=\"1\" class=\"dataframe\">\n",
       "  <thead>\n",
       "    <tr style=\"text-align: right;\">\n",
       "      <th></th>\n",
       "      <th>Target 0.25% Weights</th>\n",
       "      <th>Tangency Weights</th>\n",
       "    </tr>\n",
       "  </thead>\n",
       "  <tbody>\n",
       "    <tr>\n",
       "      <th>SPY</th>\n",
       "      <td>0.4990</td>\n",
       "      <td>0.8576</td>\n",
       "    </tr>\n",
       "    <tr>\n",
       "      <th>BTC</th>\n",
       "      <td>0.0749</td>\n",
       "      <td>0.1417</td>\n",
       "    </tr>\n",
       "    <tr>\n",
       "      <th>USO</th>\n",
       "      <td>-0.0216</td>\n",
       "      <td>-0.0431</td>\n",
       "    </tr>\n",
       "    <tr>\n",
       "      <th>TLT</th>\n",
       "      <td>-0.2450</td>\n",
       "      <td>-0.0405</td>\n",
       "    </tr>\n",
       "    <tr>\n",
       "      <th>IEF</th>\n",
       "      <td>0.7575</td>\n",
       "      <td>0.1674</td>\n",
       "    </tr>\n",
       "    <tr>\n",
       "      <th>IYR</th>\n",
       "      <td>-0.2536</td>\n",
       "      <td>-0.4408</td>\n",
       "    </tr>\n",
       "    <tr>\n",
       "      <th>GLD</th>\n",
       "      <td>0.1888</td>\n",
       "      <td>0.3577</td>\n",
       "    </tr>\n",
       "  </tbody>\n",
       "</table>\n",
       "</div>"
      ],
      "text/plain": [
       "     Target 0.25% Weights  Tangency Weights\n",
       "SPY                0.4990            0.8576\n",
       "BTC                0.0749            0.1417\n",
       "USO               -0.0216           -0.0431\n",
       "TLT               -0.2450           -0.0405\n",
       "IEF                0.7575            0.1674\n",
       "IYR               -0.2536           -0.4408\n",
       "GLD                0.1888            0.3577"
      ]
     },
     "execution_count": 89,
     "metadata": {},
     "output_type": "execute_result"
    }
   ],
   "source": [
    "pmh.calc_target_ret_weights(0.0025, df_portfolio).iloc[:, :2]"
   ]
  },
  {
   "cell_type": "markdown",
   "id": "2b8805fd",
   "metadata": {},
   "source": [
    "### 2.\n",
    "\n",
    "Assume the provided data is in terms of **total** returns.\n",
    "\n",
    "Report the weights of the GMV portfolio\n",
    "\n",
    "Report the weights of the MV portfolio which achieves a mean weekly return of `0.0025`."
   ]
  },
  {
   "cell_type": "code",
   "execution_count": 90,
   "id": "ef19e5bd",
   "metadata": {},
   "outputs": [
    {
     "data": {
      "text/html": [
       "<div>\n",
       "<style scoped>\n",
       "    .dataframe tbody tr th:only-of-type {\n",
       "        vertical-align: middle;\n",
       "    }\n",
       "\n",
       "    .dataframe tbody tr th {\n",
       "        vertical-align: top;\n",
       "    }\n",
       "\n",
       "    .dataframe thead th {\n",
       "        text-align: right;\n",
       "    }\n",
       "</style>\n",
       "<table border=\"1\" class=\"dataframe\">\n",
       "  <thead>\n",
       "    <tr style=\"text-align: right;\">\n",
       "      <th></th>\n",
       "      <th>GMV Weights</th>\n",
       "    </tr>\n",
       "  </thead>\n",
       "  <tbody>\n",
       "    <tr>\n",
       "      <th>SPY</th>\n",
       "      <td>0.0921</td>\n",
       "    </tr>\n",
       "    <tr>\n",
       "      <th>BTC</th>\n",
       "      <td>-0.0010</td>\n",
       "    </tr>\n",
       "    <tr>\n",
       "      <th>USO</th>\n",
       "      <td>0.0027</td>\n",
       "    </tr>\n",
       "    <tr>\n",
       "      <th>TLT</th>\n",
       "      <td>-0.4770</td>\n",
       "    </tr>\n",
       "    <tr>\n",
       "      <th>IEF</th>\n",
       "      <td>1.4270</td>\n",
       "    </tr>\n",
       "    <tr>\n",
       "      <th>IYR</th>\n",
       "      <td>-0.0411</td>\n",
       "    </tr>\n",
       "    <tr>\n",
       "      <th>GLD</th>\n",
       "      <td>-0.0028</td>\n",
       "    </tr>\n",
       "  </tbody>\n",
       "</table>\n",
       "</div>"
      ],
      "text/plain": [
       "     GMV Weights\n",
       "SPY       0.0921\n",
       "BTC      -0.0010\n",
       "USO       0.0027\n",
       "TLT      -0.4770\n",
       "IEF       1.4270\n",
       "IYR      -0.0411\n",
       "GLD      -0.0028"
      ]
     },
     "execution_count": 90,
     "metadata": {},
     "output_type": "execute_result"
    }
   ],
   "source": [
    "pmh.calc_gmv_weights(df_portfolio)"
   ]
  },
  {
   "cell_type": "code",
   "execution_count": 91,
   "id": "8b9ab4ab",
   "metadata": {},
   "outputs": [
    {
     "data": {
      "text/html": [
       "<div>\n",
       "<style scoped>\n",
       "    .dataframe tbody tr th:only-of-type {\n",
       "        vertical-align: middle;\n",
       "    }\n",
       "\n",
       "    .dataframe tbody tr th {\n",
       "        vertical-align: top;\n",
       "    }\n",
       "\n",
       "    .dataframe thead th {\n",
       "        text-align: right;\n",
       "    }\n",
       "</style>\n",
       "<table border=\"1\" class=\"dataframe\">\n",
       "  <thead>\n",
       "    <tr style=\"text-align: right;\">\n",
       "      <th></th>\n",
       "      <th>Target 0.25% Weights</th>\n",
       "    </tr>\n",
       "  </thead>\n",
       "  <tbody>\n",
       "    <tr>\n",
       "      <th>SPY</th>\n",
       "      <td>0.4990</td>\n",
       "    </tr>\n",
       "    <tr>\n",
       "      <th>BTC</th>\n",
       "      <td>0.0749</td>\n",
       "    </tr>\n",
       "    <tr>\n",
       "      <th>USO</th>\n",
       "      <td>-0.0216</td>\n",
       "    </tr>\n",
       "    <tr>\n",
       "      <th>TLT</th>\n",
       "      <td>-0.2450</td>\n",
       "    </tr>\n",
       "    <tr>\n",
       "      <th>IEF</th>\n",
       "      <td>0.7575</td>\n",
       "    </tr>\n",
       "    <tr>\n",
       "      <th>IYR</th>\n",
       "      <td>-0.2536</td>\n",
       "    </tr>\n",
       "    <tr>\n",
       "      <th>GLD</th>\n",
       "      <td>0.1888</td>\n",
       "    </tr>\n",
       "  </tbody>\n",
       "</table>\n",
       "</div>"
      ],
      "text/plain": [
       "     Target 0.25% Weights\n",
       "SPY                0.4990\n",
       "BTC                0.0749\n",
       "USO               -0.0216\n",
       "TLT               -0.2450\n",
       "IEF                0.7575\n",
       "IYR               -0.2536\n",
       "GLD                0.1888"
      ]
     },
     "execution_count": 91,
     "metadata": {},
     "output_type": "execute_result"
    }
   ],
   "source": [
    "pmh.calc_target_ret_weights(0.0025, df_portfolio).iloc[:, :1]"
   ]
  },
  {
   "cell_type": "markdown",
   "id": "59976b89",
   "metadata": {},
   "source": [
    "### 3.\n",
    "\n",
    "Conceptually, what is the difference between the portfolios in part 1 and part 2?\n",
    "\n",
    "Mathematically, what is the difference in their optimizations?"
   ]
  },
  {
   "cell_type": "markdown",
   "id": "70a77606",
   "metadata": {},
   "source": [
    "todo"
   ]
  },
  {
   "cell_type": "markdown",
   "id": "140cbca4",
   "metadata": {},
   "source": [
    "### 4.\n",
    "\n",
    "#### (10pts)\n",
    "\n",
    "Consider the following:\n",
    "* drop `BTC` from the sample\n",
    "* target a weekly mean return of `.0025`.\n",
    "* assume once again that the provided data is **excess** returns.\n",
    "\n",
    "Using data only through 2021, \n",
    "* calculate the tangency weights\n",
    "* compute the performance of this tangency portfolio in the out-of-sample (OOS) period of 2022-2023.\n",
    "\n",
    "Report the\n",
    "* mean\n",
    "* vol\n",
    "* Sharpe\n",
    "\n",
    "Compare these three metrics with the equally-weighted portfolio for 2022-2023."
   ]
  },
  {
   "cell_type": "code",
   "execution_count": 92,
   "id": "fb19dfde",
   "metadata": {},
   "outputs": [],
   "source": [
    "# pmh.calc_summary_statistics(\n",
    "#     assets_excess_returns,\n",
    "#     annual_factor=annual_factor,\n",
    "#     keep_columns=['Annualized Vol', 'Annualized Mean', 'Annualized Sharpe']\n",
    "# )"
   ]
  },
  {
   "cell_type": "markdown",
   "id": "829ba75e",
   "metadata": {},
   "source": [
    "***"
   ]
  },
  {
   "cell_type": "markdown",
   "id": "3d666942",
   "metadata": {},
   "source": [
    "# 3.\n",
    "\n",
    "Forecast (total) returns on gold as tracked by the ETF ticker, $\\targ$. This ETF holds crude oil.\n",
    "\n",
    "As signals, use two interest rate signals, as seen in Treasury-notes. (No need to consider anything specific about Treasury notes, just read these as macroeconomic signals.)\n",
    "* Tnote rate\n",
    "* month-over-month change in the Tnote rate\n",
    "\n",
    "Find the all data needed for this problem in the sheet `forecasting`."
   ]
  },
  {
   "cell_type": "code",
   "execution_count": 93,
   "id": "42839db3",
   "metadata": {},
   "outputs": [
    {
     "data": {
      "text/html": [
       "<div>\n",
       "<style scoped>\n",
       "    .dataframe tbody tr th:only-of-type {\n",
       "        vertical-align: middle;\n",
       "    }\n",
       "\n",
       "    .dataframe tbody tr th {\n",
       "        vertical-align: top;\n",
       "    }\n",
       "\n",
       "    .dataframe thead th {\n",
       "        text-align: right;\n",
       "    }\n",
       "</style>\n",
       "<table border=\"1\" class=\"dataframe\">\n",
       "  <thead>\n",
       "    <tr style=\"text-align: right;\">\n",
       "      <th></th>\n",
       "      <th>USO</th>\n",
       "      <th>Tnote rate</th>\n",
       "      <th>Tnote rate change</th>\n",
       "    </tr>\n",
       "    <tr>\n",
       "      <th>date</th>\n",
       "      <th></th>\n",
       "      <th></th>\n",
       "      <th></th>\n",
       "    </tr>\n",
       "  </thead>\n",
       "  <tbody>\n",
       "    <tr>\n",
       "      <th>2009-05-31</th>\n",
       "      <td>0.2714</td>\n",
       "      <td>3.4650</td>\n",
       "      <td>0.3410</td>\n",
       "    </tr>\n",
       "    <tr>\n",
       "      <th>2009-06-30</th>\n",
       "      <td>0.0420</td>\n",
       "      <td>3.5230</td>\n",
       "      <td>0.0580</td>\n",
       "    </tr>\n",
       "    <tr>\n",
       "      <th>2009-07-31</th>\n",
       "      <td>-0.0295</td>\n",
       "      <td>3.5010</td>\n",
       "      <td>-0.0220</td>\n",
       "    </tr>\n",
       "    <tr>\n",
       "      <th>2009-08-31</th>\n",
       "      <td>-0.0206</td>\n",
       "      <td>3.4010</td>\n",
       "      <td>-0.1000</td>\n",
       "    </tr>\n",
       "    <tr>\n",
       "      <th>2009-09-30</th>\n",
       "      <td>0.0039</td>\n",
       "      <td>3.3070</td>\n",
       "      <td>-0.0940</td>\n",
       "    </tr>\n",
       "  </tbody>\n",
       "</table>\n",
       "</div>"
      ],
      "text/plain": [
       "               USO  Tnote rate  Tnote rate change\n",
       "date                                             \n",
       "2009-05-31  0.2714      3.4650             0.3410\n",
       "2009-06-30  0.0420      3.5230             0.0580\n",
       "2009-07-31 -0.0295      3.5010            -0.0220\n",
       "2009-08-31 -0.0206      3.4010            -0.1000\n",
       "2009-09-30  0.0039      3.3070            -0.0940"
      ]
     },
     "execution_count": 93,
     "metadata": {},
     "output_type": "execute_result"
    }
   ],
   "source": [
    "df_forecast = dfs_raw[\"forecasting\"].set_index(\"date\")\n",
    "annual_factor = 12  # Months\n",
    "\n",
    "df_forecast.head()"
   ]
  },
  {
   "cell_type": "markdown",
   "id": "2a7d9d6a",
   "metadata": {},
   "source": [
    "### 1.\n",
    "\n",
    "Estimate a forecasting regression of $\\targ$ on the two (lagged) signals.\n",
    "\n",
    "$$r_{t+1}^\\targ = \\alpha + \\beta^{x}x_t + \\beta^z z_t + \\epsilon_{t+1}$$\n",
    "\n",
    "where\n",
    "* $x$ denotes the interest-rate signal.\n",
    "* $z$ denotes the change in rate signal.\n",
    "\n",
    "Report the r-squared, as well as the OLS estimates for the intercept and the two betas. (No need to annualize the stats.)"
   ]
  },
  {
   "cell_type": "code",
   "execution_count": null,
   "id": "df638498",
   "metadata": {},
   "outputs": [
    {
     "data": {
      "text/html": [
       "<div>\n",
       "<style scoped>\n",
       "    .dataframe tbody tr th:only-of-type {\n",
       "        vertical-align: middle;\n",
       "    }\n",
       "\n",
       "    .dataframe tbody tr th {\n",
       "        vertical-align: top;\n",
       "    }\n",
       "\n",
       "    .dataframe thead th {\n",
       "        text-align: right;\n",
       "    }\n",
       "</style>\n",
       "<table border=\"1\" class=\"dataframe\">\n",
       "  <thead>\n",
       "    <tr style=\"text-align: right;\">\n",
       "      <th></th>\n",
       "      <th>USO</th>\n",
       "    </tr>\n",
       "  </thead>\n",
       "  <tbody>\n",
       "    <tr>\n",
       "      <th>Alpha</th>\n",
       "      <td>0.0201</td>\n",
       "    </tr>\n",
       "    <tr>\n",
       "      <th>R-Squared</th>\n",
       "      <td>0.0281</td>\n",
       "    </tr>\n",
       "    <tr>\n",
       "      <th>Tnote rate Beta</th>\n",
       "      <td>-0.0096</td>\n",
       "    </tr>\n",
       "    <tr>\n",
       "      <th>Tnote rate change Beta</th>\n",
       "      <td>0.0741</td>\n",
       "    </tr>\n",
       "  </tbody>\n",
       "</table>\n",
       "</div>"
      ],
      "text/plain": [
       "                           USO\n",
       "Alpha                   0.0201\n",
       "R-Squared               0.0281\n",
       "Tnote rate Beta        -0.0096\n",
       "Tnote rate change Beta  0.0741"
      ]
     },
     "execution_count": 94,
     "metadata": {},
     "output_type": "execute_result"
    }
   ],
   "source": [
    "reg = pmh.calc_regression(\n",
    "    df_forecast[\"USO\"].shift(-1), \n",
    "    df_forecast[[\"Tnote rate\", \"Tnote rate change\"]],\n",
    "    annual_factor=annual_factor,\n",
    "    keep_columns=['Alpha', 'Tnote rate Beta', 'Tnote rate change Beta', 'R-Squared'],\n",
    "    warnings=False,\n",
    "    # return_model=True,\n",
    "    # return_fitted_values=True,\n",
    ")\n",
    "reg = reg.drop(columns=[\"Annualized Alpha\"])\n",
    "reg.transpose()"
   ]
  },
  {
   "cell_type": "markdown",
   "id": "23724c47",
   "metadata": {},
   "source": [
    "### 2.\n",
    "\n",
    "Use your forecasted returns, $\\hat{r}^{\\targ}_{t+1}$ to build trading weights:\n",
    "\n",
    "$$w_t = 0.50 + 50\\;\\hat{r}^{\\targ}_{t+1}$$\n",
    "\n",
    "(So the rule says to hold 50% in the ETF plus/minus 50x the forecast. Recall the forecast is a monthly percentage, so it is a small number.)\n",
    "\n",
    "Calculate the return from implementing this strategy. Denote this as $r^x_t$.\n",
    "\n",
    "Report the first and last 5 values."
   ]
  },
  {
   "cell_type": "code",
   "execution_count": null,
   "id": "f3731184",
   "metadata": {},
   "outputs": [
    {
     "data": {
      "text/plain": [
       "date\n",
       "2009-06-30    0.0467\n",
       "2009-07-31   -0.0010\n",
       "2009-08-31    0.0052\n",
       "2009-09-30   -0.0019\n",
       "2009-10-31   -0.0367\n",
       "               ...  \n",
       "2023-06-30    0.0217\n",
       "2023-07-31    0.0534\n",
       "2023-08-31    0.0034\n",
       "2023-09-30    0.0034\n",
       "2023-10-31   -0.0791\n",
       "Length: 173, dtype: float64"
      ]
     },
     "metadata": {},
     "output_type": "display_data"
    }
   ],
   "source": [
    "r_hat = pmh.calc_regression(\n",
    "    df_forecast[\"USO\"].shift(-1), \n",
    "    df_forecast[[\"Tnote rate\", \"Tnote rate change\"]],\n",
    "    annual_factor=annual_factor,\n",
    "    keep_columns=['Alpha', 'Tnote rate Beta', 'Tnote rate change Beta', 'R-Squared'],\n",
    "    warnings=False,\n",
    "    return_fitted_values=True,\n",
    "    name_fitted_values=\"r_hat\"\n",
    ")\n",
    "r_hat = r_hat[\"r_hat\"]\n",
    "\n",
    "w_t = .5 + 50 * r_hat\n",
    "\n",
    "strat_return = w_t.shift(1) * df_forecast[\"USO\"]\n",
    "strat_return = strat_return.dropna()\n",
    "display(strat_return)"
   ]
  },
  {
   "cell_type": "markdown",
   "id": "e0085f68",
   "metadata": {},
   "source": [
    "### 3.\n",
    "\n",
    "Calculate the following (annualized) performance metrics for both the passive investment, $r^\\targ$, as well as the strategy implemented in the previous problem, $r^x$.\n",
    "\n",
    "* mean\n",
    "* volatility\n",
    "* max drawdown"
   ]
  },
  {
   "cell_type": "code",
   "execution_count": 96,
   "id": "6ce50533",
   "metadata": {},
   "outputs": [
    {
     "data": {
      "text/html": [
       "<div>\n",
       "<style scoped>\n",
       "    .dataframe tbody tr th:only-of-type {\n",
       "        vertical-align: middle;\n",
       "    }\n",
       "\n",
       "    .dataframe tbody tr th {\n",
       "        vertical-align: top;\n",
       "    }\n",
       "\n",
       "    .dataframe thead th {\n",
       "        text-align: right;\n",
       "    }\n",
       "</style>\n",
       "<table border=\"1\" class=\"dataframe\">\n",
       "  <thead>\n",
       "    <tr style=\"text-align: right;\">\n",
       "      <th></th>\n",
       "      <th>USD</th>\n",
       "      <th>strategy</th>\n",
       "    </tr>\n",
       "    <tr>\n",
       "      <th>date</th>\n",
       "      <th></th>\n",
       "      <th></th>\n",
       "    </tr>\n",
       "  </thead>\n",
       "  <tbody>\n",
       "    <tr>\n",
       "      <th>2009-05-31</th>\n",
       "      <td>0.2714</td>\n",
       "      <td>NaN</td>\n",
       "    </tr>\n",
       "    <tr>\n",
       "      <th>2009-06-30</th>\n",
       "      <td>0.0420</td>\n",
       "      <td>0.0467</td>\n",
       "    </tr>\n",
       "    <tr>\n",
       "      <th>2009-07-31</th>\n",
       "      <td>-0.0295</td>\n",
       "      <td>-0.0010</td>\n",
       "    </tr>\n",
       "    <tr>\n",
       "      <th>2009-08-31</th>\n",
       "      <td>-0.0206</td>\n",
       "      <td>0.0052</td>\n",
       "    </tr>\n",
       "    <tr>\n",
       "      <th>2009-09-30</th>\n",
       "      <td>0.0039</td>\n",
       "      <td>-0.0019</td>\n",
       "    </tr>\n",
       "    <tr>\n",
       "      <th>...</th>\n",
       "      <td>...</td>\n",
       "      <td>...</td>\n",
       "    </tr>\n",
       "    <tr>\n",
       "      <th>2023-07-31</th>\n",
       "      <td>0.1514</td>\n",
       "      <td>0.0534</td>\n",
       "    </tr>\n",
       "    <tr>\n",
       "      <th>2023-08-31</th>\n",
       "      <td>0.0258</td>\n",
       "      <td>0.0034</td>\n",
       "    </tr>\n",
       "    <tr>\n",
       "      <th>2023-09-30</th>\n",
       "      <td>0.0773</td>\n",
       "      <td>0.0034</td>\n",
       "    </tr>\n",
       "    <tr>\n",
       "      <th>2023-10-31</th>\n",
       "      <td>-0.0722</td>\n",
       "      <td>-0.0791</td>\n",
       "    </tr>\n",
       "    <tr>\n",
       "      <th>2023-11-30</th>\n",
       "      <td>-0.0333</td>\n",
       "      <td>NaN</td>\n",
       "    </tr>\n",
       "  </tbody>\n",
       "</table>\n",
       "<p>175 rows × 2 columns</p>\n",
       "</div>"
      ],
      "text/plain": [
       "               USD  strategy\n",
       "date                        \n",
       "2009-05-31  0.2714       NaN\n",
       "2009-06-30  0.0420    0.0467\n",
       "2009-07-31 -0.0295   -0.0010\n",
       "2009-08-31 -0.0206    0.0052\n",
       "2009-09-30  0.0039   -0.0019\n",
       "...            ...       ...\n",
       "2023-07-31  0.1514    0.0534\n",
       "2023-08-31  0.0258    0.0034\n",
       "2023-09-30  0.0773    0.0034\n",
       "2023-10-31 -0.0722   -0.0791\n",
       "2023-11-30 -0.0333       NaN\n",
       "\n",
       "[175 rows x 2 columns]"
      ]
     },
     "execution_count": 96,
     "metadata": {},
     "output_type": "execute_result"
    }
   ],
   "source": [
    "pd.DataFrame([df_forecast[\"USO\"], strat_return], index=[\"USD\", \"strategy\"]).T"
   ]
  },
  {
   "cell_type": "code",
   "execution_count": 97,
   "id": "f29422fc",
   "metadata": {},
   "outputs": [
    {
     "name": "stdout",
     "output_type": "stream",
     "text": [
      "Assuming excess returns were provided to calculate Sharpe. If returns were provided (steady of excess returns), the column \"Sharpe\" is actually \"Mean/Volatility\"\n"
     ]
    },
    {
     "data": {
      "text/html": [
       "<div>\n",
       "<style scoped>\n",
       "    .dataframe tbody tr th:only-of-type {\n",
       "        vertical-align: middle;\n",
       "    }\n",
       "\n",
       "    .dataframe tbody tr th {\n",
       "        vertical-align: top;\n",
       "    }\n",
       "\n",
       "    .dataframe thead th {\n",
       "        text-align: right;\n",
       "    }\n",
       "</style>\n",
       "<table border=\"1\" class=\"dataframe\">\n",
       "  <thead>\n",
       "    <tr style=\"text-align: right;\">\n",
       "      <th></th>\n",
       "      <th>Annualized Mean</th>\n",
       "      <th>Annualized Vol</th>\n",
       "      <th>Max Drawdown</th>\n",
       "    </tr>\n",
       "  </thead>\n",
       "  <tbody>\n",
       "    <tr>\n",
       "      <th>USO</th>\n",
       "      <td>-0.0208</td>\n",
       "      <td>0.3574</td>\n",
       "      <td>-0.9471</td>\n",
       "    </tr>\n",
       "    <tr>\n",
       "      <th>strategy</th>\n",
       "      <td>0.1701</td>\n",
       "      <td>0.3074</td>\n",
       "      <td>-0.6532</td>\n",
       "    </tr>\n",
       "  </tbody>\n",
       "</table>\n",
       "</div>"
      ],
      "text/plain": [
       "          Annualized Mean  Annualized Vol  Max Drawdown\n",
       "USO               -0.0208          0.3574       -0.9471\n",
       "strategy           0.1701          0.3074       -0.6532"
      ]
     },
     "execution_count": 97,
     "metadata": {},
     "output_type": "execute_result"
    }
   ],
   "source": [
    "df_data = pd.DataFrame([df_forecast[\"USO\"], strat_return], index=[\"USO\", \"strategy\"])\n",
    "df_data = df_data.T.dropna()\n",
    "\n",
    "pmh.calc_summary_statistics(\n",
    "    df_data,\n",
    "    annual_factor=annual_factor,\n",
    "    keep_columns=['Annualized Vol', 'Annualized Mean', 'Max Drawdown']\n",
    ")"
   ]
  },
  {
   "cell_type": "markdown",
   "id": "58ed3942",
   "metadata": {},
   "source": [
    "### 4.\n",
    "\n",
    "#### (7pts)\n",
    "\n",
    "\n",
    "Suppose we are assessing the returns to this active strategy, $r^x$, without knowing how it is generated. \n",
    "\n",
    "Use a regression (with an intercept) to report the optimal hedge ratio of passive $\\targ$ to this active strategy. \n",
    "\n",
    "* Report the hedge ratio, being clear about whether you are going long or short $\\targ$ in order to hedge.\n",
    "\n",
    "* What is the mean return of the hedged active strategy?"
   ]
  },
  {
   "cell_type": "code",
   "execution_count": null,
   "id": "f0bbb581",
   "metadata": {},
   "outputs": [
    {
     "data": {
      "text/plain": [
       "-0.23513139304045447"
      ]
     },
     "execution_count": 98,
     "metadata": {},
     "output_type": "execute_result"
    }
   ],
   "source": [
    "reg = pmh.calc_regression(\n",
    "    df_data[\"strategy\"], \n",
    "    df_data[[\"USO\"]],\n",
    "    annual_factor=annual_factor,\n",
    "    keep_columns=['USO Beta'],\n",
    "    warnings=False,\n",
    "    intercept=True,\n",
    "    # return_model=True,\n",
    "    # return_fitted_values=True,\n",
    ")\n",
    "hedge_ratio = -1 * reg.transpose().iloc[0,0]\n",
    "hedge_ratio"
   ]
  },
  {
   "cell_type": "markdown",
   "id": "d9e78730",
   "metadata": {},
   "source": [
    "I would short -.235 of USO for every \"unit\" of my strategy"
   ]
  },
  {
   "cell_type": "code",
   "execution_count": 99,
   "id": "1b17ef07",
   "metadata": {},
   "outputs": [
    {
     "data": {
      "text/plain": [
       "0.17498036679787982"
      ]
     },
     "execution_count": 99,
     "metadata": {},
     "output_type": "execute_result"
    }
   ],
   "source": [
    "(np.mean(df_data[\"strategy\"]) + hedge_ratio * np.mean(df_data[\"USO\"])) * 12"
   ]
  },
  {
   "cell_type": "markdown",
   "id": "7c38fd9f",
   "metadata": {},
   "source": [
    "The strategy has 17% yearly return"
   ]
  },
  {
   "cell_type": "markdown",
   "id": "8d7ae67f",
   "metadata": {},
   "source": [
    "### 5.\n",
    "\n",
    "#### (8pts)\n",
    "\n",
    "For the rest of the problem, consider the out-of-sample (OOS) performance of the strategy.\n",
    "\n",
    "Forecast values of $\\targ$ for January 2018 through Dec 2023. (So we are using the data up until January 2018 as “burn-in” data.)\n",
    "* Loop through time, estimating the forecast only using data through time $t$.\n",
    "* At each step, calculate the next OOS forecast, $\\hat{r}^{\\targ}_{t+1}$.\n",
    "\n",
    "Report the first and last 5 values of your OOS forecast, $\\hat{r}^{\\targ}_{t+1}$."
   ]
  },
  {
   "cell_type": "code",
   "execution_count": 137,
   "id": "bb9c81ab",
   "metadata": {},
   "outputs": [
    {
     "data": {
      "text/plain": [
       "USO                 0.0808\n",
       "Tnote rate          2.7200\n",
       "Tnote rate change   0.3150\n",
       "Name: 2018-01-31 00:00:00, dtype: float64"
      ]
     },
     "execution_count": 137,
     "metadata": {},
     "output_type": "execute_result"
    }
   ],
   "source": [
    "df_forecast.iloc[104]"
   ]
  },
  {
   "cell_type": "code",
   "execution_count": 161,
   "id": "faf5f72f",
   "metadata": {},
   "outputs": [],
   "source": [
    "# todo review"
   ]
  },
  {
   "cell_type": "code",
   "execution_count": 160,
   "id": "9f3a08bb",
   "metadata": {},
   "outputs": [
    {
     "data": {
      "text/html": [
       "<div>\n",
       "<style scoped>\n",
       "    .dataframe tbody tr th:only-of-type {\n",
       "        vertical-align: middle;\n",
       "    }\n",
       "\n",
       "    .dataframe tbody tr th {\n",
       "        vertical-align: top;\n",
       "    }\n",
       "\n",
       "    .dataframe thead th {\n",
       "        text-align: right;\n",
       "    }\n",
       "</style>\n",
       "<table border=\"1\" class=\"dataframe\">\n",
       "  <thead>\n",
       "    <tr style=\"text-align: right;\">\n",
       "      <th></th>\n",
       "      <th>r_hat</th>\n",
       "    </tr>\n",
       "    <tr>\n",
       "      <th>date</th>\n",
       "      <th></th>\n",
       "    </tr>\n",
       "  </thead>\n",
       "  <tbody>\n",
       "    <tr>\n",
       "      <th>2018-01-31</th>\n",
       "      <td>0.0022</td>\n",
       "    </tr>\n",
       "    <tr>\n",
       "      <th>2018-02-28</th>\n",
       "      <td>-0.0051</td>\n",
       "    </tr>\n",
       "    <tr>\n",
       "      <th>2018-03-31</th>\n",
       "      <td>-0.0120</td>\n",
       "    </tr>\n",
       "    <tr>\n",
       "      <th>2018-04-30</th>\n",
       "      <td>-0.0023</td>\n",
       "    </tr>\n",
       "    <tr>\n",
       "      <th>2018-05-31</th>\n",
       "      <td>-0.0110</td>\n",
       "    </tr>\n",
       "    <tr>\n",
       "      <th>...</th>\n",
       "      <td>...</td>\n",
       "    </tr>\n",
       "    <tr>\n",
       "      <th>2023-07-31</th>\n",
       "      <td>-0.0064</td>\n",
       "    </tr>\n",
       "    <tr>\n",
       "      <th>2023-08-31</th>\n",
       "      <td>-0.0070</td>\n",
       "    </tr>\n",
       "    <tr>\n",
       "      <th>2023-09-30</th>\n",
       "      <td>0.0192</td>\n",
       "    </tr>\n",
       "    <tr>\n",
       "      <th>2023-10-31</th>\n",
       "      <td>-0.0023</td>\n",
       "    </tr>\n",
       "    <tr>\n",
       "      <th>2023-11-30</th>\n",
       "      <td>-0.0655</td>\n",
       "    </tr>\n",
       "  </tbody>\n",
       "</table>\n",
       "<p>71 rows × 1 columns</p>\n",
       "</div>"
      ],
      "text/plain": [
       "             r_hat\n",
       "date              \n",
       "2018-01-31  0.0022\n",
       "2018-02-28 -0.0051\n",
       "2018-03-31 -0.0120\n",
       "2018-04-30 -0.0023\n",
       "2018-05-31 -0.0110\n",
       "...            ...\n",
       "2023-07-31 -0.0064\n",
       "2023-08-31 -0.0070\n",
       "2023-09-30  0.0192\n",
       "2023-10-31 -0.0023\n",
       "2023-11-30 -0.0655\n",
       "\n",
       "[71 rows x 1 columns]"
      ]
     },
     "metadata": {},
     "output_type": "display_data"
    }
   ],
   "source": [
    "idx_start = 104\n",
    "data = []\n",
    "for idx in range(idx_start, df_forecast.shape[0]):\n",
    "    df_temp = df_forecast.iloc[:idx+1]\n",
    "    df_temp[\"USO\"] = df_temp[\"USO\"].shift(-1)\n",
    "    df_temp = df_temp.dropna()\n",
    "    \n",
    "    # Run reg\n",
    "    reg = pmh.calc_regression(\n",
    "        df_temp[\"USO\"], \n",
    "        df_temp[[\"Tnote rate\", \"Tnote rate change\"]],\n",
    "        annual_factor=annual_factor,\n",
    "        keep_columns=['Alpha', 'Tnote rate Beta', 'Tnote rate change Beta'],\n",
    "        warnings=False,\n",
    "    )\n",
    "    alpha = reg[\"Alpha\"].iloc[-1]\n",
    "    beta = reg[[\"Tnote rate Beta\", \"Tnote rate change Beta\"]].values[0]\n",
    "    \n",
    "    # Predict\n",
    "    r_hat = alpha + beta.dot(df_forecast[[\"Tnote rate\", \"Tnote rate change\"]].iloc[idx])\n",
    "    date = df_forecast.index[idx]\n",
    "    \n",
    "    data.append({\n",
    "        \"date\": date,\n",
    "        \"r_hat\": r_hat,\n",
    "    })\n",
    "df_data = pd.DataFrame(data).set_index(\"date\")\n",
    "display(df_data)"
   ]
  },
  {
   "cell_type": "markdown",
   "id": "8aedbe05",
   "metadata": {},
   "source": [
    "idx_start = 104\n",
    "for idx in range"
   ]
  },
  {
   "cell_type": "code",
   "execution_count": null,
   "id": "3f9c9b58",
   "metadata": {},
   "outputs": [],
   "source": [
    "reg = pmh.calc_regression(\n",
    "    df_forecast[\"USO\"].shift(-1), \n",
    "    df_forecast[[\"Tnote rate\", \"Tnote rate change\"]],\n",
    "    annual_factor=annual_factor,\n",
    "    keep_columns=['Alpha', 'Tnote rate Beta', 'Tnote rate change Beta', 'R-Squared'],\n",
    "    warnings=False,\n",
    "    # return_model=True,\n",
    "    # return_fitted_values=True,\n",
    ")\n",
    "reg = reg.drop(columns=[\"Annualized Alpha\"])\n",
    "reg.transpose()"
   ]
  },
  {
   "cell_type": "markdown",
   "id": "d06f1e66",
   "metadata": {},
   "source": [
    "todo"
   ]
  },
  {
   "cell_type": "markdown",
   "id": "e219d4a1",
   "metadata": {},
   "source": [
    "### 6. \n",
    "\n",
    "#### (8pts)\n",
    "\n",
    "Report the out-of-sample r-squared, relative to a baseline forecast which is simply the mean of $\\targ$ up to the point the forecast is made.\n",
    "\n",
    "Does the forecast seem effective?"
   ]
  },
  {
   "cell_type": "markdown",
   "id": "17b18e0f",
   "metadata": {},
   "source": [
    "### 7. \n",
    "\n",
    "Report the correlation between \n",
    "* OOS forecast\n",
    "* realized value of $\\targ$.\n",
    "\n",
    "In light of this, how effective does the forecast seem?"
   ]
  },
  {
   "cell_type": "markdown",
   "id": "20fa6765",
   "metadata": {},
   "source": [
    "### 8.\n",
    "\n",
    "#### (7pts)\n",
    "\n",
    "Convert your OOS forecast to a traded return strategy, using the same allocation rule as in part 2.\n",
    "\n",
    "Report the following performance stats for the OOS forecast strategy.\n",
    "\n",
    "* mean\n",
    "* volatility\n",
    "* max-drawdown\n",
    "\n",
    "Compare these with the passive return, $r^\\targ$ over the same OOS window."
   ]
  },
  {
   "cell_type": "markdown",
   "id": "39f49e1d",
   "metadata": {},
   "source": [
    "***"
   ]
  },
  {
   "cell_type": "markdown",
   "id": "1ad0fe9b",
   "metadata": {},
   "source": [
    "# 4. "
   ]
  },
  {
   "cell_type": "markdown",
   "id": "b8d54909",
   "metadata": {},
   "source": [
    "We examine FX carry for trading the Mexican peso $\\frn$.\n",
    "* Find the FX and risk-free rate data for this problem on sheet `fx_carry`. As before, these are spot FX prices quoted as USD per $\\frn$.\n",
    "* SOFR is the risk-free rate on USD, and $\\frnrate$ is the risk-free rate for $\\frn$.\n",
    "* As in Homework 8, the data is provided such that any row’s date, $t$, is reporting $S_t$ and $r^f_{t,t+1}$.\n",
    "That is, both of these are known at time t."
   ]
  },
  {
   "cell_type": "code",
   "execution_count": 100,
   "id": "fd1bb4c8",
   "metadata": {},
   "outputs": [
    {
     "data": {
      "text/html": [
       "<div>\n",
       "<style scoped>\n",
       "    .dataframe tbody tr th:only-of-type {\n",
       "        vertical-align: middle;\n",
       "    }\n",
       "\n",
       "    .dataframe tbody tr th {\n",
       "        vertical-align: top;\n",
       "    }\n",
       "\n",
       "    .dataframe thead th {\n",
       "        text-align: right;\n",
       "    }\n",
       "</style>\n",
       "<table border=\"1\" class=\"dataframe\">\n",
       "  <thead>\n",
       "    <tr style=\"text-align: right;\">\n",
       "      <th></th>\n",
       "      <th>MXN</th>\n",
       "      <th>SOFR</th>\n",
       "      <th>MXSTR</th>\n",
       "    </tr>\n",
       "    <tr>\n",
       "      <th>date</th>\n",
       "      <th></th>\n",
       "      <th></th>\n",
       "      <th></th>\n",
       "    </tr>\n",
       "  </thead>\n",
       "  <tbody>\n",
       "    <tr>\n",
       "      <th>2018-04-03</th>\n",
       "      <td>0.0550</td>\n",
       "      <td>0.0001</td>\n",
       "      <td>0.0003</td>\n",
       "    </tr>\n",
       "    <tr>\n",
       "      <th>2018-04-04</th>\n",
       "      <td>0.0549</td>\n",
       "      <td>0.0001</td>\n",
       "      <td>0.0003</td>\n",
       "    </tr>\n",
       "    <tr>\n",
       "      <th>2018-04-05</th>\n",
       "      <td>0.0552</td>\n",
       "      <td>0.0001</td>\n",
       "      <td>0.0003</td>\n",
       "    </tr>\n",
       "    <tr>\n",
       "      <th>2018-04-06</th>\n",
       "      <td>0.0546</td>\n",
       "      <td>0.0001</td>\n",
       "      <td>0.0003</td>\n",
       "    </tr>\n",
       "    <tr>\n",
       "      <th>2018-04-09</th>\n",
       "      <td>0.0549</td>\n",
       "      <td>0.0001</td>\n",
       "      <td>0.0003</td>\n",
       "    </tr>\n",
       "  </tbody>\n",
       "</table>\n",
       "</div>"
      ],
      "text/plain": [
       "              MXN   SOFR  MXSTR\n",
       "date                           \n",
       "2018-04-03 0.0550 0.0001 0.0003\n",
       "2018-04-04 0.0549 0.0001 0.0003\n",
       "2018-04-05 0.0552 0.0001 0.0003\n",
       "2018-04-06 0.0546 0.0001 0.0003\n",
       "2018-04-09 0.0549 0.0001 0.0003"
      ]
     },
     "execution_count": 100,
     "metadata": {},
     "output_type": "execute_result"
    }
   ],
   "source": [
    "df_fx = dfs_raw[\"fx_carry\"].set_index(\"date\")\n",
    "annual_factor = 252  # days\n",
    "\n",
    "df_fx.head()"
   ]
  },
  {
   "cell_type": "markdown",
   "id": "d7b43578",
   "metadata": {},
   "source": [
    "### 1.\n",
    "#### (3pts)\n",
    "\n",
    "Transform the data to **log** FX prices and **log** interest rates, just as we did in Homework 8.\n",
    "\n",
    "$$\\begin{align}\n",
    "\\fxspot_t & \\equiv \\ln\\left(\\FXspot_t\\right)\\\\[3pt]\n",
    "\\rflogusd_{\\wintt} & \\equiv \\ln\\left(1+r^{\\text{USD}}_{\\wintt}\\right)\\\\[3pt]\n",
    "\\rflogfrn_{\\wintt} & \\equiv \\ln\\left(1+r^{\\frn}_{\\wintt}\\right)\\\\\n",
    "\\end{align}$$\n",
    "\n",
    "\n",
    "Display the mean of all three series."
   ]
  },
  {
   "cell_type": "code",
   "execution_count": 106,
   "id": "fbb41f73",
   "metadata": {},
   "outputs": [
    {
     "data": {
      "text/plain": [
       "MXN      8\n",
       "SOFR     0\n",
       "MXSTR    0\n",
       "dtype: int64"
      ]
     },
     "execution_count": 106,
     "metadata": {},
     "output_type": "execute_result"
    }
   ],
   "source": [
    "df_fx.isna().sum()"
   ]
  },
  {
   "cell_type": "code",
   "execution_count": 111,
   "id": "87e4c4bf",
   "metadata": {},
   "outputs": [
    {
     "data": {
      "text/plain": [
       "MXN     -2.9813\n",
       "SOFR     0.0001\n",
       "MXSTR    0.0003\n",
       "dtype: float64"
      ]
     },
     "execution_count": 111,
     "metadata": {},
     "output_type": "execute_result"
    }
   ],
   "source": [
    "# $$\\begin{align}\n",
    "# \\fxspot_t & \\equiv \\ln\\left(\\FXspot_t\\right)\\\\[3pt]\n",
    "# \\rflogusd_{\\wintt} & \\equiv \\ln\\left(1+r^{\\text{USD}}_{\\wintt}\\right)\\\\[3pt]\n",
    "# \\rflogfrn_{\\wintt} & \\equiv \\ln\\left(1+r^{\\frn}_{\\wintt}\\right)\\\\\n",
    "# \\end{align}$$\n",
    "\n",
    "df_log_fx = (df_fx\n",
    "             .copy()\n",
    "             .ffill()\n",
    "             .assign(MXN=lambda df: np.log(df[\"MXN\"]))\n",
    "             .assign(SOFR=lambda df: np.log(1 + df[\"SOFR\"]))\n",
    "             .assign(MXSTR=lambda df: np.log(1 + df[\"MXSTR\"]))\n",
    "             )\n",
    "df_log_fx.mean()"
   ]
  },
  {
   "cell_type": "markdown",
   "id": "16c8af81",
   "metadata": {},
   "source": [
    "### 2.\n",
    "\n",
    "Calculate the excess log return to a USD investor of holding $\\frn$. Report the following **annualized** stats...\n",
    "* Mean\n",
    "* Volatility\n",
    "* Sharpe ratio.\n",
    "\n",
    "Assume there are 252 reported days per year for pursposes of annnualization."
   ]
  },
  {
   "cell_type": "code",
   "execution_count": 125,
   "id": "ba55c094",
   "metadata": {},
   "outputs": [
    {
     "name": "stdout",
     "output_type": "stream",
     "text": [
      "Assuming excess returns were provided to calculate Sharpe. If returns were provided (steady of excess returns), the column \"Sharpe\" is actually \"Mean/Volatility\"\n"
     ]
    },
    {
     "data": {
      "text/html": [
       "<div>\n",
       "<style scoped>\n",
       "    .dataframe tbody tr th:only-of-type {\n",
       "        vertical-align: middle;\n",
       "    }\n",
       "\n",
       "    .dataframe tbody tr th {\n",
       "        vertical-align: top;\n",
       "    }\n",
       "\n",
       "    .dataframe thead th {\n",
       "        text-align: right;\n",
       "    }\n",
       "</style>\n",
       "<table border=\"1\" class=\"dataframe\">\n",
       "  <thead>\n",
       "    <tr style=\"text-align: right;\">\n",
       "      <th></th>\n",
       "      <th>Annualized Mean</th>\n",
       "      <th>Annualized Vol</th>\n",
       "      <th>Annualized Sharpe</th>\n",
       "    </tr>\n",
       "  </thead>\n",
       "  <tbody>\n",
       "    <tr>\n",
       "      <th>Excess Log Return</th>\n",
       "      <td>0.0635</td>\n",
       "      <td>0.1280</td>\n",
       "      <td>0.4963</td>\n",
       "    </tr>\n",
       "  </tbody>\n",
       "</table>\n",
       "</div>"
      ],
      "text/plain": [
       "                   Annualized Mean  Annualized Vol  Annualized Sharpe\n",
       "Excess Log Return           0.0635          0.1280             0.4963"
      ]
     },
     "execution_count": 125,
     "metadata": {},
     "output_type": "execute_result"
    }
   ],
   "source": [
    "temp = df_log_fx[\"MXSTR\"] + df_log_fx[\"MXN\"].shift(-1) - df_log_fx[\"SOFR\"] - df_log_fx[\"MXN\"]\n",
    "\n",
    "temp = temp.to_frame(\"Excess Log Return\")\n",
    "# temp[\"USD\"] = df_log_fx[\"SOFR\"]\n",
    "\n",
    "pmh.calc_summary_statistics(\n",
    "    temp,\n",
    "    annual_factor=annual_factor,\n",
    "    keep_columns=['Annualized Vol', 'Annualized Mean', 'Annualized Sharpe']\n",
    ")\n"
   ]
  },
  {
   "cell_type": "markdown",
   "id": "882a14ec",
   "metadata": {},
   "source": [
    "### 3. \n",
    "\n",
    "Over the sample, was it better to be long or short $\\frn$ relative to USD?\n",
    "* Did the interest spread help on average?\n",
    "* Did the USD appreciate or depreciate relative to $\\frn$ over the sample?"
   ]
  },
  {
   "cell_type": "markdown",
   "id": "2ee4a396",
   "metadata": {},
   "source": [
    "todo?"
   ]
  },
  {
   "cell_type": "markdown",
   "id": "966c2e52",
   "metadata": {},
   "source": [
    "### 4.\n",
    "\n",
    "#### (7pts)\n",
    "\n",
    "Forecast the growth of the FX rate using the interest-rate differential:\n",
    "\n",
    "$$\\fxspot_{t+1} - \\fxspot_t = \\alpha + \\beta\\left(\\rflogusd_{\\wintt} - \\rflogfrn_{\\wintt}\\right) + \\epsilon_{t+1}$$\n",
    "\n",
    "Report the following OLS stats, (no need to annualize or scale them.)\n",
    "* $\\alpha$\n",
    "* $\\beta$\n",
    "* r-squared"
   ]
  },
  {
   "cell_type": "markdown",
   "id": "c0853d98",
   "metadata": {},
   "source": [
    "### 5. \n",
    "\n",
    "If we assume the Uncovered Interest Parity to hold true, what would you expect to be true of the regression estimates?"
   ]
  },
  {
   "cell_type": "code",
   "execution_count": null,
   "id": "4396b44b",
   "metadata": {},
   "outputs": [],
   "source": [
    "alpha=0, beta = 1"
   ]
  },
  {
   "cell_type": "markdown",
   "id": "451d9df9",
   "metadata": {},
   "source": [
    "### 6.\n",
    "\n",
    "Based on the regression results, if we observe an increase in the interest rate on USD relative to $\\frn$, should we expect the USD to get stronger (appreciate) or weaker (depreciate)?"
   ]
  },
  {
   "cell_type": "markdown",
   "id": "82badb39",
   "metadata": {},
   "source": [
    "### 7.\n",
    "\n",
    "If the risk free rates in $\\frn$ increase relative to risk-free rates in USD, do we expect the forward exchange rate to be higher than the spot exchange rate?"
   ]
  },
  {
   "cell_type": "markdown",
   "id": "a5176e26",
   "metadata": {},
   "source": [
    "### 8.\n",
    "\n",
    "Do you think the estimated forecast impact of rates on currency returns would be larger over an annual horizon instead of a daily horizon? Why?"
   ]
  },
  {
   "cell_type": "markdown",
   "id": "c9eb0321",
   "metadata": {},
   "source": [
    "***"
   ]
  }
 ],
 "metadata": {
  "hide_input": false,
  "kernelspec": {
   "display_name": "git_finm-portfolio-2024",
   "language": "python",
   "name": "python3"
  },
  "language_info": {
   "codemirror_mode": {
    "name": "ipython",
    "version": 3
   },
   "file_extension": ".py",
   "mimetype": "text/x-python",
   "name": "python",
   "nbconvert_exporter": "python",
   "pygments_lexer": "ipython3",
   "version": "3.11.9"
  }
 },
 "nbformat": 4,
 "nbformat_minor": 5
}
