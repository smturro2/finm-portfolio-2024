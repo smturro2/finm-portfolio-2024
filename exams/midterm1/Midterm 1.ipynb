{
 "cells": [
  {
   "cell_type": "code",
   "execution_count": 350,
   "id": "1f7690a2",
   "metadata": {},
   "outputs": [],
   "source": [
    "import pandas as pd\n",
    "import numpy as np\n",
    "import matplotlib.pyplot as plt\n",
    "import os\n",
    "import sys\n",
    "import statsmodels.api as sm\n",
    "import scipy.stats as stats\n",
    "import seaborn as sns\n",
    "import statsmodels.formula.api as smf\n",
    "\n",
    "import TA_utils as ta\n",
    "\n",
    "# if os.getcwd().split(\"\\\\\")[-1] == \"midter\":\n",
    "#     os.chdir(\"../\")\n",
    "\n",
    "# current_dir = os.getcwd()\n",
    "# if current_dir[-16:] == \"midterm_practice\":\n",
    "#     parent_dir = os.path.abspath(os.path.join(current_dir, os.pardir))\n",
    "#     parent_dir = os.path.abspath(os.path.join(parent_dir, os.pardir))\n",
    "    \n",
    "#     os.chdir(parent_dir)\n",
    "#     sys.path.insert(0, parent_dir)\n",
    "# import cmds.portfolio_management_helper as pmh"
   ]
  },
  {
   "cell_type": "markdown",
   "id": "559895d2",
   "metadata": {},
   "source": [
    "# Midterm 1\n",
    "\n",
    "## FINM 36700 - 2024\n",
    "\n",
    "### UChicago Financial Mathematics\n",
    "\n",
    "* Mark Hendricks\n",
    "* hendricks@uchicago.edu"
   ]
  },
  {
   "cell_type": "markdown",
   "id": "01cde8d3",
   "metadata": {},
   "source": [
    "# Instructions"
   ]
  },
  {
   "cell_type": "markdown",
   "id": "cc273c1a",
   "metadata": {},
   "source": [
    "## Please note the following:\n",
    "\n",
    "Points\n",
    "* The exam is `100` points.\n",
    "* You have `125` minutes to complete the exam.\n",
    "* For every minute late you submit the exam, you will lose one point.\n",
    "\n",
    "\n",
    "Submission\n",
    "* You will upload your solution to the `Midterm 1` assignment on Canvas, where you downloaded this. (Be sure to **submit** on Canvas, not just **save** on Canvas.\n",
    "* Your submission should be readable, (the graders can understand your answers,)\n",
    "* and it should **include all code used in your analysis in a file format that the code can be executed.** \n",
    "\n",
    "Rules\n",
    "* The exam is open-material, closed-communication.\n",
    "* You do not need to cite material from the course github repo--you are welcome to use the code posted there without citation.\n",
    "\n",
    "Advice\n",
    "* If you find any question to be unclear, state your interpretation and proceed. We will only answer questions of interpretation if there is a typo, error, etc.\n",
    "* The exam will be graded for partial credit."
   ]
  },
  {
   "cell_type": "markdown",
   "id": "624f27b1",
   "metadata": {},
   "source": [
    "## Data\n",
    "\n",
    "**All data files are found in the class github repo, in the `data` folder.**\n",
    "\n",
    "This exam makes use of the following data files:\n",
    "* `midterm_1_data.xlsx`\n",
    "\n",
    "This file has sheets for...\n",
    "* `stocks excess returns` - excess returns of the 14 biggest companies in the S&P.\n",
    "* `proshares excess returns` - excess returns of ETFs and indexes from the Proshares case study.\n",
    "* `fx carry excess returns` - excess returns from FX products.\n",
    "\n",
    "Note the data is **monthly** for the first two sheets (stocks and proshares). Any annualizations for those two sheets should use `12` months in a year. Annualization for the third sheet (fx carry excess returns) is explained in section 4."
   ]
  },
  {
   "cell_type": "code",
   "execution_count": 351,
   "id": "0bbc7166",
   "metadata": {},
   "outputs": [
    {
     "name": "stdout",
     "output_type": "stream",
     "text": [
      "stocks excess returns: (148, 15)\n",
      "proshares excess returns: (158, 10)\n",
      "fx carry returns: (1305, 6)\n"
     ]
    }
   ],
   "source": [
    "file_path = r\"midterm_1_data.xlsx\"\n",
    "dfs_raw = pd.read_excel(file_path, sheet_name=None)\n",
    "for key in dfs_raw.keys():\n",
    "    print(f\"{key}: {dfs_raw[key].shape}\")\n",
    "\n",
    "# ticker_mapping = {tick: name \n",
    "#                   for tick, name in zip(dfs_raw['info'].iloc[:, 0], \n",
    "#                                                 dfs_raw['info'].iloc[:, 1])}\n",
    "# ticker_mapping"
   ]
  },
  {
   "cell_type": "markdown",
   "id": "ebf6e066",
   "metadata": {},
   "source": [
    "## Scoring\n",
    "\n",
    "| Problem | Points |\n",
    "|---------|--------|\n",
    "| 1       | 15     |\n",
    "| 2       | 25     |\n",
    "| 3       | 35     |\n",
    "| 4       | 25     |"
   ]
  },
  {
   "cell_type": "markdown",
   "id": "7fb2fc26",
   "metadata": {},
   "source": [
    "### Each numbered question is worth 5 points unless otherwise specified."
   ]
  },
  {
   "cell_type": "markdown",
   "id": "632ce7d4",
   "metadata": {},
   "source": [
    "***"
   ]
  },
  {
   "cell_type": "markdown",
   "id": "50a39225-f8d7-4a42-a675-fb9716e55932",
   "metadata": {},
   "source": [
    "# 1. Short Answer"
   ]
  },
  {
   "cell_type": "markdown",
   "id": "127d44ea-9d06-4bba-ac24-f19e9376c8d6",
   "metadata": {},
   "source": [
    "#### No Data Needed\n",
    "\n",
    "These problems do not require any data file. Rather, analyze them conceptually. "
   ]
  },
  {
   "cell_type": "markdown",
   "id": "668aaba8-6dcf-4700-9714-36111e1c67af",
   "metadata": {},
   "source": [
    "### 1.\n",
    "\n",
    "#### (10pts)\n",
    "\n",
    "In the mean-variance optimization of `homework 1`, suppose we found the mean excess return of TIPS is 4% annualized.\n",
    "\n",
    "Explain--conceptually--how each of the following would have impacted the new (with TIPS) MV solution.\n",
    "* TIPS is found to have correlation of 0% to `IEF` and 0% to SPY.\n",
    "* TIPS is found to have correlation of 100% to `IEF`.\n",
    "\n",
    "Would it be possible for TIPS to have been found to have 0% correlation to every other asset in `homework 1`? Explain."
   ]
  },
  {
   "cell_type": "markdown",
   "id": "94c2b555",
   "metadata": {},
   "source": [
    "**TIPS is found to have correlation of 0% to `IEF` and 0% to SPY.**\n",
    "If TIPS was found to be uncorrelated to SPY and IEF, it would likely have low correlation to the other assets as well. This would make it a very appealing asset to invest in, allowing more diversification.\n",
    "So TIPS would likely have a higher weight in the MV solution and would likely reduce the overall risk of the portfolio.\n",
    "\n",
    "**TIPS is found to have correlation of 100% to `IEF`.**\n",
    "\n",
    "If TIPS is found to have a 100% correlation with IEF, there would be computational issues in our problem. Our covariance matrix would be singular and we would not be able to solve for the weights.\n",
    "\n",
    "**Would it be possible for TIPS to have been found to have 0% correlation to every other asset in `homework 1`? **\n",
    "\n",
    "Very unlikely in practice. The payoff of a TIPS is very similar to a bond. When inflation is small, the cashflows from a TIPS are very similar to a bond. If the pay offs of the instrument are very similar, they must have the same return. Finally have have seen periods of low inflation, therefore we must have seen periods where the returns from TIPS are similar to the returns of bonds."
   ]
  },
  {
   "cell_type": "markdown",
   "id": "fe910811-eddc-48ae-9e3c-2b99e6c62dec",
   "metadata": {},
   "source": [
    "### 2. \n",
    "\n",
    "Depending on the application, one may or may not choose to include an intercept term in a linear factor decomposition of an asset’s returns. In what circumstances would I prefer to include an intercept, and in what circumstances would I not?"
   ]
  },
  {
   "cell_type": "markdown",
   "id": "e058c684",
   "metadata": {},
   "source": [
    "In linear factor decomposition, you wish to explain an asset's return using a linear combination of other factors. The intercept tells you how much return that asset gets, ignoring the other factors.\n",
    "\n",
    "Not including an intercept\n",
    "- **Wish to recreate the portfolio.** Performing LDF onto other assets can tell you how to recreate the portfolio. You should not include an intercept because there is no asset which gives constant return\n",
    "\n",
    "Including an intercept\n",
    "- **Estimate alpha** If you want to estimate the alpha of the asset, you should include the intercept.\n",
    "- **Hard to estimate** The mean of a return is very hard to estimate. By including the intercept, you can take away this uncertainty in the mean. This will give you better beta values.\n",
    "- **Factors are not good predictors** By including the intercept, we account for the fact that the factors are not good predictors of the future returns. This alpha says how much of the return is not being explained by the factors."
   ]
  },
  {
   "cell_type": "markdown",
   "id": "e38b33d9-8628-4bf5-a662-73da5dfe0ace",
   "metadata": {},
   "source": [
    "***"
   ]
  },
  {
   "cell_type": "markdown",
   "id": "a78ee6f4",
   "metadata": {},
   "source": [
    "# 2. Portfolio Allocation\n",
    "\n",
    "For this question you will only use data from the sheet `stocks excess returns`.\n",
    "\n",
    "It contains excess returns for the 14 largest stocks in the S&P."
   ]
  },
  {
   "cell_type": "code",
   "execution_count": 352,
   "id": "2073622c",
   "metadata": {},
   "outputs": [
    {
     "name": "stdout",
     "output_type": "stream",
     "text": [
      "2012-06-30 00:00:00 - 2024-09-30 00:00:00\n"
     ]
    },
    {
     "data": {
      "text/html": [
       "<div>\n",
       "<style scoped>\n",
       "    .dataframe tbody tr th:only-of-type {\n",
       "        vertical-align: middle;\n",
       "    }\n",
       "\n",
       "    .dataframe tbody tr th {\n",
       "        vertical-align: top;\n",
       "    }\n",
       "\n",
       "    .dataframe thead th {\n",
       "        text-align: right;\n",
       "    }\n",
       "</style>\n",
       "<table border=\"1\" class=\"dataframe\">\n",
       "  <thead>\n",
       "    <tr style=\"text-align: right;\">\n",
       "      <th></th>\n",
       "      <th>AAPL</th>\n",
       "      <th>AMZN</th>\n",
       "      <th>BRK-B</th>\n",
       "      <th>GOOGL</th>\n",
       "      <th>JNJ</th>\n",
       "      <th>JPM</th>\n",
       "      <th>LLY</th>\n",
       "      <th>META</th>\n",
       "      <th>MSFT</th>\n",
       "      <th>NVDA</th>\n",
       "      <th>TSLA</th>\n",
       "      <th>UNH</th>\n",
       "      <th>V</th>\n",
       "      <th>XOM</th>\n",
       "    </tr>\n",
       "    <tr>\n",
       "      <th>date</th>\n",
       "      <th></th>\n",
       "      <th></th>\n",
       "      <th></th>\n",
       "      <th></th>\n",
       "      <th></th>\n",
       "      <th></th>\n",
       "      <th></th>\n",
       "      <th></th>\n",
       "      <th></th>\n",
       "      <th></th>\n",
       "      <th></th>\n",
       "      <th></th>\n",
       "      <th></th>\n",
       "      <th></th>\n",
       "    </tr>\n",
       "  </thead>\n",
       "  <tbody>\n",
       "    <tr>\n",
       "      <th>2012-06-30</th>\n",
       "      <td>0.010943</td>\n",
       "      <td>0.072609</td>\n",
       "      <td>0.050116</td>\n",
       "      <td>-0.001270</td>\n",
       "      <td>0.082263</td>\n",
       "      <td>0.077918</td>\n",
       "      <td>0.047953</td>\n",
       "      <td>0.050766</td>\n",
       "      <td>0.048052</td>\n",
       "      <td>0.111916</td>\n",
       "      <td>0.060768</td>\n",
       "      <td>0.052919</td>\n",
       "      <td>0.073267</td>\n",
       "      <td>0.088352</td>\n",
       "    </tr>\n",
       "    <tr>\n",
       "      <th>2012-07-31</th>\n",
       "      <td>0.045822</td>\n",
       "      <td>0.021677</td>\n",
       "      <td>0.018121</td>\n",
       "      <td>0.091196</td>\n",
       "      <td>0.024570</td>\n",
       "      <td>0.015958</td>\n",
       "      <td>0.026101</td>\n",
       "      <td>-0.301929</td>\n",
       "      <td>-0.036613</td>\n",
       "      <td>-0.020260</td>\n",
       "      <td>-0.123682</td>\n",
       "      <td>-0.126667</td>\n",
       "      <td>0.044002</td>\n",
       "      <td>0.014958</td>\n",
       "    </tr>\n",
       "    <tr>\n",
       "      <th>2012-08-31</th>\n",
       "      <td>0.093695</td>\n",
       "      <td>0.063985</td>\n",
       "      <td>-0.006075</td>\n",
       "      <td>0.082161</td>\n",
       "      <td>-0.017188</td>\n",
       "      <td>0.031486</td>\n",
       "      <td>0.031399</td>\n",
       "      <td>-0.168306</td>\n",
       "      <td>0.052556</td>\n",
       "      <td>0.036008</td>\n",
       "      <td>0.039935</td>\n",
       "      <td>0.062649</td>\n",
       "      <td>-0.004849</td>\n",
       "      <td>0.011533</td>\n",
       "    </tr>\n",
       "    <tr>\n",
       "      <th>2012-09-30</th>\n",
       "      <td>0.002878</td>\n",
       "      <td>0.024450</td>\n",
       "      <td>0.045849</td>\n",
       "      <td>0.101397</td>\n",
       "      <td>0.022030</td>\n",
       "      <td>0.090012</td>\n",
       "      <td>0.055749</td>\n",
       "      <td>0.199417</td>\n",
       "      <td>-0.034312</td>\n",
       "      <td>-0.049099</td>\n",
       "      <td>0.026730</td>\n",
       "      <td>0.024657</td>\n",
       "      <td>0.047099</td>\n",
       "      <td>0.047619</td>\n",
       "    </tr>\n",
       "    <tr>\n",
       "      <th>2012-10-31</th>\n",
       "      <td>-0.107527</td>\n",
       "      <td>-0.084192</td>\n",
       "      <td>-0.020903</td>\n",
       "      <td>-0.098271</td>\n",
       "      <td>0.027789</td>\n",
       "      <td>0.037321</td>\n",
       "      <td>0.025805</td>\n",
       "      <td>-0.025320</td>\n",
       "      <td>-0.040922</td>\n",
       "      <td>-0.101877</td>\n",
       "      <td>-0.039204</td>\n",
       "      <td>0.010720</td>\n",
       "      <td>0.033436</td>\n",
       "      <td>-0.002989</td>\n",
       "    </tr>\n",
       "  </tbody>\n",
       "</table>\n",
       "</div>"
      ],
      "text/plain": [
       "                AAPL      AMZN     BRK-B     GOOGL       JNJ       JPM  \\\n",
       "date                                                                     \n",
       "2012-06-30  0.010943  0.072609  0.050116 -0.001270  0.082263  0.077918   \n",
       "2012-07-31  0.045822  0.021677  0.018121  0.091196  0.024570  0.015958   \n",
       "2012-08-31  0.093695  0.063985 -0.006075  0.082161 -0.017188  0.031486   \n",
       "2012-09-30  0.002878  0.024450  0.045849  0.101397  0.022030  0.090012   \n",
       "2012-10-31 -0.107527 -0.084192 -0.020903 -0.098271  0.027789  0.037321   \n",
       "\n",
       "                 LLY      META      MSFT      NVDA      TSLA       UNH  \\\n",
       "date                                                                     \n",
       "2012-06-30  0.047953  0.050766  0.048052  0.111916  0.060768  0.052919   \n",
       "2012-07-31  0.026101 -0.301929 -0.036613 -0.020260 -0.123682 -0.126667   \n",
       "2012-08-31  0.031399 -0.168306  0.052556  0.036008  0.039935  0.062649   \n",
       "2012-09-30  0.055749  0.199417 -0.034312 -0.049099  0.026730  0.024657   \n",
       "2012-10-31  0.025805 -0.025320 -0.040922 -0.101877 -0.039204  0.010720   \n",
       "\n",
       "                   V       XOM  \n",
       "date                            \n",
       "2012-06-30  0.073267  0.088352  \n",
       "2012-07-31  0.044002  0.014958  \n",
       "2012-08-31 -0.004849  0.011533  \n",
       "2012-09-30  0.047099  0.047619  \n",
       "2012-10-31  0.033436 -0.002989  "
      ]
     },
     "metadata": {},
     "output_type": "display_data"
    }
   ],
   "source": [
    "df_excess_rets = dfs_raw['stocks excess returns'].copy().set_index(\"date\")\n",
    "annual_factor = 12\n",
    "\n",
    "print(f\"{min(df_excess_rets.index)} - {max(df_excess_rets.index)}\")\n",
    "display(df_excess_rets.head())"
   ]
  },
  {
   "cell_type": "markdown",
   "id": "ec8d1b59",
   "metadata": {},
   "source": [
    "### 1.\n",
    "\n",
    "Calculate the tangency portfolio from the start of the sample to December of 2018 (to 2018-12-31), which we call in-sample period. Use the following methods:\n",
    "- Traditional tangency portfolio.\n",
    "- Regularized tangency portfolio (divide by 2 every element outside of the diagonal in the covariance matrix prior to the calculation).\n",
    "\n",
    "Return:\n",
    "- The weights of each asset for the traditional tangency portfolio and the regularized tangency portfolio.\n",
    "- The sum of absolute values of the weights for the traditional tangency portfolio and the regularized tangency portfolio:\n",
    "\n",
    "$$\n",
    "\\sum_{i=1}^{n} |w_i|\n",
    "$$\n"
   ]
  },
  {
   "cell_type": "code",
   "execution_count": 353,
   "id": "652663d5",
   "metadata": {},
   "outputs": [
    {
     "data": {
      "text/html": [
       "<div>\n",
       "<style scoped>\n",
       "    .dataframe tbody tr th:only-of-type {\n",
       "        vertical-align: middle;\n",
       "    }\n",
       "\n",
       "    .dataframe tbody tr th {\n",
       "        vertical-align: top;\n",
       "    }\n",
       "\n",
       "    .dataframe thead th {\n",
       "        text-align: right;\n",
       "    }\n",
       "</style>\n",
       "<table border=\"1\" class=\"dataframe\">\n",
       "  <thead>\n",
       "    <tr style=\"text-align: right;\">\n",
       "      <th></th>\n",
       "      <th>Tangent</th>\n",
       "      <th>Regularized</th>\n",
       "    </tr>\n",
       "  </thead>\n",
       "  <tbody>\n",
       "    <tr>\n",
       "      <th>AAPL</th>\n",
       "      <td>-0.127836</td>\n",
       "      <td>-0.014706</td>\n",
       "    </tr>\n",
       "    <tr>\n",
       "      <th>AMZN</th>\n",
       "      <td>-0.040576</td>\n",
       "      <td>0.036310</td>\n",
       "    </tr>\n",
       "    <tr>\n",
       "      <th>BRK-B</th>\n",
       "      <td>0.131333</td>\n",
       "      <td>0.109162</td>\n",
       "    </tr>\n",
       "    <tr>\n",
       "      <th>GOOGL</th>\n",
       "      <td>0.025968</td>\n",
       "      <td>0.050545</td>\n",
       "    </tr>\n",
       "    <tr>\n",
       "      <th>JNJ</th>\n",
       "      <td>0.130408</td>\n",
       "      <td>0.099190</td>\n",
       "    </tr>\n",
       "    <tr>\n",
       "      <th>JPM</th>\n",
       "      <td>-0.013929</td>\n",
       "      <td>0.053691</td>\n",
       "    </tr>\n",
       "    <tr>\n",
       "      <th>LLY</th>\n",
       "      <td>0.352670</td>\n",
       "      <td>0.214949</td>\n",
       "    </tr>\n",
       "    <tr>\n",
       "      <th>META</th>\n",
       "      <td>0.030541</td>\n",
       "      <td>0.034896</td>\n",
       "    </tr>\n",
       "    <tr>\n",
       "      <th>MSFT</th>\n",
       "      <td>0.137917</td>\n",
       "      <td>0.089970</td>\n",
       "    </tr>\n",
       "    <tr>\n",
       "      <th>NVDA</th>\n",
       "      <td>0.163501</td>\n",
       "      <td>0.071696</td>\n",
       "    </tr>\n",
       "    <tr>\n",
       "      <th>TSLA</th>\n",
       "      <td>0.030066</td>\n",
       "      <td>0.036511</td>\n",
       "    </tr>\n",
       "    <tr>\n",
       "      <th>UNH</th>\n",
       "      <td>0.290230</td>\n",
       "      <td>0.189845</td>\n",
       "    </tr>\n",
       "    <tr>\n",
       "      <th>V</th>\n",
       "      <td>0.306209</td>\n",
       "      <td>0.184558</td>\n",
       "    </tr>\n",
       "    <tr>\n",
       "      <th>XOM</th>\n",
       "      <td>-0.416502</td>\n",
       "      <td>-0.156617</td>\n",
       "    </tr>\n",
       "  </tbody>\n",
       "</table>\n",
       "</div>"
      ],
      "text/plain": [
       "        Tangent  Regularized\n",
       "AAPL  -0.127836    -0.014706\n",
       "AMZN  -0.040576     0.036310\n",
       "BRK-B  0.131333     0.109162\n",
       "GOOGL  0.025968     0.050545\n",
       "JNJ    0.130408     0.099190\n",
       "JPM   -0.013929     0.053691\n",
       "LLY    0.352670     0.214949\n",
       "META   0.030541     0.034896\n",
       "MSFT   0.137917     0.089970\n",
       "NVDA   0.163501     0.071696\n",
       "TSLA   0.030066     0.036511\n",
       "UNH    0.290230     0.189845\n",
       "V      0.306209     0.184558\n",
       "XOM   -0.416502    -0.156617"
      ]
     },
     "metadata": {},
     "output_type": "display_data"
    },
    {
     "name": "stdout",
     "output_type": "stream",
     "text": [
      "Abs sum of weights for tangent: 2.20\n",
      "Abs sum of weights for Regularized: 1.34\n"
     ]
    }
   ],
   "source": [
    "def calc_summary(df, annual_factor=1):\n",
    "    return df.apply(lambda x: pd.Series({\n",
    "        \"mean\": x.mean() * annual_factor,\n",
    "        \"std\": x.std() * np.sqrt(annual_factor),\n",
    "        \"sharpe\": x.mean() / x.std() * np.sqrt(annual_factor)  \n",
    "    }))\n",
    "\n",
    "def compute_stats(weights, mu_hat, sigma_hat, annual_factor=12):\n",
    "    p_return = weights.T @ mu_hat * annual_factor\n",
    "    p_vol = np.sqrt(weights.T @ sigma_hat @ weights) * np.sqrt(annual_factor)\n",
    "    return p_vol, p_return\n",
    "\n",
    "def tangent_portfolio(mu_hat, sigma_hat, flip_weights=False, annual_factor=12):\n",
    "    sigma_inv = np.linalg.inv(sigma_hat)\n",
    "    weights = sigma_inv @ mu_hat\n",
    "    weights = weights / np.sum(weights)\n",
    "    \n",
    "    t_vol, t_return = compute_stats(weights, mu_hat, sigma_hat, annual_factor=annual_factor)\n",
    "    if t_return < 0 and flip_weights:\n",
    "        weights *= -1\n",
    "        t_vol, t_return = compute_stats(weights, mu_hat, sigma_hat, annual_factor=annual_factor)\n",
    "    return [t_vol, t_return, weights]\n",
    "\n",
    "def create_portfolios(df_returns, annual_factor=annual_factor):\n",
    "    mu_hat=df_returns.mean().values\n",
    "    sigma_hat=df_returns.cov().values\n",
    "    \n",
    "    port_weights = {\n",
    "        'Tangent': tangent_portfolio(mu_hat, sigma_hat, annual_factor=annual_factor)[2],\n",
    "        # 'Equally-weighting': np.ones_like(mu_hat)/len(mu_hat),\n",
    "        'Regularized': tangent_portfolio(mu_hat, \n",
    "                                         (sigma_hat + np.diag(np.diagonal(sigma_hat)) ) / 2\n",
    "                                         )[2],\n",
    "    }\n",
    "    \n",
    "    # Returns\n",
    "    df_port_returns = pd.DataFrame({name : df_returns @ weights \n",
    "                                         for name, weights in port_weights.items()})\n",
    "    \n",
    "    # Statistics\n",
    "    df_port_stats = calc_summary(df_port_returns, annual_factor=annual_factor)\n",
    "    for name, weights in port_weights.items():\n",
    "        df_port_stats.loc[\"sum weights\", name] = sum(weights)\n",
    "    df_port_weights = pd.DataFrame(port_weights, index=df_returns.columns)\n",
    "        \n",
    "    return df_port_weights, df_port_returns, df_port_stats\n",
    "\n",
    "\n",
    "df_training = df_excess_rets[df_excess_rets.index <= \"20181231\"]\n",
    "\n",
    "df_port_weights, df_port_returns, df_port_stats = create_portfolios(df_training)\n",
    "display(df_port_weights)\n",
    "\n",
    "print(f\"Abs sum of weights for tangent: {df_port_weights['Tangent'].abs().sum():.2f}\")\n",
    "print(f\"Abs sum of weights for Regularized: {df_port_weights['Regularized'].abs().sum():.2f}\")"
   ]
  },
  {
   "cell_type": "markdown",
   "id": "31da8bdc",
   "metadata": {},
   "source": [
    "### 2.\n",
    "\n",
    "Calculate the annualized summary statistics (mean, Sharpe, vol) of both portfolios in-sample.\n"
   ]
  },
  {
   "cell_type": "code",
   "execution_count": 354,
   "id": "ad3421f4",
   "metadata": {},
   "outputs": [
    {
     "data": {
      "text/html": [
       "<div>\n",
       "<style scoped>\n",
       "    .dataframe tbody tr th:only-of-type {\n",
       "        vertical-align: middle;\n",
       "    }\n",
       "\n",
       "    .dataframe tbody tr th {\n",
       "        vertical-align: top;\n",
       "    }\n",
       "\n",
       "    .dataframe thead th {\n",
       "        text-align: right;\n",
       "    }\n",
       "</style>\n",
       "<table border=\"1\" class=\"dataframe\">\n",
       "  <thead>\n",
       "    <tr style=\"text-align: right;\">\n",
       "      <th></th>\n",
       "      <th>Tangent</th>\n",
       "      <th>Regularized</th>\n",
       "    </tr>\n",
       "  </thead>\n",
       "  <tbody>\n",
       "    <tr>\n",
       "      <th>mean</th>\n",
       "      <td>0.348256</td>\n",
       "      <td>0.276599</td>\n",
       "    </tr>\n",
       "    <tr>\n",
       "      <th>std</th>\n",
       "      <td>0.134053</td>\n",
       "      <td>0.114184</td>\n",
       "    </tr>\n",
       "    <tr>\n",
       "      <th>sharpe</th>\n",
       "      <td>2.597896</td>\n",
       "      <td>2.422392</td>\n",
       "    </tr>\n",
       "  </tbody>\n",
       "</table>\n",
       "</div>"
      ],
      "text/plain": [
       "         Tangent  Regularized\n",
       "mean    0.348256     0.276599\n",
       "std     0.134053     0.114184\n",
       "sharpe  2.597896     2.422392"
      ]
     },
     "execution_count": 354,
     "metadata": {},
     "output_type": "execute_result"
    }
   ],
   "source": [
    "calc_summary(df_training @ df_port_weights,  annual_factor=annual_factor)"
   ]
  },
  {
   "cell_type": "markdown",
   "id": "eb4f7e39",
   "metadata": {},
   "source": [
    "### 3.\n",
    "\n",
    "Use the weights calculated in question (2.2) to produce portfolio returns out-of-sample for both the Traditional and Regularized portfolio (from January 2019 onwards). \n",
    "\n",
    "Report the **last 3 returns** of both portfolios in the out-of-sample (the traditional tangency portfolio and the regularized tangency portfolio)."
   ]
  },
  {
   "cell_type": "code",
   "execution_count": 355,
   "id": "d159aad3",
   "metadata": {},
   "outputs": [
    {
     "data": {
      "text/html": [
       "<div>\n",
       "<style scoped>\n",
       "    .dataframe tbody tr th:only-of-type {\n",
       "        vertical-align: middle;\n",
       "    }\n",
       "\n",
       "    .dataframe tbody tr th {\n",
       "        vertical-align: top;\n",
       "    }\n",
       "\n",
       "    .dataframe thead th {\n",
       "        text-align: right;\n",
       "    }\n",
       "</style>\n",
       "<table border=\"1\" class=\"dataframe\">\n",
       "  <thead>\n",
       "    <tr style=\"text-align: right;\">\n",
       "      <th></th>\n",
       "      <th>Tangent</th>\n",
       "      <th>Regularized</th>\n",
       "    </tr>\n",
       "    <tr>\n",
       "      <th>date</th>\n",
       "      <th></th>\n",
       "      <th></th>\n",
       "    </tr>\n",
       "  </thead>\n",
       "  <tbody>\n",
       "    <tr>\n",
       "      <th>2024-07-31</th>\n",
       "      <td>-0.016012</td>\n",
       "      <td>0.003227</td>\n",
       "    </tr>\n",
       "    <tr>\n",
       "      <th>2024-08-31</th>\n",
       "      <td>0.101241</td>\n",
       "      <td>0.064626</td>\n",
       "    </tr>\n",
       "    <tr>\n",
       "      <th>2024-09-30</th>\n",
       "      <td>-0.025162</td>\n",
       "      <td>-0.016477</td>\n",
       "    </tr>\n",
       "  </tbody>\n",
       "</table>\n",
       "</div>"
      ],
      "text/plain": [
       "             Tangent  Regularized\n",
       "date                             \n",
       "2024-07-31 -0.016012     0.003227\n",
       "2024-08-31  0.101241     0.064626\n",
       "2024-09-30 -0.025162    -0.016477"
      ]
     },
     "execution_count": 355,
     "metadata": {},
     "output_type": "execute_result"
    }
   ],
   "source": [
    "df_testing = df_excess_rets[df_excess_rets.index > \"20181231\"]\n",
    "\n",
    "(\n",
    "    df_testing @ df_port_weights \n",
    ").tail(3)"
   ]
  },
  {
   "cell_type": "markdown",
   "id": "ee6aa5f9-4201-4600-b8ff-48c9af2ff5c3",
   "metadata": {},
   "source": [
    "### 4.\n",
    "\n",
    "Report the annualized summary statistics (Mean, Vol and Sharpe) of both portfolios in the out-of-sample.\n",
    "\n",
    "Note: you are using the weights optimized for the in-sample and generating statistics with the out-of-sample returns."
   ]
  },
  {
   "cell_type": "code",
   "execution_count": 356,
   "id": "d8648994",
   "metadata": {},
   "outputs": [
    {
     "data": {
      "text/html": [
       "<div>\n",
       "<style scoped>\n",
       "    .dataframe tbody tr th:only-of-type {\n",
       "        vertical-align: middle;\n",
       "    }\n",
       "\n",
       "    .dataframe tbody tr th {\n",
       "        vertical-align: top;\n",
       "    }\n",
       "\n",
       "    .dataframe thead th {\n",
       "        text-align: right;\n",
       "    }\n",
       "</style>\n",
       "<table border=\"1\" class=\"dataframe\">\n",
       "  <thead>\n",
       "    <tr style=\"text-align: right;\">\n",
       "      <th></th>\n",
       "      <th>Tangent</th>\n",
       "      <th>Regularized</th>\n",
       "    </tr>\n",
       "  </thead>\n",
       "  <tbody>\n",
       "    <tr>\n",
       "      <th>mean</th>\n",
       "      <td>0.321558</td>\n",
       "      <td>0.268686</td>\n",
       "    </tr>\n",
       "    <tr>\n",
       "      <th>std</th>\n",
       "      <td>0.222352</td>\n",
       "      <td>0.176334</td>\n",
       "    </tr>\n",
       "    <tr>\n",
       "      <th>sharpe</th>\n",
       "      <td>1.446167</td>\n",
       "      <td>1.523729</td>\n",
       "    </tr>\n",
       "  </tbody>\n",
       "</table>\n",
       "</div>"
      ],
      "text/plain": [
       "         Tangent  Regularized\n",
       "mean    0.321558     0.268686\n",
       "std     0.222352     0.176334\n",
       "sharpe  1.446167     1.523729"
      ]
     },
     "execution_count": 356,
     "metadata": {},
     "output_type": "execute_result"
    }
   ],
   "source": [
    "calc_summary(df_testing @ df_port_weights,  annual_factor=annual_factor)"
   ]
  },
  {
   "cell_type": "markdown",
   "id": "2147058f-7c1b-4f56-ae94-d8ae77b5a96d",
   "metadata": {},
   "source": [
    "### 5.\n",
    "Which portfolio has better adjusted by risk returns in the out-of-sample? Could there be a mathematical/optimization reason why one portfolio had better adjusted by risk performance? \n",
    "\n",
    "Relate your answer to your findings in question (2.2) (Sum of absolute weights in the traditional and regularized tangency portfolio.)"
   ]
  },
  {
   "cell_type": "markdown",
   "id": "9cf1e0b2",
   "metadata": {},
   "source": [
    "The annualized sharpe ratio is 1.52 for the 'regularized' portfolio and 1.46 for the 'tangent' portfolio. The regularized portfolio has a better risk-return profile in the out-of-sample.\n",
    "\n",
    "The regularized portfolio assumes less correlation between assets, so the weights are more spread out.\n",
    "This can be seen in the abs sum weights for the regularized portfolio being lower than the abs sum weights for the tangent portfolio. With the weights being more spread out, the portfolio is more diversified which can be one reason why it had a better risk-return profile in the out-of-sample.\n",
    " "
   ]
  },
  {
   "cell_type": "markdown",
   "id": "0a8eda25",
   "metadata": {},
   "source": [
    "***"
   ]
  },
  {
   "cell_type": "markdown",
   "id": "45d9f9ca",
   "metadata": {},
   "source": [
    "# 3. Hedging and Replication\n",
    "\n",
    "For this question you will only use data from the sheet `proshares returns`.\n",
    "\n",
    "The following assets excess returns are available in this sheet:\n",
    "\n",
    "- **HDG US Equity**: ProShares Hedge Replication ET\n",
    "- **QAI US Equity**: NYLI Hedge Multi-Strategy Trac\n",
    "- **SPY US Equity**: SPDR S&P 500 ETF Trust\n",
    "- **EEM US Equity**: iShares MSCI Emerging Markets\n",
    "- **EFA US Equity**: iShares MSCI EAFE ETF\n",
    "- **EUO US Equity**: ProShares UltraShort Euro\n",
    "- **IWM US Equity**: iShares Russell 2000 ETF\n",
    "- **SPXU US Equity**: ProShares UltraPro Short S&P 5\n",
    "- **UPRO US Equity**: ProShares UltraPro S&P 500"
   ]
  },
  {
   "cell_type": "code",
   "execution_count": 357,
   "id": "e56209ef",
   "metadata": {},
   "outputs": [
    {
     "data": {
      "text/html": [
       "<div>\n",
       "<style scoped>\n",
       "    .dataframe tbody tr th:only-of-type {\n",
       "        vertical-align: middle;\n",
       "    }\n",
       "\n",
       "    .dataframe tbody tr th {\n",
       "        vertical-align: top;\n",
       "    }\n",
       "\n",
       "    .dataframe thead th {\n",
       "        text-align: right;\n",
       "    }\n",
       "</style>\n",
       "<table border=\"1\" class=\"dataframe\">\n",
       "  <thead>\n",
       "    <tr style=\"text-align: right;\">\n",
       "      <th></th>\n",
       "      <th>HDG</th>\n",
       "      <th>QAI</th>\n",
       "      <th>SPY</th>\n",
       "      <th>EEM</th>\n",
       "      <th>EFA</th>\n",
       "      <th>EUO</th>\n",
       "      <th>IWM</th>\n",
       "      <th>SPXU</th>\n",
       "      <th>UPRO</th>\n",
       "    </tr>\n",
       "    <tr>\n",
       "      <th>date</th>\n",
       "      <th></th>\n",
       "      <th></th>\n",
       "      <th></th>\n",
       "      <th></th>\n",
       "      <th></th>\n",
       "      <th></th>\n",
       "      <th></th>\n",
       "      <th></th>\n",
       "      <th></th>\n",
       "    </tr>\n",
       "  </thead>\n",
       "  <tbody>\n",
       "    <tr>\n",
       "      <th>2011-08-31</th>\n",
       "      <td>-0.027036</td>\n",
       "      <td>-0.006489</td>\n",
       "      <td>-0.054976</td>\n",
       "      <td>-0.092549</td>\n",
       "      <td>-0.087549</td>\n",
       "      <td>-0.005889</td>\n",
       "      <td>-0.088913</td>\n",
       "      <td>0.056476</td>\n",
       "      <td>-0.210854</td>\n",
       "    </tr>\n",
       "    <tr>\n",
       "      <th>2011-09-30</th>\n",
       "      <td>-0.032466</td>\n",
       "      <td>-0.022141</td>\n",
       "      <td>-0.069420</td>\n",
       "      <td>-0.179063</td>\n",
       "      <td>-0.108082</td>\n",
       "      <td>0.142180</td>\n",
       "      <td>-0.111505</td>\n",
       "      <td>0.190006</td>\n",
       "      <td>-0.207003</td>\n",
       "    </tr>\n",
       "    <tr>\n",
       "      <th>2011-10-31</th>\n",
       "      <td>0.050531</td>\n",
       "      <td>0.025239</td>\n",
       "      <td>0.109147</td>\n",
       "      <td>0.162986</td>\n",
       "      <td>0.096274</td>\n",
       "      <td>-0.069502</td>\n",
       "      <td>0.151011</td>\n",
       "      <td>-0.298828</td>\n",
       "      <td>0.326066</td>\n",
       "    </tr>\n",
       "    <tr>\n",
       "      <th>2011-11-30</th>\n",
       "      <td>-0.028608</td>\n",
       "      <td>-0.007964</td>\n",
       "      <td>-0.004064</td>\n",
       "      <td>-0.019724</td>\n",
       "      <td>-0.021765</td>\n",
       "      <td>0.054627</td>\n",
       "      <td>-0.003784</td>\n",
       "      <td>-0.035515</td>\n",
       "      <td>-0.033502</td>\n",
       "    </tr>\n",
       "    <tr>\n",
       "      <th>2011-12-31</th>\n",
       "      <td>0.012875</td>\n",
       "      <td>0.001822</td>\n",
       "      <td>0.010449</td>\n",
       "      <td>-0.042649</td>\n",
       "      <td>-0.021744</td>\n",
       "      <td>0.075581</td>\n",
       "      <td>0.005144</td>\n",
       "      <td>-0.051986</td>\n",
       "      <td>0.022939</td>\n",
       "    </tr>\n",
       "  </tbody>\n",
       "</table>\n",
       "</div>"
      ],
      "text/plain": [
       "                 HDG       QAI       SPY       EEM       EFA       EUO  \\\n",
       "date                                                                     \n",
       "2011-08-31 -0.027036 -0.006489 -0.054976 -0.092549 -0.087549 -0.005889   \n",
       "2011-09-30 -0.032466 -0.022141 -0.069420 -0.179063 -0.108082  0.142180   \n",
       "2011-10-31  0.050531  0.025239  0.109147  0.162986  0.096274 -0.069502   \n",
       "2011-11-30 -0.028608 -0.007964 -0.004064 -0.019724 -0.021765  0.054627   \n",
       "2011-12-31  0.012875  0.001822  0.010449 -0.042649 -0.021744  0.075581   \n",
       "\n",
       "                 IWM      SPXU      UPRO  \n",
       "date                                      \n",
       "2011-08-31 -0.088913  0.056476 -0.210854  \n",
       "2011-09-30 -0.111505  0.190006 -0.207003  \n",
       "2011-10-31  0.151011 -0.298828  0.326066  \n",
       "2011-11-30 -0.003784 -0.035515 -0.033502  \n",
       "2011-12-31  0.005144 -0.051986  0.022939  "
      ]
     },
     "metadata": {},
     "output_type": "display_data"
    }
   ],
   "source": [
    "df_proshares = dfs_raw['proshares excess returns'].copy().set_index(\"date\")\n",
    "\n",
    "df_proshares.columns = [x.replace(\" US Equity\", \"\") for x in df_proshares.columns]\n",
    "\n",
    "display(df_proshares.head())"
   ]
  },
  {
   "cell_type": "markdown",
   "id": "b6e16122",
   "metadata": {},
   "source": [
    "### 1. \n",
    "\n",
    "You work at a hedge fund.\n",
    "\n",
    "Suppose the hedge fund is long $1 million of HDG and wants to hedge the position.\n",
    "\n",
    "A junior analyst suggests that we can hedge our position by looking at some select ETFs, and then taking a position in the ETFs that will offset the risk of our HDG position.\n",
    "\n",
    "They pick QAI, SPY, EEM, UPRO, SPXU, IWM, and EFA.\n",
    "\n",
    "What dollar position would we be taking in each ETF to hedge your HDG position?"
   ]
  },
  {
   "cell_type": "code",
   "execution_count": 358,
   "id": "a3e47dd6",
   "metadata": {},
   "outputs": [
    {
     "name": "stderr",
     "output_type": "stream",
     "text": [
      "c:\\Users\\Frank Reynolds\\OneDrive\\Main\\Classes\\UChicago\\FINM 36700 - Port and Risk\\git_finm-portfolio-2024\\exams\\midterm1\\TA_utils.py:114: FutureWarning: Series.__getitem__ treating keys as positions is deprecated. In a future version, integer keys will always be treated as labels (consistent with DataFrame behavior). To access a value by position, use `ser.iloc[pos]`\n",
      "  summary[f\"{col} Beta\"] = betas[i]\n"
     ]
    },
    {
     "data": {
      "text/html": [
       "<style type=\"text/css\">\n",
       "</style>\n",
       "<table id=\"T_0b6e3\">\n",
       "  <thead>\n",
       "    <tr>\n",
       "      <th class=\"blank level0\" >&nbsp;</th>\n",
       "      <th id=\"T_0b6e3_level0_col0\" class=\"col_heading level0 col0\" >HDG</th>\n",
       "    </tr>\n",
       "  </thead>\n",
       "  <tbody>\n",
       "    <tr>\n",
       "      <th id=\"T_0b6e3_level0_row0\" class=\"row_heading level0 row0\" >QAI </th>\n",
       "      <td id=\"T_0b6e3_row0_col0\" class=\"data row0 col0\" >$-166,629</td>\n",
       "    </tr>\n",
       "    <tr>\n",
       "      <th id=\"T_0b6e3_level0_row1\" class=\"row_heading level0 row1\" >SPY </th>\n",
       "      <td id=\"T_0b6e3_row1_col0\" class=\"data row1 col0\" >$-240,419</td>\n",
       "    </tr>\n",
       "    <tr>\n",
       "      <th id=\"T_0b6e3_level0_row2\" class=\"row_heading level0 row2\" >EEM </th>\n",
       "      <td id=\"T_0b6e3_row2_col0\" class=\"data row2 col0\" >$-44,877</td>\n",
       "    </tr>\n",
       "    <tr>\n",
       "      <th id=\"T_0b6e3_level0_row3\" class=\"row_heading level0 row3\" >UPRO </th>\n",
       "      <td id=\"T_0b6e3_row3_col0\" class=\"data row3 col0\" >$69,393</td>\n",
       "    </tr>\n",
       "    <tr>\n",
       "      <th id=\"T_0b6e3_level0_row4\" class=\"row_heading level0 row4\" >SPXU </th>\n",
       "      <td id=\"T_0b6e3_row4_col0\" class=\"data row4 col0\" >$-16,065</td>\n",
       "    </tr>\n",
       "    <tr>\n",
       "      <th id=\"T_0b6e3_level0_row5\" class=\"row_heading level0 row5\" >IWM </th>\n",
       "      <td id=\"T_0b6e3_row5_col0\" class=\"data row5 col0\" >$-139,894</td>\n",
       "    </tr>\n",
       "    <tr>\n",
       "      <th id=\"T_0b6e3_level0_row6\" class=\"row_heading level0 row6\" >EFA </th>\n",
       "      <td id=\"T_0b6e3_row6_col0\" class=\"data row6 col0\" >$-120,177</td>\n",
       "    </tr>\n",
       "  </tbody>\n",
       "</table>\n"
      ],
      "text/plain": [
       "<pandas.io.formats.style.Styler at 0x2833a2a00d0>"
      ]
     },
     "execution_count": 358,
     "metadata": {},
     "output_type": "execute_result"
    }
   ],
   "source": [
    "regr = ta.calc_multivariate_regression(df_proshares['HDG'], \n",
    "                                       df_proshares[[\"QAI\", \"SPY\", \"EEM\", \"UPRO\", \"SPXU\", \"IWM\", \"EFA\"]], \n",
    "                                       intercept=False,\n",
    "                                       adj=annual_factor)\n",
    "\n",
    "betas = regr.loc[:, regr.columns.str.contains('Beta')].T\n",
    "\n",
    "exposure = betas * -1_000_000\n",
    "exposure.index = exposure.index.str.replace('Beta', '')\n",
    "\n",
    "exposure.style.format('${:,.0f}')"
   ]
  },
  {
   "cell_type": "markdown",
   "id": "4917ec2d",
   "metadata": {},
   "source": [
    "### 2.\n",
    "\n",
    "#### (7pts)\n",
    "What is the gross notional of the hedge?\n",
    "\n",
    "What is the R-squared of the hedge?\n",
    "\n",
    "What do these two statistics indicate about the practical use of this hedge?"
   ]
  },
  {
   "cell_type": "code",
   "execution_count": 359,
   "id": "5d3dcecc",
   "metadata": {},
   "outputs": [
    {
     "name": "stdout",
     "output_type": "stream",
     "text": [
      "R-squared: 0.91\n",
      "Gross Notional Exposure: $-658,669\n"
     ]
    }
   ],
   "source": [
    "print(f\"R-squared: {regr['R-Squared'].values[0]:.2f}\")\n",
    "print(f\"Gross Notional Exposure: ${exposure.sum().values[0]:,.0f}\")"
   ]
  },
  {
   "cell_type": "markdown",
   "id": "79ce7668",
   "metadata": {},
   "source": [
    "**What do these two statistics indicate about the practical use of this hedge?**\n",
    "\n",
    "With a gross notional of -$0.66mm, the magnitude of the hedge is half as large as the main position, and we are short this amount. This is very impractical since its highly levered.\n",
    "\n",
    "The R-squared of the hedge is 0.91, which indicates that the hedge is very effective at hedging the position."
   ]
  },
  {
   "attachments": {},
   "cell_type": "markdown",
   "id": "fc40b82a-d979-42c7-bbca-f7ede2c133f3",
   "metadata": {},
   "source": [
    "### 3.\n",
    "\n",
    "Suppose instead we don't want to hedge our position. We believe that the value of HDG can be *entirely* determined by some combination of the other ETFs. \n",
    "\n",
    "So, you propose the following model:\n",
    "\n",
    "$$\n",
    "HDG_t = \\beta_1 QAI_t + \\beta_2 SPY_t + \\beta_3 EEM_t + \\varepsilon_t\n",
    "$$\n",
    "\n",
    "We think any difference between the value of HDG and the value of the ETFs is a mispricing, and will revert to 0 in the future. We call such a strategy \"trading the residuals\".\n",
    "\n",
    "Therefore, if $\\varepsilon_t > 0$, we should be short HDG and long the basket, and if $\\varepsilon_t < 0$, we should be long HDG and short the basket.\n",
    "\n",
    "Now...\n",
    "* Run the model specified above and report the $\\beta$'s values.\n",
    "* After, create the \"basket\" portfolio, using the $\\beta$'s as weights (they do not need to add up to one). Report the final three values."
   ]
  },
  {
   "cell_type": "code",
   "execution_count": 360,
   "id": "5b21cca7",
   "metadata": {},
   "outputs": [
    {
     "name": "stderr",
     "output_type": "stream",
     "text": [
      "c:\\Users\\Frank Reynolds\\OneDrive\\Main\\Classes\\UChicago\\FINM 36700 - Port and Risk\\git_finm-portfolio-2024\\exams\\midterm1\\TA_utils.py:114: FutureWarning: Series.__getitem__ treating keys as positions is deprecated. In a future version, integer keys will always be treated as labels (consistent with DataFrame behavior). To access a value by position, use `ser.iloc[pos]`\n",
      "  summary[f\"{col} Beta\"] = betas[i]\n"
     ]
    },
    {
     "data": {
      "text/html": [
       "<div>\n",
       "<style scoped>\n",
       "    .dataframe tbody tr th:only-of-type {\n",
       "        vertical-align: middle;\n",
       "    }\n",
       "\n",
       "    .dataframe tbody tr th {\n",
       "        vertical-align: top;\n",
       "    }\n",
       "\n",
       "    .dataframe thead th {\n",
       "        text-align: right;\n",
       "    }\n",
       "</style>\n",
       "<table border=\"1\" class=\"dataframe\">\n",
       "  <thead>\n",
       "    <tr style=\"text-align: right;\">\n",
       "      <th></th>\n",
       "      <th>betas</th>\n",
       "    </tr>\n",
       "  </thead>\n",
       "  <tbody>\n",
       "    <tr>\n",
       "      <th>QAI</th>\n",
       "      <td>0.356368</td>\n",
       "    </tr>\n",
       "    <tr>\n",
       "      <th>SPY</th>\n",
       "      <td>0.162696</td>\n",
       "    </tr>\n",
       "    <tr>\n",
       "      <th>EEM</th>\n",
       "      <td>0.086523</td>\n",
       "    </tr>\n",
       "  </tbody>\n",
       "</table>\n",
       "</div>"
      ],
      "text/plain": [
       "         betas\n",
       "QAI   0.356368\n",
       "SPY   0.162696\n",
       "EEM   0.086523"
      ]
     },
     "metadata": {},
     "output_type": "display_data"
    }
   ],
   "source": [
    "regr_fit = ta.calc_multivariate_regression(df_proshares['HDG'], \n",
    "                                           df_proshares[[\"QAI\", \"SPY\", \"EEM\"]], \n",
    "                                           intercept=False,\n",
    "                                           adj=annual_factor)\n",
    "df_temp = pd.DataFrame()\n",
    "\n",
    "df_temp[\"betas\"] = regr_fit.loc[:, regr_fit.columns.str.contains('Beta')].T\n",
    "\n",
    "df_temp.index = df_temp.index.str.replace('Beta', '')\n",
    "display(df_temp)"
   ]
  },
  {
   "cell_type": "code",
   "execution_count": 361,
   "id": "666ed368",
   "metadata": {},
   "outputs": [
    {
     "data": {
      "text/plain": [
       "date\n",
       "2024-07-31    0.006721\n",
       "2024-08-31    0.007373\n",
       "2024-09-30    0.013569\n",
       "dtype: float64"
      ]
     },
     "metadata": {},
     "output_type": "display_data"
    }
   ],
   "source": [
    "display((df_proshares[[\"QAI\", \"SPY\", \"EEM\"]] @ df_temp[\"betas\"].values).tail(3))"
   ]
  },
  {
   "cell_type": "markdown",
   "id": "607c71d0-bcf5-47e0-8539-7a8dc7f8e4fc",
   "metadata": {},
   "source": [
    "### 4.\n",
    "\n",
    "#### (8pts)\n",
    "\n",
    "Construct the strategy indicated by the approach in the previous problem.\n",
    "\n",
    "For a given period $t$:\n",
    "- if the $\\varepsilon_t \\leq 0$ (is negative or equal to 0), you should be long HDG 200% in HDG and short 100% in the basket portfolio **in period $t+1$**.\n",
    "- if the $\\varepsilon_t > 0$ (is positive), you should be long 200% in the basket portfolio and short 100% **in HDG in period $t+1$**.\n",
    "\n",
    "Do not worry about the look forward bias: in this scenario, you should run the model only once with the entire dataset and define your $\\varepsilon_t$ for any $t$ also considering the model that has acess to data in $t+1, t+2, ...$ to make the calculation.  \n",
    "\n",
    "Report the annualized summary statistics of this strategy (Mean, Vol and Sharpe)."
   ]
  },
  {
   "cell_type": "code",
   "execution_count": 362,
   "id": "8b7ca330",
   "metadata": {},
   "outputs": [
    {
     "name": "stderr",
     "output_type": "stream",
     "text": [
      "C:\\Users\\Frank Reynolds\\AppData\\Local\\Temp\\ipykernel_18352\\2569745039.py:14: FutureWarning: Setting an item of incompatible dtype is deprecated and will raise an error in a future version of pandas. Value '-0.030254664344383078' has dtype incompatible with int64, please explicitly cast to a compatible dtype first.\n",
      "  df_strategy.loc[date, \"strategy\"] = 2 * df_strategy.loc[date, \"HDG\"] - df_strategy.loc[date, \"basket\"]\n"
     ]
    },
    {
     "data": {
      "text/html": [
       "<div>\n",
       "<style scoped>\n",
       "    .dataframe tbody tr th:only-of-type {\n",
       "        vertical-align: middle;\n",
       "    }\n",
       "\n",
       "    .dataframe tbody tr th {\n",
       "        vertical-align: top;\n",
       "    }\n",
       "\n",
       "    .dataframe thead th {\n",
       "        text-align: right;\n",
       "    }\n",
       "</style>\n",
       "<table border=\"1\" class=\"dataframe\">\n",
       "  <thead>\n",
       "    <tr style=\"text-align: right;\">\n",
       "      <th></th>\n",
       "      <th>basket</th>\n",
       "      <th>HDG</th>\n",
       "      <th>epsilon</th>\n",
       "      <th>strategy</th>\n",
       "    </tr>\n",
       "    <tr>\n",
       "      <th>date</th>\n",
       "      <th></th>\n",
       "      <th></th>\n",
       "      <th></th>\n",
       "      <th></th>\n",
       "    </tr>\n",
       "  </thead>\n",
       "  <tbody>\n",
       "    <tr>\n",
       "      <th>2011-08-31</th>\n",
       "      <td>-0.019264</td>\n",
       "      <td>-0.027036</td>\n",
       "      <td>-0.007771</td>\n",
       "      <td>0.000000</td>\n",
       "    </tr>\n",
       "    <tr>\n",
       "      <th>2011-09-30</th>\n",
       "      <td>-0.034678</td>\n",
       "      <td>-0.032466</td>\n",
       "      <td>0.002212</td>\n",
       "      <td>-0.030255</td>\n",
       "    </tr>\n",
       "    <tr>\n",
       "      <th>2011-10-31</th>\n",
       "      <td>0.040854</td>\n",
       "      <td>0.050531</td>\n",
       "      <td>0.009677</td>\n",
       "      <td>0.031177</td>\n",
       "    </tr>\n",
       "    <tr>\n",
       "      <th>2011-11-30</th>\n",
       "      <td>-0.005206</td>\n",
       "      <td>-0.028608</td>\n",
       "      <td>-0.023402</td>\n",
       "      <td>0.018196</td>\n",
       "    </tr>\n",
       "    <tr>\n",
       "      <th>2011-12-31</th>\n",
       "      <td>-0.001341</td>\n",
       "      <td>0.012875</td>\n",
       "      <td>0.014215</td>\n",
       "      <td>0.027090</td>\n",
       "    </tr>\n",
       "  </tbody>\n",
       "</table>\n",
       "</div>"
      ],
      "text/plain": [
       "              basket       HDG   epsilon  strategy\n",
       "date                                              \n",
       "2011-08-31 -0.019264 -0.027036 -0.007771  0.000000\n",
       "2011-09-30 -0.034678 -0.032466  0.002212 -0.030255\n",
       "2011-10-31  0.040854  0.050531  0.009677  0.031177\n",
       "2011-11-30 -0.005206 -0.028608 -0.023402  0.018196\n",
       "2011-12-31 -0.001341  0.012875  0.014215  0.027090"
      ]
     },
     "metadata": {},
     "output_type": "display_data"
    }
   ],
   "source": [
    "df_strategy = pd.DataFrame()\n",
    "df_strategy[\"basket\"] = df_proshares[[\"QAI\", \"SPY\", \"EEM\"]] @ df_temp[\"betas\"].values\n",
    "df_strategy[\"HDG\"] = df_proshares[\"HDG\"]\n",
    "df_strategy[\"epsilon\"] = df_strategy[\"HDG\"] - df_strategy[\"basket\"]\n",
    "\n",
    "\n",
    "df_strategy[\"strategy\"] = 0\n",
    "for i, date in enumerate(df_strategy.index):\n",
    "    if i == 0:\n",
    "        continue\n",
    "    \n",
    "    if df_strategy[\"epsilon\"].iloc[i-1] <= 0:\n",
    "        # - if the $\\varepsilon_t \\leq 0$ (is negative or equal to 0), you should be long HDG 200% in HDG and short 100% in the basket portfolio **in period $t+1$**.\n",
    "        df_strategy.loc[date, \"strategy\"] = 2 * df_strategy.loc[date, \"HDG\"] - df_strategy.loc[date, \"basket\"]\n",
    "    else:\n",
    "        # - if the $\\varepsilon_t > 0$ (is positive), you should be long 200% in the basket portfolio and short 100% **in HDG in period $t+1$**.\n",
    "        df_strategy.loc[date, \"strategy\"] = 2 * df_strategy.loc[date, \"basket\"] - df_strategy.loc[date, \"HDG\"]\n",
    "\n",
    "display(df_strategy.head())"
   ]
  },
  {
   "cell_type": "code",
   "execution_count": 363,
   "id": "4bc35252",
   "metadata": {},
   "outputs": [
    {
     "data": {
      "text/html": [
       "<div>\n",
       "<style scoped>\n",
       "    .dataframe tbody tr th:only-of-type {\n",
       "        vertical-align: middle;\n",
       "    }\n",
       "\n",
       "    .dataframe tbody tr th {\n",
       "        vertical-align: top;\n",
       "    }\n",
       "\n",
       "    .dataframe thead th {\n",
       "        text-align: right;\n",
       "    }\n",
       "</style>\n",
       "<table border=\"1\" class=\"dataframe\">\n",
       "  <thead>\n",
       "    <tr style=\"text-align: right;\">\n",
       "      <th></th>\n",
       "      <th>strategy</th>\n",
       "    </tr>\n",
       "  </thead>\n",
       "  <tbody>\n",
       "    <tr>\n",
       "      <th>mean</th>\n",
       "      <td>0.036563</td>\n",
       "    </tr>\n",
       "    <tr>\n",
       "      <th>std</th>\n",
       "      <td>0.062051</td>\n",
       "    </tr>\n",
       "    <tr>\n",
       "      <th>sharpe</th>\n",
       "      <td>0.589240</td>\n",
       "    </tr>\n",
       "  </tbody>\n",
       "</table>\n",
       "</div>"
      ],
      "text/plain": [
       "        strategy\n",
       "mean    0.036563\n",
       "std     0.062051\n",
       "sharpe  0.589240"
      ]
     },
     "execution_count": 363,
     "metadata": {},
     "output_type": "execute_result"
    }
   ],
   "source": [
    "# Report the annualized summary statistics of this strategy (Mean, Vol and Sharpe).\n",
    "\n",
    "calc_summary(df_strategy[[\"strategy\"]], annual_factor=annual_factor)"
   ]
  },
  {
   "cell_type": "markdown",
   "id": "7397b033-f586-49bf-9763-489276723d8a",
   "metadata": {},
   "source": [
    "### 5.\n",
    "\n",
    "On a different matter, we are now studying QAI and want to track (replicate) it using the other available ETFs.\n",
    "\n",
    "Use an intercept and report:\n",
    "\n",
    "- $\\beta$ (and the sum of $\\beta$'s absolute value).\n",
    "- $\\alpha$ and Information Ratio.\n",
    "- $R^2$.\n",
    "- Correlation matrix between the assets used to replicate QAI."
   ]
  },
  {
   "cell_type": "code",
   "execution_count": 364,
   "id": "76086cfe",
   "metadata": {},
   "outputs": [
    {
     "name": "stderr",
     "output_type": "stream",
     "text": [
      "c:\\Users\\Frank Reynolds\\OneDrive\\Main\\Classes\\UChicago\\FINM 36700 - Port and Risk\\git_finm-portfolio-2024\\exams\\midterm1\\TA_utils.py:114: FutureWarning: Series.__getitem__ treating keys as positions is deprecated. In a future version, integer keys will always be treated as labels (consistent with DataFrame behavior). To access a value by position, use `ser.iloc[pos]`\n",
      "  summary[f\"{col} Beta\"] = betas[i]\n"
     ]
    },
    {
     "data": {
      "text/html": [
       "<div>\n",
       "<style scoped>\n",
       "    .dataframe tbody tr th:only-of-type {\n",
       "        vertical-align: middle;\n",
       "    }\n",
       "\n",
       "    .dataframe tbody tr th {\n",
       "        vertical-align: top;\n",
       "    }\n",
       "\n",
       "    .dataframe thead th {\n",
       "        text-align: right;\n",
       "    }\n",
       "</style>\n",
       "<table border=\"1\" class=\"dataframe\">\n",
       "  <thead>\n",
       "    <tr style=\"text-align: right;\">\n",
       "      <th></th>\n",
       "      <th>betas</th>\n",
       "    </tr>\n",
       "  </thead>\n",
       "  <tbody>\n",
       "    <tr>\n",
       "      <th>EEM</th>\n",
       "      <td>0.046704</td>\n",
       "    </tr>\n",
       "    <tr>\n",
       "      <th>EFA</th>\n",
       "      <td>0.031268</td>\n",
       "    </tr>\n",
       "    <tr>\n",
       "      <th>EUO</th>\n",
       "      <td>-0.022726</td>\n",
       "    </tr>\n",
       "    <tr>\n",
       "      <th>HDG</th>\n",
       "      <td>0.246974</td>\n",
       "    </tr>\n",
       "    <tr>\n",
       "      <th>IWM</th>\n",
       "      <td>-0.001393</td>\n",
       "    </tr>\n",
       "    <tr>\n",
       "      <th>SPXU</th>\n",
       "      <td>0.043001</td>\n",
       "    </tr>\n",
       "    <tr>\n",
       "      <th>SPY</th>\n",
       "      <td>0.424617</td>\n",
       "    </tr>\n",
       "    <tr>\n",
       "      <th>UPRO</th>\n",
       "      <td>-0.058021</td>\n",
       "    </tr>\n",
       "  </tbody>\n",
       "</table>\n",
       "</div>"
      ],
      "text/plain": [
       "          betas\n",
       "EEM    0.046704\n",
       "EFA    0.031268\n",
       "EUO   -0.022726\n",
       "HDG    0.246974\n",
       "IWM   -0.001393\n",
       "SPXU   0.043001\n",
       "SPY    0.424617\n",
       "UPRO  -0.058021"
      ]
     },
     "metadata": {},
     "output_type": "display_data"
    }
   ],
   "source": [
    "other_etfs = df_proshares.columns.difference([\"QAI\"])\n",
    "\n",
    "regr_qai = ta.calc_multivariate_regression(df_proshares['QAI'], \n",
    "                                           df_proshares[other_etfs], \n",
    "                                           intercept=False,\n",
    "                                           adj=annual_factor)\n",
    "df_temp = pd.DataFrame()\n",
    "\n",
    "df_temp[\"betas\"] = regr_qai.loc[:, regr_qai.columns.str.contains('Beta')].T\n",
    "\n",
    "df_temp.index = df_temp.index.str.replace('Beta', '')\n",
    "display(df_temp)"
   ]
  },
  {
   "cell_type": "code",
   "execution_count": 365,
   "id": "ecf7750f",
   "metadata": {},
   "outputs": [
    {
     "name": "stdout",
     "output_type": "stream",
     "text": [
      "Sum of betas: 0.87\n",
      "Alpha: 0.00\n",
      "Information Ratio: 0.00\n",
      "R-squared: 0.84\n"
     ]
    }
   ],
   "source": [
    "print(f\"Sum of betas: {df_temp['betas'].abs().sum():.2f}\")\n",
    "print(f\"Alpha: {regr_qai['Alpha'].values[0]:.2f}\")\n",
    "print(f\"Information Ratio: {regr_qai['Information Ratio'].values[0]:.2f}\")\n",
    "print(f\"R-squared: {regr_qai['R-Squared'].values[0]:.2f}\")"
   ]
  },
  {
   "cell_type": "code",
   "execution_count": 366,
   "id": "4f6571b1",
   "metadata": {},
   "outputs": [
    {
     "data": {
      "text/plain": [
       "<Axes: >"
      ]
     },
     "execution_count": 366,
     "metadata": {},
     "output_type": "execute_result"
    },
    {
     "data": {
      "image/png": "[encoded data removed]",
      "text/plain": [
       "<Figure size 640x480 with 2 Axes>"
      ]
     },
     "metadata": {},
     "output_type": "display_data"
    }
   ],
   "source": [
    "sns.heatmap(df_proshares[other_etfs].corr(), \n",
    "            annot=True, \n",
    "            cmap='coolwarm', \n",
    "            center=0)"
   ]
  },
  {
   "cell_type": "markdown",
   "id": "e23fbaed-bfd0-4ba3-80b1-10282619aba9",
   "metadata": {},
   "source": [
    "### 6.\n",
    "\n",
    "Explain how good is your replication, pointing out at least one good or bad argument related to each of the statistics mentioned in the bullet points above (thus, you should have at least 4 arguments)."
   ]
  },
  {
   "cell_type": "markdown",
   "id": "2be4ea9c",
   "metadata": {},
   "source": [
    "* With a abs sum of beta of around 1, the replication is very good. This tells us all our betas a reasonable\n",
    "* With an alpha of 0, this tells us there is little return not explained by the ETFS\n",
    "* With an information ratio of 0, this tells us that there is no excess return in the portfolio\n",
    "* With an R-squared of 0.84, this tells us that the ETFs we have chosen are good predictors of the QAI"
   ]
  },
  {
   "cell_type": "markdown",
   "id": "ecd7b8ee",
   "metadata": {},
   "source": [
    "***"
   ]
  },
  {
   "cell_type": "markdown",
   "id": "cb06f50c-cc60-4ee7-9828-bc6bff90c46d",
   "metadata": {},
   "source": [
    "# 4. "
   ]
  },
  {
   "cell_type": "markdown",
   "id": "4c6cde15-77e9-480a-ac34-0ae92694cdab",
   "metadata": {},
   "source": [
    "The data in sheet `fx carry excess returns` has **excess** daily returns for trading currencies.\n",
    "* You **do NOT need** to know anything about FX, currency, or the underlying strategies.\n",
    "* Rather, just take these return series as given.\n",
    "\n",
    "For the problems below, we will **only use** the `JPY` series."
   ]
  },
  {
   "cell_type": "code",
   "execution_count": 367,
   "id": "17e9a3ce",
   "metadata": {},
   "outputs": [
    {
     "data": {
      "text/html": [
       "<div>\n",
       "<style scoped>\n",
       "    .dataframe tbody tr th:only-of-type {\n",
       "        vertical-align: middle;\n",
       "    }\n",
       "\n",
       "    .dataframe tbody tr th {\n",
       "        vertical-align: top;\n",
       "    }\n",
       "\n",
       "    .dataframe thead th {\n",
       "        text-align: right;\n",
       "    }\n",
       "</style>\n",
       "<table border=\"1\" class=\"dataframe\">\n",
       "  <thead>\n",
       "    <tr style=\"text-align: right;\">\n",
       "      <th></th>\n",
       "      <th>JPY</th>\n",
       "    </tr>\n",
       "    <tr>\n",
       "      <th>date</th>\n",
       "      <th></th>\n",
       "    </tr>\n",
       "  </thead>\n",
       "  <tbody>\n",
       "    <tr>\n",
       "      <th>2019-01-07</th>\n",
       "      <td>-0.001843</td>\n",
       "    </tr>\n",
       "    <tr>\n",
       "      <th>2019-01-08</th>\n",
       "      <td>-0.000324</td>\n",
       "    </tr>\n",
       "    <tr>\n",
       "      <th>2019-01-09</th>\n",
       "      <td>0.005222</td>\n",
       "    </tr>\n",
       "    <tr>\n",
       "      <th>2019-01-10</th>\n",
       "      <td>-0.002486</td>\n",
       "    </tr>\n",
       "    <tr>\n",
       "      <th>2019-01-11</th>\n",
       "      <td>-0.000865</td>\n",
       "    </tr>\n",
       "    <tr>\n",
       "      <th>2019-01-15</th>\n",
       "      <td>-0.001843</td>\n",
       "    </tr>\n",
       "    <tr>\n",
       "      <th>2019-01-16</th>\n",
       "      <td>-0.003694</td>\n",
       "    </tr>\n",
       "    <tr>\n",
       "      <th>2019-01-17</th>\n",
       "      <td>-0.001635</td>\n",
       "    </tr>\n",
       "    <tr>\n",
       "      <th>2019-01-18</th>\n",
       "      <td>-0.004914</td>\n",
       "    </tr>\n",
       "    <tr>\n",
       "      <th>2019-01-21</th>\n",
       "      <td>0.000991</td>\n",
       "    </tr>\n",
       "  </tbody>\n",
       "</table>\n",
       "</div>"
      ],
      "text/plain": [
       "                 JPY\n",
       "date                \n",
       "2019-01-07 -0.001843\n",
       "2019-01-08 -0.000324\n",
       "2019-01-09  0.005222\n",
       "2019-01-10 -0.002486\n",
       "2019-01-11 -0.000865\n",
       "2019-01-15 -0.001843\n",
       "2019-01-16 -0.003694\n",
       "2019-01-17 -0.001635\n",
       "2019-01-18 -0.004914\n",
       "2019-01-21  0.000991"
      ]
     },
     "metadata": {},
     "output_type": "display_data"
    }
   ],
   "source": [
    "df_fx = dfs_raw['fx carry returns'].copy().set_index(\"date\")\n",
    "df_fx = df_fx[[\"JPY\"]]\n",
    "annual_factor = 252\n",
    "\n",
    "display(df_fx.head(10))"
   ]
  },
  {
   "cell_type": "markdown",
   "id": "b827c465-d9dd-4466-bbc7-946e3fce7029",
   "metadata": {},
   "source": [
    "### 1.\n",
    "\n",
    "Calculate the `1%` VaR as follows...\n",
    "\n",
    "Empirical VaR:\n",
    "* At every point in time, calculate the `1st` quantile of the returns up to that point.\n",
    "* No need to scale the answers.\n",
    "  \n",
    "Report the VaR for the final date of the sample."
   ]
  },
  {
   "cell_type": "code",
   "execution_count": 368,
   "id": "3380f8b3",
   "metadata": {},
   "outputs": [
    {
     "data": {
      "text/html": [
       "<div>\n",
       "<style scoped>\n",
       "    .dataframe tbody tr th:only-of-type {\n",
       "        vertical-align: middle;\n",
       "    }\n",
       "\n",
       "    .dataframe tbody tr th {\n",
       "        vertical-align: top;\n",
       "    }\n",
       "\n",
       "    .dataframe thead th {\n",
       "        text-align: right;\n",
       "    }\n",
       "</style>\n",
       "<table border=\"1\" class=\"dataframe\">\n",
       "  <thead>\n",
       "    <tr style=\"text-align: right;\">\n",
       "      <th></th>\n",
       "      <th>empirical</th>\n",
       "    </tr>\n",
       "    <tr>\n",
       "      <th>date</th>\n",
       "      <th></th>\n",
       "    </tr>\n",
       "  </thead>\n",
       "  <tbody>\n",
       "    <tr>\n",
       "      <th>2024-08-05</th>\n",
       "      <td>-0.017182</td>\n",
       "    </tr>\n",
       "  </tbody>\n",
       "</table>\n",
       "</div>"
      ],
      "text/plain": [
       "            empirical\n",
       "date                 \n",
       "2024-08-05  -0.017182"
      ]
     },
     "metadata": {},
     "output_type": "display_data"
    }
   ],
   "source": [
    "percent_var = .01\n",
    "df_jpy_vars = pd.DataFrame()\n",
    "\n",
    "df_jpy_vars[\"empirical\"] = (\n",
    "    df_fx.shift(1)\n",
    "    .expanding()\n",
    "    .quantile(percent_var)\n",
    "    )\n",
    "\n",
    "display(df_jpy_vars.tail(1)[[\"empirical\"]])"
   ]
  },
  {
   "cell_type": "markdown",
   "id": "f973bfcf-8d52-4465-8513-f393b85393c4",
   "metadata": {},
   "source": [
    "### 2.\n",
    "\n",
    "Now calculate the `normal VaR` of `JPY` as follows,\n",
    "\n",
    "$$\\text{Normal VaR (1\\%)} = -2.33\\, \\sigma_t$$\n",
    "\n",
    "where $\\sigma_t$ is estimated with\n",
    "* rolling volatility.\n",
    "* using a window of `233` days.\n",
    "* without using a sample mean.\n",
    "\n",
    "Report the VaR for the final `3 days` of the sample."
   ]
  },
  {
   "cell_type": "code",
   "execution_count": 369,
   "id": "476644ef",
   "metadata": {},
   "outputs": [
    {
     "data": {
      "text/html": [
       "<div>\n",
       "<style scoped>\n",
       "    .dataframe tbody tr th:only-of-type {\n",
       "        vertical-align: middle;\n",
       "    }\n",
       "\n",
       "    .dataframe tbody tr th {\n",
       "        vertical-align: top;\n",
       "    }\n",
       "\n",
       "    .dataframe thead th {\n",
       "        text-align: right;\n",
       "    }\n",
       "</style>\n",
       "<table border=\"1\" class=\"dataframe\">\n",
       "  <thead>\n",
       "    <tr style=\"text-align: right;\">\n",
       "      <th></th>\n",
       "      <th>rolling_normal</th>\n",
       "    </tr>\n",
       "    <tr>\n",
       "      <th>date</th>\n",
       "      <th></th>\n",
       "    </tr>\n",
       "  </thead>\n",
       "  <tbody>\n",
       "    <tr>\n",
       "      <th>2024-08-01</th>\n",
       "      <td>-0.013350</td>\n",
       "    </tr>\n",
       "    <tr>\n",
       "      <th>2024-08-02</th>\n",
       "      <td>-0.013359</td>\n",
       "    </tr>\n",
       "    <tr>\n",
       "      <th>2024-08-05</th>\n",
       "      <td>-0.013631</td>\n",
       "    </tr>\n",
       "  </tbody>\n",
       "</table>\n",
       "</div>"
      ],
      "text/plain": [
       "            rolling_normal\n",
       "date                      \n",
       "2024-08-01       -0.013350\n",
       "2024-08-02       -0.013359\n",
       "2024-08-05       -0.013631"
      ]
     },
     "metadata": {},
     "output_type": "display_data"
    }
   ],
   "source": [
    "var_multiplier = -2.33\n",
    "window = 233\n",
    "\n",
    "df_jpy_vars[\"rolling_normal\"] = (\n",
    "    df_fx\n",
    "    .rolling(window=window)\n",
    "    .apply(lambda x: np.sqrt(sum(x**2)/len(x)))\n",
    "    .shift(1) \n",
    "    * var_multiplier\n",
    ")\n",
    "\n",
    "display(df_jpy_vars.tail(3)[[\"rolling_normal\"]])"
   ]
  },
  {
   "cell_type": "markdown",
   "id": "98805080-a0db-48bd-ab7a-34574b8ace75",
   "metadata": {},
   "source": [
    "### 3.\n",
    "\n",
    "Now calculate the `normal VaR` of `JPY` as follows,\n",
    "\n",
    "$$\\text{Normal VaR (1\\%)} = -2.33\\, \\sigma_t$$\n",
    "\n",
    "where $\\sigma_t$ is estimated with\n",
    "* EWMA volatility\n",
    "* using $\\lambda = 0.94$.\n",
    "* without using a sample mean.\n",
    "\n",
    "Report the VaR for the final `3 days` of the sample."
   ]
  },
  {
   "cell_type": "code",
   "execution_count": 370,
   "id": "698120a6",
   "metadata": {},
   "outputs": [
    {
     "data": {
      "text/html": [
       "<div>\n",
       "<style scoped>\n",
       "    .dataframe tbody tr th:only-of-type {\n",
       "        vertical-align: middle;\n",
       "    }\n",
       "\n",
       "    .dataframe tbody tr th {\n",
       "        vertical-align: top;\n",
       "    }\n",
       "\n",
       "    .dataframe thead th {\n",
       "        text-align: right;\n",
       "    }\n",
       "</style>\n",
       "<table border=\"1\" class=\"dataframe\">\n",
       "  <thead>\n",
       "    <tr style=\"text-align: right;\">\n",
       "      <th></th>\n",
       "      <th>ewma</th>\n",
       "    </tr>\n",
       "    <tr>\n",
       "      <th>date</th>\n",
       "      <th></th>\n",
       "    </tr>\n",
       "  </thead>\n",
       "  <tbody>\n",
       "    <tr>\n",
       "      <th>2024-08-01</th>\n",
       "      <td>-0.012893</td>\n",
       "    </tr>\n",
       "    <tr>\n",
       "      <th>2024-08-02</th>\n",
       "      <td>-0.012676</td>\n",
       "    </tr>\n",
       "    <tr>\n",
       "      <th>2024-08-05</th>\n",
       "      <td>-0.014599</td>\n",
       "    </tr>\n",
       "  </tbody>\n",
       "</table>\n",
       "</div>"
      ],
      "text/plain": [
       "                ewma\n",
       "date                \n",
       "2024-08-01 -0.012893\n",
       "2024-08-02 -0.012676\n",
       "2024-08-05 -0.014599"
      ]
     },
     "metadata": {},
     "output_type": "display_data"
    }
   ],
   "source": [
    "# def calc_ewma_volatility(excess_returns: pd.Series, theta : float = 0.94, initial_vol : float = .2 / np.sqrt(252)) -> pd.Series:\n",
    "#     var_t0 = initial_vol ** 2\n",
    "#     ewma_var = [var_t0]\n",
    "#     for i in range(len(excess_returns.index)):\n",
    "#         new_ewma_var = ewma_var[-1] * theta + (excess_returns.iloc[i] ** 2) * (1 - theta)\n",
    "#         ewma_var.append(new_ewma_var)\n",
    "#     ewma_var.pop(0) # Remove var_t0\n",
    "#     ewma_vol = [np.sqrt(v) for v in ewma_var]\n",
    "#     return pd.Series(ewma_vol, index=excess_returns.index)\n",
    "\n",
    "exp_lambda = .94\n",
    "\n",
    "# # todo double check\n",
    "# df_jpy_vars[\"ewma\"] = calc_ewma_volatility(df_fx[\"JPY\"], \n",
    "#                                            theta=exp_lambda, \n",
    "#                                            initial_vol=.2 / np.sqrt(252)\n",
    "#                                            )\n",
    "\n",
    "\n",
    "\n",
    "# np.sqrt((retsx['TSLA']**2).rolling(52).mean().shift())\n",
    "df_jpy_vars[\"ewma\"] = (\n",
    "    np.sqrt((df_fx**2))\n",
    "    .ewm(alpha=1-exp_lambda)\n",
    "    .mean() \n",
    "    #.apply(lambda x: np.sqrt(sum(x**2)/len(x)))\n",
    "    .shift(1) \n",
    "    * var_multiplier\n",
    ")\n",
    "\n",
    "\n",
    "\n",
    "# df_jpy_vars[\"ewma\"] = (\n",
    "#     df_fx\n",
    "#     .ewm(alpha=1-exp_lambda) # todo check\n",
    "#     .std() \n",
    "#     #.apply(lambda x: np.sqrt(sum(x**2)/len(x)))\n",
    "#     .shift(1) \n",
    "#     * var_multiplier\n",
    "# )\n",
    "\n",
    "display(df_jpy_vars.tail(3)[[\"ewma\"]])"
   ]
  },
  {
   "cell_type": "markdown",
   "id": "1778a4f4-0382-4b27-a4bd-5b980fee9f82",
   "metadata": {},
   "source": [
    "### 4.\n",
    "\n",
    "Make a plot of the three timeseries of your VaR estimates.\n",
    "\n",
    "Succinctly point out the pros / cons of these approaches."
   ]
  },
  {
   "cell_type": "code",
   "execution_count": 371,
   "id": "f3021de4",
   "metadata": {},
   "outputs": [
    {
     "data": {
      "image/png": "[encoded data removed]",
      "text/plain": [
       "<Figure size 1200x600 with 1 Axes>"
      ]
     },
     "metadata": {},
     "output_type": "display_data"
    }
   ],
   "source": [
    "plt.figure(figsize=(12, 6))\n",
    "for c in df_jpy_vars.columns:\n",
    "    plt.plot(df_jpy_vars[c], label=c)\n",
    "\n",
    "plt.legend()\n",
    "plt.title(\"VaRs over time\")\n",
    "plt.show()"
   ]
  },
  {
   "cell_type": "markdown",
   "id": "8dca339c",
   "metadata": {},
   "source": [
    "- The empiracl and rolling look pretty good. They are similar curves. \n",
    "- The ewma is not very smooth and has a drastic drop around 2020."
   ]
  },
  {
   "cell_type": "markdown",
   "id": "766661e3-af58-4918-ba7e-e9aba15333da",
   "metadata": {},
   "source": [
    "### 5.\n",
    "\n",
    "What statistic do we use to judge the performance of a VaR model?\n",
    "\n",
    "Estimate and report this statistic across the VaR methods.\n",
    "\n",
    "Which VaR model do you find is best?"
   ]
  },
  {
   "cell_type": "markdown",
   "id": "cda4e6c2",
   "metadata": {},
   "source": [
    "We use the the \"hit percent\" to judge the performance of a VaR model. Basically we look at\n",
    "percentage of returns that exceed the VaR at the time. This percentage should be around 1% since we \n",
    "are estimating the 1% VaR"
   ]
  },
  {
   "cell_type": "code",
   "execution_count": 372,
   "id": "ade75bed",
   "metadata": {},
   "outputs": [
    {
     "name": "stdout",
     "output_type": "stream",
     "text": [
      "Hit ratio for empirical: 0.02454\n",
      "Hit ratio for rolling_normal: 0.02519\n",
      "Hit ratio for ewma: 0.05138\n"
     ]
    }
   ],
   "source": [
    "def get_hit_percent(cvars, returns):\n",
    "    return sum(returns < cvars) / sum(~cvars.isna())\n",
    "\n",
    "\n",
    "for c in df_jpy_vars.columns:\n",
    "    print(f\"Hit ratio for {c}: {get_hit_percent(df_jpy_vars[c], df_fx['JPY']):.5f}\")"
   ]
  },
  {
   "cell_type": "markdown",
   "id": "23d710a7",
   "metadata": {},
   "source": [
    "The hit ratios are a little large, especially for ewma. I prefer the empiracal approach because this has the hit percentage closest to 1%."
   ]
  },
  {
   "cell_type": "markdown",
   "id": "cff0e17f-9126-4f11-99c0-fa9796143021",
   "metadata": {},
   "source": [
    "***"
   ]
  }
 ],
 "metadata": {
  "hide_input": false,
  "kernelspec": {
   "display_name": "git_finm-portfolio-2024",
   "language": "python",
   "name": "python3"
  },
  "language_info": {
   "codemirror_mode": {
    "name": "ipython",
    "version": 3
   },
   "file_extension": ".py",
   "mimetype": "text/x-python",
   "name": "python",
   "nbconvert_exporter": "python",
   "pygments_lexer": "ipython3",
   "version": "3.11.9"
  }
 },
 "nbformat": 4,
 "nbformat_minor": 5
}
