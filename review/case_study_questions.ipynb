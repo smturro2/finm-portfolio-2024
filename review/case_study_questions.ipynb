{
 "cells": [
  {
   "cell_type": "markdown",
   "metadata": {},
   "source": [
    "### 1.\n",
    "\n",
    "Consider a Linear Factor Pricing Model (LFPM).\n",
    "\n",
    "Which metric do we examine to understand its fit, (or errors)...\n",
    "* given the estimated **time-series (TS)** test?\n",
    "* given the estimated **cross-sectional (CS)** test?"
   ]
  },
  {
   "cell_type": "markdown",
   "metadata": {},
   "source": [
    "<span style='color:red'>\n",
    "\n",
    "**Solution**\n",
    "\n",
    "For the TS test: erros are measured by the alphas of each time series regression. We can use MAE (of alphas), F-test, etc. to measure overall fit and statistical significance of the alphas. For joint significance of alphas, we could use the GRS test. \n",
    "\n",
    "For the CS test: errors are measured by the residuals of the cross-sectional regression, via the MAE (of the residuals). We can also use the r-squared of the cross-sectional regression to measure overall fit.\n",
    "</span>"
   ]
  },
  {
   "cell_type": "markdown",
   "metadata": {},
   "source": [
    "### 2.\n",
    "\n",
    "Consider the Arbitrage Pricing Theory (APT). Is it fair to say that it is more likely to work for sets of assets with low cross-correlation? Why or why not?"
   ]
  },
  {
   "cell_type": "markdown",
   "metadata": {},
   "source": [
    "<span style='color:red'>\n",
    "\n",
    "**Solution**\n",
    "\n",
    "No, we can't say that. APT requires that the **residuals** have zero correlation to each other, not the overall assets. It is possible that the assets are highly correlated, but this is due to a strong factor structure, ie. the assets are highly correlated because the same factors drive their returns. In this case, after the Linear Factor Decomposition (LFD) there is no correlation left.\n",
    "\n",
    "Raw correlation of the returns is not indicative of what the post-factor-decomposition correlation will be.\n",
    "\n",
    "</span>"
   ]
  },
  {
   "cell_type": "markdown",
   "metadata": {},
   "source": [
    "### 3.\n",
    "\n",
    "In constructing momentum portfolios, we discussed selecting the top and bottom 10% of stocks, ranked by past returns. How do you think the strategy would be impacted if we were more extreme in the selection, and went long-short just the top / bottom 1% of total stocks?"
   ]
  },
  {
   "cell_type": "markdown",
   "metadata": {},
   "source": [
    "<span style='color:red'>\n",
    "\n",
    "**Solution**\n",
    "\n",
    "Stricter selection will, according to our model, load on higher mean returns but with less diversification and higher idiosyncratic risk. Thus, we expect higher mean returns and higher vol to this strategy.\n",
    "\n",
    "We explored this in Homework 6, where we found the conclusion above by ranging from 5 to 3 to 1 deciles.\n",
    "\n",
    "</span>"
   ]
  },
  {
   "cell_type": "markdown",
   "metadata": {},
   "source": [
    "### 4.\n",
    "\n",
    "Over longer horizons, do investments have higher Sharpe ratios? How is this issue relevant to long-term asset allocators such as Barnstable?"
   ]
  },
  {
   "cell_type": "markdown",
   "metadata": {},
   "source": [
    "<span style='color:red'>\n",
    "\n",
    "**Solution**\n",
    "\n",
    "Yes.\n",
    "\n",
    "We found that returns have low serial correlation, and that they closely matched the simple iid log return model's prediction of sharpe ratios expanding with the square root of the horizon (ie. the standard deviation of the return scales with the square root of the horizon, while the mean return scales linearly with the horizon).\n",
    "\n",
    "Therefore, for Barnstable and other institutional investors, this means that the investment environment is better for long-run strategies than short-run strategies.\n",
    "\n",
    "</span>"
   ]
  },
  {
   "cell_type": "markdown",
   "metadata": {},
   "source": [
    "### 5.\n",
    "\n",
    "Before it crashed, how did LTCM's performance compare to the S&P (SPY)? Was it an attractive investment? Be specific."
   ]
  },
  {
   "cell_type": "markdown",
   "metadata": {},
   "source": [
    "<span style='color:red'>\n",
    "\n",
    "**Solution**\n",
    "\n",
    "Compared to SPY: it was broadly similar in terms of univariate statistics over the period (SPY did particularly well in the period).\n",
    "\n",
    "However, it had a very good absolute return and low volatility for both the gross and net returns. Most importantly, though, it had a very low market beta and a very high alpha, meaning that it provided an extremely attractive investment opportunity as it was able to provide a high return with low correlation to the market.\n",
    "\n",
    "</span>"
   ]
  },
  {
   "cell_type": "markdown",
   "metadata": {},
   "source": [
    "### 6.\n",
    "\n",
    "Suppose investors are **not** mean-variance investors. If we find an investment with a Sharpe ratio higher than the \"market\", would this would be inconsistent with the CAPM?"
   ]
  },
  {
   "cell_type": "markdown",
   "metadata": {},
   "source": [
    "todo review"
   ]
  },
  {
   "cell_type": "markdown",
   "metadata": {},
   "source": [
    "<span style='color:red'>\n",
    "\n",
    "**Solution**\n",
    "\n",
    "Yes.\n",
    "\n",
    "This is a follow-up question to Midterm 2, where we found that:\n",
    "\n",
    "$$\n",
    "\\textrm{SR}^i = (\\rho_{i,\\textrm{MKT}}) \\cdot \\textrm{SR}^{\\textrm{MKT}} \\;\\;\\;\\; R^2 = \\rho_{i,\\textrm{MKT}}^2\n",
    "$$\n",
    "\n",
    "Since $\\rho$ is bounded by $\\pm 1$, then it means we can at most have a Sharpe ratio that is equal to the market's Sharpe ratio. That is, the market factor has the maximum sharpe, regardless of whether any investor is an MV investor. Therefore, finding a higher Sharpe ratio than the market is inconsistent with the CAPM.\n",
    "\n",
    "</span>"
   ]
  },
  {
   "cell_type": "markdown",
   "metadata": {},
   "source": [
    "### 7.\n",
    "\n",
    "What causes us concern about the performance of classic mean-variance optimization out-of-sample?\n",
    "\n",
    "What is one of the potential solutions we discussed?"
   ]
  },
  {
   "cell_type": "markdown",
   "metadata": {},
   "source": [
    "<span style='color:red'>\n",
    "\n",
    "**Solution**\n",
    "\n",
    "We found that OOS performance is normally due to:\n",
    "- Poorly estimated mean returns (TIPS example)\n",
    "- Low condition number of the covariance matrix; which causes extreme weights.\n",
    "\n",
    "Thus, inverting the covariance matrix when it is close to singular multiplies the uncertainty in the mean returns. This leads to very uncertain weights, which out of sample can change drastically.\n",
    "\n",
    "There are several ways around this problem, the one we discussed most was regularization/shrinkage.\n",
    "\n",
    "</span>"
   ]
  },
  {
   "cell_type": "markdown",
   "metadata": {},
   "source": [
    "### 8.\n",
    "\n",
    "True or False: Uncovered Interest Parity implies Covered Interest Parity, but not vice-versa.\n",
    "\n",
    "Explain."
   ]
  },
  {
   "cell_type": "markdown",
   "metadata": {},
   "source": [
    "<span style='color:red'>\n",
    "\n",
    "**Solution**\n",
    "\n",
    "False. \n",
    "\n",
    "Neither implies the other directly. CIP is a no-arbitrage condition when trying to construct a carry-trade using the forward market. On the other hand, UIP is just a theory/statement about the relationship between interest rate differentials and **expected** FX returns, ie. that there is no risk premia in FX risk.\n",
    "\n",
    "</span>"
   ]
  },
  {
   "cell_type": "markdown",
   "metadata": {},
   "source": [
    "### 1.1.\n",
    "\n",
    "Historically, which pricing factor among the ones we studied has shown a considerable decrease in importance?\n",
    "\n",
    "<span style='color: red;'>\n",
    "\n",
    "The size factor (SMB) from the Fama-French factor model has shown a relevant decrease in performance.\n",
    "\n",
    "Traditionally, smaller firms were thought to generate higher returs as compensation for higher risk. The shift probably happened due to larger access to information of smaller firms. When the factor still had positive premium, information for smaller firms was not readily available and not trustworthy. As a consequence, investor were risk averse to them.\n",
    "As information for smaller firms become more easily available to the overall market, the size factor lost importance.\n",
    "\n",
    "</span>"
   ]
  },
  {
   "cell_type": "markdown",
   "metadata": {},
   "source": [
    "### 1.2.\n",
    "\n",
    "True or False: For a given factor model and a set of test assets, the addition of one more factor to that model will surely decrease the cross-sectional MAE. \n",
    "\n",
    "True or False: For a given factor model and a set of test assets, the addition of one more factor to that model will surely decrease the time-series MAE. \n",
    "\n",
    "Along with stating T/F, explain your reasoning for the two statements.\n",
    "\n",
    "<span style='color: red;'>\n",
    "\n",
    "True: the cross-sectional MAE is the average absolute error of the cross-sectional regression. Thus, by adding another factor to the regression, one should expect an increase in $R^2$ and decrease in MAE. In our exercises, we saw that the cross-sectional MAE is biggest for the CAPM and smallest for the FF5F.\n",
    "\n",
    "False: the time-series MAE is the average absolute $\\alpha$ of all time-series regressions. Increasing the number of factors does not necessarily lead to lower $\\alpha$. In our exercises, we saw that the CAPM has the smallest time-series MAE and the FF5F has the biggest.\n",
    "\n",
    "</span>"
   ]
  },
  {
   "cell_type": "markdown",
   "metadata": {},
   "source": [
    "### 1.3.\n",
    "\n",
    "Consider the scenario in which you are helping two people with investments.\n",
    "\n",
    "* The young person has a 50 year investment horizon.\n",
    "* The elderly person has a 10 year investment horizon.\n",
    "* Both individuals have the same portfolio holdings.\n",
    "\n",
    "State who has the more certain cumulative return and explain your reasoning.\n",
    "\n",
    "<span style='color: red;'>\n",
    "\n",
    "We are more certain about the cumulative return of the elderly person.\n",
    "\n",
    "This is the case because the level of certainty about a given statistics is a consequence of the standard deviation of the statistic.\n",
    "\n",
    "As stated in lecture, for returns with no auto-correlation, variance scales linearly with time. Thus,\n",
    "\n",
    "$$\n",
    "\\sigma_{\\text{year}} = \\sqrt{12} \\times \\sigma_{\\text{month}}\n",
    "$$\n",
    "\n",
    "Meaning that\n",
    "\n",
    "$$\n",
    "\\sigma_{\\text{50 years}} = \\sqrt{12 \\times 50} \\times \\sigma_{\\text{month}}\n",
    "$$\n",
    "\n",
    "$$\n",
    "\\sigma_{\\text{10 years}} = \\sqrt{12 \\times 10} \\times \\sigma_{\\text{month}}\n",
    "$$\n",
    "\n",
    "Thus, the volatility (and variance) of 10-year cummulative return is lower than the volatility (and variance) of 50-year cummulative return.\n",
    "\n",
    "It is worth to mention that, on the other hand, we are more certain about the average return for the longer horizon, given the bigger sample size (nonetheless, the question is about cummulative returns).\n",
    "\n",
    "</span>"
   ]
  },
  {
   "cell_type": "markdown",
   "metadata": {},
   "source": [
    "### 1.4.\n",
    "\n",
    "Suppose we find that the 10-year bond yield works well as a new pricing factor, along with `MKT`.\n",
    "\n",
    "Consider two ways of building this new factor.\n",
    "1. Directly use the index of 10-year yields, `YLD`\n",
    "1. Construct a Fama-French style portfolio of equities, `FFYLD`. (Rank all the stocks by their correlation to bond yield changes, and go long the highest ranked and shor tthe lowest ranked.)\n",
    "\n",
    "Could you test the model with `YLD` and the model with `FFYLD` in the exact same ways? Explain.\n",
    "\n",
    "<span style='color: red;'>\n",
    "\n",
    "No. You can only test the model including `YLD` with the cross-sectional test. You can test the model with `FFYLD` with either the cross-sectional test or the time-series test.\n",
    "\n",
    "The first model is not testable with the time-series test because the index of 10-year yield is not a tradable asset. The situation is similar to the CCAPM (Consumption CAPM), in which we use level of consumption as a factor in the model.\n",
    "\n",
    "</span>"
   ]
  },
  {
   "cell_type": "markdown",
   "metadata": {},
   "source": [
    "### 1.5.\n",
    "\n",
    "Suppose we implement a momentum strategy on cryptocurrencies rather than US stocks.\n",
    "\n",
    "Conceptually speaking, but specific to the context of our course discussion, how would the risk profile differ from the momentum strategy of US equities?\n",
    "\n",
    "<span style='color: red;'>\n",
    "\n",
    "Using a momentum strategy with cryptocurrencies instead of US stocks would lead to:\n",
    "- Higher idyosincratic risk: there are more US stocks than cryptoassets. Therefore, going long on the 10% biggest returns and short on the 10% smaller returns would lead to a smaller number of holdings in a cryptocurrency strategy than in a stock strategy.\n",
    "- Higher volatility: cryptocurrencies are more volatile than US stocks. Thus, we should expect a momentum strategy with those to also be more volatile.\n",
    "- Higher liquidity risk: some cryptocurrencies have low liquidity. As a consequence, it becomes challenging to execute large trades without significantly impacting the market price.\n",
    "- Higher momentum: the lower liquidity of some cryptocurrencies can lead to less market makers, possibly allowing for higher autocorrelation in the returns. If that is the case, momentum strategies in the market should perform better when compared to the US stock momentum strategy.\n",
    "</span>"
   ]
  },
  {
   "cell_type": "markdown",
   "metadata": {},
   "source": [
    "# 1. Short Answer"
   ]
  },
  {
   "cell_type": "markdown",
   "metadata": {},
   "source": [
    "#### No Data Needed\n",
    "\n",
    "These problems do not require any data file. Rather, analyze them conceptually. "
   ]
  },
  {
   "cell_type": "markdown",
   "metadata": {},
   "source": [
    "### 1.\n",
    "\n",
    "#### (10pts)\n",
    "\n",
    "In the mean-variance optimization of `homework 1`, suppose we found the mean excess return of TIPS is 4% annualized.\n",
    "\n",
    "Explain--conceptually--how each of the following would have impacted the new (with TIPS) MV solution.\n",
    "* TIPS is found to have correlation of 0% to `IEF` and 0% to SPY.\n",
    "* TIPS is found to have correlation of 100% to `IEF`.\n",
    "\n",
    "Would it be possible for TIPS to have been found to have 0% correlation to every other asset in `homework 1`? Explain."
   ]
  },
  {
   "cell_type": "markdown",
   "metadata": {},
   "source": [
    "### 2. \n",
    "\n",
    "Depending on the application, one may or may not choose to include an intercept term in a linear factor decomposition of an asset’s returns. In what circumstances would I prefer to include an intercept, and in what circumstances would I not?"
   ]
  },
  {
   "cell_type": "markdown",
   "metadata": {},
   "source": [
    "***"
   ]
  },
  {
   "cell_type": "markdown",
   "metadata": {},
   "source": [
    "# <span style=\"color:red\">Solution 1</span>"
   ]
  },
  {
   "cell_type": "markdown",
   "metadata": {},
   "source": [
    "### <span style=\"color:red\">1.1.</span>"
   ]
  },
  {
   "cell_type": "markdown",
   "metadata": {},
   "source": [
    "**TIPS is found to have correlation of 0% to `IEF` and 0% to `SPY`:**\n",
    "\n",
    "If restricted to a long-only portfolios, correlation of 0% would for sure increase TIPS diversification characteristic and therefore increase its weight in the GMV and tangency portfolio. In a long-only portfolio, lower correlation with other assets, higher expected return, and lower volatility (the last two are directly related to Sharpe) are the main estimates responsible for defining (and more specifically increasing) weights in optimal MV portfolios. In summary, by lowering TIPS correlation with SPY and IEF we can ensure bigger absolute value of Sharpe in the tangency portfolio.\n",
    "\n",
    "In the case study as well as in our homework (even though we are not restricted to long-only portfolio), TIPS, IEF and SPY present positive weights, which leads us to conclude that a decrease in TIP correlation with the specified other assets should improve the MV allocation and increase the set of risk-return possible allocations.\n",
    "\n",
    "Extra:\n",
    "\n",
    "In some cases, if not restricted to long-only portfolios, the expected output is not straight-forward. For instance, if TIPS currently had negative weights in the tangency portfolio, decreasing its correlation with other assets to 0% (all else constant) would decrease its diversification benefit (shorting an asset with highly positive correlation is equal to buying an asset with highly negative correlation). The result could also be detrimental even if TIPS has positive weight but IEF and SPY have negative weights in the tangency portfolio, since the change would reduce the diversification benefit of IEF and SPY.\n",
    "\n",
    "**TIPS is found to have correlation of 100% to `IEF`:**\n",
    "\n",
    "If TIPS had a correlation of 100% with IEF, the covariance matrix would not be invertible, not allowing for a analytical solution when deriving the tangency and GMV portfolios. The theoretical solution, in the limit, would tell you to infinitely short the asset with the lowest Sharpe between the two to infinitely buy the asset with the highest Sharpe. In the tangency portfolio constrained optimization, the solution would put IEF weight in its lower bound (considering that it has lower Sharpe than TIPS) and TIPS on its upper bound.\n",
    "\n",
    "Alternatively, you could drop one of the assets. In this scenario, it would make sense to drop IEF, again due to TIPS higher Sharpe.\n",
    "\n",
    "**Would it be possible for TIPS to have been found to have 0% correlation to every other asset in `homework 1`? Explain.**\n",
    "\n",
    "Yes, it is mathematically possible even though economically improbable. Such a covariance matrix would show that TIP is not affected by other market factors/events that generate consequences to all other market broad indexes.\n",
    "\n",
    "In this improbable case, TIPS would have the highest diversification benefit and we should expect the tangency portfolio and the GMV portfolio to allocate relevant weight to it.\n",
    "\n",
    "Curiosity:\n",
    "\n",
    "In this scenario, running the optimization with all the other assets but TIPS and creating a portfolio which would later be optimized with TIPS would yield the same result as optimizing the solution with all the assets (including TIPS) directly."
   ]
  },
  {
   "cell_type": "markdown",
   "metadata": {},
   "source": [
    "### <span style=\"color:red\">1.2.</span>\n",
    "\n",
    "Performance evaluation: always include the intercept.\n",
    "\n",
    "Hedging and Tracking:\n",
    "\n",
    "- Include when:\n",
    "    - I don't trust the estimation of my target asset mean return.\n",
    "    - I want to hedge/track the variation of my asset's return.\n",
    "\n",
    "- Exclude when:\n",
    "    - I trust my estimation of my target asset mean return.\n",
    "    - I want the betas (positions) to correct for the expected difference in level (mean return).\n",
    "    - I want to hedge/track my asset's total returns and I am also using regressors total returns."
   ]
  },
  {
   "cell_type": "markdown",
   "metadata": {},
   "source": [
    "***"
   ]
  }
 ],
 "metadata": {
  "language_info": {
   "name": "python"
  }
 },
 "nbformat": 4,
 "nbformat_minor": 2
}
