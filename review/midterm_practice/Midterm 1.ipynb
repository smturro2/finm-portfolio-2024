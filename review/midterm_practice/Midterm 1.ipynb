{
 "cells": [
  {
   "cell_type": "code",
   "execution_count": 125,
   "id": "0eb3f08b",
   "metadata": {},
   "outputs": [
    {
     "data": {
      "text/plain": [
       "'git_finm-portfolio-2024'"
      ]
     },
     "execution_count": 125,
     "metadata": {},
     "output_type": "execute_result"
    }
   ],
   "source": [
    "os.getcwd().split(\"\\\\\")[-1]"
   ]
  },
  {
   "cell_type": "code",
   "execution_count": 222,
   "id": "e45a3b2f",
   "metadata": {},
   "outputs": [],
   "source": [
    "import pandas as pd\n",
    "import numpy as np\n",
    "import matplotlib.pyplot as plt\n",
    "import os\n",
    "import sys\n",
    "import statsmodels.api as sm\n",
    "import scipy.stats as stats\n",
    "import statsmodels.formula.api as smf\n",
    "\n",
    "if os.getcwd().split(\"\\\\\")[-1] == \"midterm_practice\":\n",
    "    os.chdir(\"../../\")\n",
    "\n",
    "# current_dir = os.getcwd()\n",
    "# if current_dir[-16:] == \"midterm_practice\":\n",
    "#     parent_dir = os.path.abspath(os.path.join(current_dir, os.pardir))\n",
    "#     parent_dir = os.path.abspath(os.path.join(parent_dir, os.pardir))\n",
    "    \n",
    "#     os.chdir(parent_dir)\n",
    "#     sys.path.insert(0, parent_dir)\n",
    "import cmds.portfolio_management_helper as pmh"
   ]
  },
  {
   "cell_type": "markdown",
   "id": "29b2f936",
   "metadata": {},
   "source": [
    "# Midterm 1\n",
    "\n",
    "## FINM 36700 - 2023\n",
    "\n",
    "### UChicago Financial Mathematics\n",
    "\n",
    "* Mark Hendricks\n",
    "* hendricks@uchicago.edu"
   ]
  },
  {
   "cell_type": "markdown",
   "id": "a4dd63ff",
   "metadata": {},
   "source": [
    "## Please note the following:\n",
    "\n",
    "Points\n",
    "* The exam is 100 points.\n",
    "* You have 120 minutes to complete the exam.\n",
    "* For every minute late you submit the exam, you will lose one point.\n",
    "Final Exam\n",
    "\n",
    "Submission\n",
    "* You will upload your solution to the `Midterm 1` assignment on Canvas, where you downloaded this. (Be sure to **submit** on Canvas, not just **save** on Canvas.\n",
    "* Your submission should be readable, (the graders can understand your answers,) and it should **include all code used in your analysis in a file format that the code can be executed.** \n",
    "\n",
    "Rules\n",
    "* The exam is open-material, closed-communication.\n",
    "* You do not need to cite material from the course github repo--you are welcome to use the code posted there without citation.\n",
    "\n",
    "Advice\n",
    "* If you find any question to be unclear, state your interpretation and proceed. We will only answer questions of interpretation if there is a typo, error, etc.\n",
    "* The exam will be graded for partial credit."
   ]
  },
  {
   "cell_type": "markdown",
   "id": "af28e7fd",
   "metadata": {},
   "source": [
    "# Instructions"
   ]
  },
  {
   "cell_type": "markdown",
   "id": "1960a3c5",
   "metadata": {},
   "source": [
    "## Data\n",
    "\n",
    "**All data files are found in the class github repo, in the `data` folder.**\n",
    "\n",
    "This exam makes use of the following data files:\n",
    "* `midterm_data_1.xlsx`\n",
    "\n",
    "This file has sheets for...\n",
    "* `info` - names of each stock ticker\n",
    "* `excess returns` - weekly excess returns on several stocks\n",
    "* `SPY` - weekly excess returns on SPY\n",
    "\n",
    "Note the data is **weekly** so any annualizations should use `52` weeks in a year."
   ]
  },
  {
   "cell_type": "markdown",
   "id": "336f6568",
   "metadata": {},
   "source": [
    "#### If useful\n",
    "here is code to load in the data."
   ]
  },
  {
   "cell_type": "code",
   "execution_count": 127,
   "id": "ded4132c",
   "metadata": {},
   "outputs": [
    {
     "name": "stdout",
     "output_type": "stream",
     "text": [
      "info: (7, 2)\n",
      "excess returns: (392, 8)\n",
      "spy: (392, 2)\n"
     ]
    },
    {
     "data": {
      "text/plain": [
       "{'AAPL': 'Apple Inc',\n",
       " 'MSFT': 'Microsoft Corp',\n",
       " 'AMZN': 'Amazon.com Inc',\n",
       " 'NVDA': 'NVIDIA Corp',\n",
       " 'GOOGL': 'Alphabet Inc',\n",
       " 'TSLA': 'Tesla Inc',\n",
       " 'XOM': 'Exxon Mobil Corp'}"
      ]
     },
     "execution_count": 127,
     "metadata": {},
     "output_type": "execute_result"
    }
   ],
   "source": [
    "file_path = r\"review/midterm_practice/midterm_1_data.xlsx\"\n",
    "dfs_raw = pd.read_excel(file_path, sheet_name=None)\n",
    "for key in dfs_raw.keys():\n",
    "    print(f\"{key}: {dfs_raw[key].shape}\")\n",
    "\n",
    "ticker_mapping = {tick: name \n",
    "                  for tick, name in zip(dfs_raw['info'].iloc[:, 0], \n",
    "                                                dfs_raw['info'].iloc[:, 1])}\n",
    "ticker_mapping"
   ]
  },
  {
   "cell_type": "code",
   "execution_count": 128,
   "id": "d073ff02",
   "metadata": {},
   "outputs": [
    {
     "data": {
      "text/html": [
       "<div>\n",
       "<style scoped>\n",
       "    .dataframe tbody tr th:only-of-type {\n",
       "        vertical-align: middle;\n",
       "    }\n",
       "\n",
       "    .dataframe tbody tr th {\n",
       "        vertical-align: top;\n",
       "    }\n",
       "\n",
       "    .dataframe thead th {\n",
       "        text-align: right;\n",
       "    }\n",
       "</style>\n",
       "<table border=\"1\" class=\"dataframe\">\n",
       "  <thead>\n",
       "    <tr style=\"text-align: right;\">\n",
       "      <th></th>\n",
       "      <th>AAPL</th>\n",
       "      <th>MSFT</th>\n",
       "      <th>AMZN</th>\n",
       "      <th>NVDA</th>\n",
       "      <th>GOOGL</th>\n",
       "      <th>TSLA</th>\n",
       "      <th>XOM</th>\n",
       "    </tr>\n",
       "    <tr>\n",
       "      <th>date</th>\n",
       "      <th></th>\n",
       "      <th></th>\n",
       "      <th></th>\n",
       "      <th></th>\n",
       "      <th></th>\n",
       "      <th></th>\n",
       "      <th></th>\n",
       "    </tr>\n",
       "  </thead>\n",
       "  <tbody>\n",
       "    <tr>\n",
       "      <th>2016-01-15</th>\n",
       "      <td>-0.0061</td>\n",
       "      <td>-0.0334</td>\n",
       "      <td>-0.0686</td>\n",
       "      <td>-0.0929</td>\n",
       "      <td>-0.0358</td>\n",
       "      <td>-0.0363</td>\n",
       "      <td>0.0309</td>\n",
       "    </tr>\n",
       "    <tr>\n",
       "      <th>2016-01-22</th>\n",
       "      <td>0.0453</td>\n",
       "      <td>0.0266</td>\n",
       "      <td>0.0471</td>\n",
       "      <td>0.0505</td>\n",
       "      <td>0.0503</td>\n",
       "      <td>-0.0108</td>\n",
       "      <td>-0.0119</td>\n",
       "    </tr>\n",
       "    <tr>\n",
       "      <th>2016-01-29</th>\n",
       "      <td>-0.0517</td>\n",
       "      <td>0.0421</td>\n",
       "      <td>-0.0272</td>\n",
       "      <td>0.0180</td>\n",
       "      <td>0.0098</td>\n",
       "      <td>-0.0675</td>\n",
       "      <td>0.0052</td>\n",
       "    </tr>\n",
       "    <tr>\n",
       "      <th>2016-02-05</th>\n",
       "      <td>-0.0362</td>\n",
       "      <td>-0.0968</td>\n",
       "      <td>-0.1519</td>\n",
       "      <td>-0.1050</td>\n",
       "      <td>-0.0830</td>\n",
       "      <td>-0.1569</td>\n",
       "      <td>0.0213</td>\n",
       "    </tr>\n",
       "    <tr>\n",
       "      <th>2016-02-12</th>\n",
       "      <td>-0.0079</td>\n",
       "      <td>-0.0008</td>\n",
       "      <td>0.0023</td>\n",
       "      <td>-0.0341</td>\n",
       "      <td>-0.0031</td>\n",
       "      <td>-0.0787</td>\n",
       "      <td>0.0135</td>\n",
       "    </tr>\n",
       "  </tbody>\n",
       "</table>\n",
       "</div>"
      ],
      "text/plain": [
       "              AAPL    MSFT    AMZN    NVDA   GOOGL    TSLA     XOM\n",
       "date                                                              \n",
       "2016-01-15 -0.0061 -0.0334 -0.0686 -0.0929 -0.0358 -0.0363  0.0309\n",
       "2016-01-22  0.0453  0.0266  0.0471  0.0505  0.0503 -0.0108 -0.0119\n",
       "2016-01-29 -0.0517  0.0421 -0.0272  0.0180  0.0098 -0.0675  0.0052\n",
       "2016-02-05 -0.0362 -0.0968 -0.1519 -0.1050 -0.0830 -0.1569  0.0213\n",
       "2016-02-12 -0.0079 -0.0008  0.0023 -0.0341 -0.0031 -0.0787  0.0135"
      ]
     },
     "metadata": {},
     "output_type": "display_data"
    },
    {
     "data": {
      "text/html": [
       "<div>\n",
       "<style scoped>\n",
       "    .dataframe tbody tr th:only-of-type {\n",
       "        vertical-align: middle;\n",
       "    }\n",
       "\n",
       "    .dataframe tbody tr th {\n",
       "        vertical-align: top;\n",
       "    }\n",
       "\n",
       "    .dataframe thead th {\n",
       "        text-align: right;\n",
       "    }\n",
       "</style>\n",
       "<table border=\"1\" class=\"dataframe\">\n",
       "  <thead>\n",
       "    <tr style=\"text-align: right;\">\n",
       "      <th></th>\n",
       "      <th>SPY</th>\n",
       "    </tr>\n",
       "    <tr>\n",
       "      <th>date</th>\n",
       "      <th></th>\n",
       "    </tr>\n",
       "  </thead>\n",
       "  <tbody>\n",
       "    <tr>\n",
       "      <th>2016-01-15</th>\n",
       "      <td>-0.0214</td>\n",
       "    </tr>\n",
       "    <tr>\n",
       "      <th>2016-01-22</th>\n",
       "      <td>0.0144</td>\n",
       "    </tr>\n",
       "    <tr>\n",
       "      <th>2016-01-29</th>\n",
       "      <td>0.0168</td>\n",
       "    </tr>\n",
       "    <tr>\n",
       "      <th>2016-02-05</th>\n",
       "      <td>-0.0298</td>\n",
       "    </tr>\n",
       "    <tr>\n",
       "      <th>2016-02-12</th>\n",
       "      <td>-0.0070</td>\n",
       "    </tr>\n",
       "  </tbody>\n",
       "</table>\n",
       "</div>"
      ],
      "text/plain": [
       "               SPY\n",
       "date              \n",
       "2016-01-15 -0.0214\n",
       "2016-01-22  0.0144\n",
       "2016-01-29  0.0168\n",
       "2016-02-05 -0.0298\n",
       "2016-02-12 -0.0070"
      ]
     },
     "metadata": {},
     "output_type": "display_data"
    }
   ],
   "source": [
    "df_excess_rets = dfs_raw['excess returns'].set_index(\"date\")\n",
    "df_spy = dfs_raw['spy'].set_index(\"date\")\n",
    "\n",
    "display(df_excess_rets.head())\n",
    "display(df_spy.head())\n",
    "\n",
    "annual_factor = 52"
   ]
  },
  {
   "cell_type": "code",
   "execution_count": 129,
   "id": "344abdac",
   "metadata": {},
   "outputs": [],
   "source": [
    "# FILEIN = 'midterm_1_data.xlsx'\n",
    "# sheet_exrets = 'excess returns'\n",
    "# sheet_spy = 'spy'\n",
    "\n",
    "# retsx = pd.read_excel(FILEIN, sheet_name=sheet_exrets).set_index('date')\n",
    "# spy = pd.read_excel(FILEIN, sheet_name=sheet_spy).set_index('date')\n",
    "\n",
    "# print(f\"retsx: {retsx.shape}\")\n",
    "# print(f\"spy: {spy.shape}\")"
   ]
  },
  {
   "cell_type": "markdown",
   "id": "d0af33e1",
   "metadata": {},
   "source": [
    "## Scoring\n",
    "\n",
    "| Problem | Points |\n",
    "|---------|--------|\n",
    "| 1       | 20     |\n",
    "| 2       | 35     |\n",
    "| 3       | 30     |\n",
    "| 4       | 15     |"
   ]
  },
  {
   "cell_type": "markdown",
   "id": "c158c236",
   "metadata": {},
   "source": [
    "### Each numbered question is worth 5 points."
   ]
  },
  {
   "cell_type": "markdown",
   "id": "362090a7",
   "metadata": {},
   "source": [
    "### Notation\n",
    "(Hidden LaTeX commands)\n",
    "\n",
    "$$\\newcommand{\\mux}{\\tilde{\\boldsymbol{\\mu}}}$$\n",
    "$$\\newcommand{\\wtan}{\\boldsymbol{\\text{w}}^{\\text{tan}}}$$\n",
    "$$\\newcommand{\\wtarg}{\\boldsymbol{\\text{w}}^{\\text{port}}}$$\n",
    "$$\\newcommand{\\mutarg}{\\tilde{\\boldsymbol{\\mu}}^{\\text{port}}}$$\n",
    "$$\\newcommand{\\wEW}{\\boldsymbol{\\text{w}}^{\\text{EW}}}$$\n",
    "$$\\newcommand{\\wRP}{\\boldsymbol{\\text{w}}^{\\text{RP}}}$$\n",
    "$$\\newcommand{\\wREG}{\\boldsymbol{\\text{w}}^{\\text{REG}}}$$"
   ]
  },
  {
   "cell_type": "markdown",
   "id": "40926a81",
   "metadata": {},
   "source": [
    "# 1. Short Answer"
   ]
  },
  {
   "cell_type": "markdown",
   "id": "d29c0d60",
   "metadata": {},
   "source": [
    "### No Data Needed\n",
    "\n",
    "These problem does not require any data file. Rather, analyze the situation conceptually, based on the information below. "
   ]
  },
  {
   "cell_type": "markdown",
   "id": "d086f971",
   "metadata": {},
   "source": [
    "## 1\n",
    "\n",
    "In what sense was ProShares `HDG` successful in hedging the `HFRI`, and in what sense was it unsuccessful in tracking the `HFRI`?"
   ]
  },
  {
   "cell_type": "markdown",
   "id": "1f007c8c",
   "metadata": {},
   "source": [
    "It had high correlation to HFRI. It captures the most notable properties of HFRI. Similar risk exposure\n",
    "\n",
    "Less returns then HFRI."
   ]
  },
  {
   "cell_type": "markdown",
   "id": "081ddf91",
   "metadata": {},
   "source": [
    "## 2\n",
    "\n",
    "We discussed multiple ways of calculating Value-at-Risk (VaR). What are the tradeoffs between using the normal distribution formula versus a directly empirical approach?"
   ]
  },
  {
   "cell_type": "markdown",
   "id": "eaee7c8b",
   "metadata": {},
   "source": [
    "Typically returns are fat tailed. So using a normal distribution will make the cVaR very unlikely"
   ]
  },
  {
   "cell_type": "markdown",
   "id": "ea8b7e68",
   "metadata": {},
   "source": [
    "## 3\n",
    "\n",
    "Did we find that **TIPS** have been useful in expanding the mean-variance frontier in the past? Did we conclude they might be useful in the future? Explain."
   ]
  },
  {
   "cell_type": "markdown",
   "id": "2055f060",
   "metadata": {},
   "source": [
    "We should include it because it has low correlation with other assets"
   ]
  },
  {
   "cell_type": "markdown",
   "id": "ea97348b",
   "metadata": {},
   "source": [
    "## 4.\n",
    "\n",
    "What aspect of the classic mean-variance optimization approach leads to extreme answers? How did regularization help with this issue?"
   ]
  },
  {
   "cell_type": "markdown",
   "id": "ba793edd",
   "metadata": {},
   "source": [
    "When one asset's is equal (or can be approximated by) to a linear combination of the other asset returns."
   ]
  },
  {
   "cell_type": "markdown",
   "id": "55e42346",
   "metadata": {},
   "source": [
    "***"
   ]
  },
  {
   "cell_type": "markdown",
   "id": "2d66389e",
   "metadata": {},
   "source": [
    "# 2. Allocation"
   ]
  },
  {
   "cell_type": "markdown",
   "id": "68b67603",
   "metadata": {},
   "source": [
    "Consider a mean-variance optimization of **excess** returns provided in `midterm_1_data.xlsx.`"
   ]
  },
  {
   "cell_type": "markdown",
   "id": "ebe496df",
   "metadata": {},
   "source": [
    "## 1. \n",
    "\n",
    "Report the following **annualized** statistics:\n",
    "* mean\n",
    "* volatility\n",
    "* Sharpe ratio\n",
    "\n",
    "Which assets have the highest / lowest Sharpe ratios?"
   ]
  },
  {
   "cell_type": "code",
   "execution_count": 130,
   "id": "0a226dd5",
   "metadata": {},
   "outputs": [
    {
     "data": {
      "text/html": [
       "<div>\n",
       "<style scoped>\n",
       "    .dataframe tbody tr th:only-of-type {\n",
       "        vertical-align: middle;\n",
       "    }\n",
       "\n",
       "    .dataframe tbody tr th {\n",
       "        vertical-align: top;\n",
       "    }\n",
       "\n",
       "    .dataframe thead th {\n",
       "        text-align: right;\n",
       "    }\n",
       "</style>\n",
       "<table border=\"1\" class=\"dataframe\">\n",
       "  <thead>\n",
       "    <tr style=\"text-align: right;\">\n",
       "      <th></th>\n",
       "      <th>mean</th>\n",
       "      <th>std</th>\n",
       "      <th>sharpe</th>\n",
       "    </tr>\n",
       "  </thead>\n",
       "  <tbody>\n",
       "    <tr>\n",
       "      <th>AAPL</th>\n",
       "      <td>0.3194</td>\n",
       "      <td>0.2839</td>\n",
       "      <td>1.1252</td>\n",
       "    </tr>\n",
       "    <tr>\n",
       "      <th>MSFT</th>\n",
       "      <td>0.2881</td>\n",
       "      <td>0.2402</td>\n",
       "      <td>1.1993</td>\n",
       "    </tr>\n",
       "    <tr>\n",
       "      <th>AMZN</th>\n",
       "      <td>0.2395</td>\n",
       "      <td>0.3104</td>\n",
       "      <td>0.7715</td>\n",
       "    </tr>\n",
       "    <tr>\n",
       "      <th>NVDA</th>\n",
       "      <td>0.6507</td>\n",
       "      <td>0.4681</td>\n",
       "      <td>1.3900</td>\n",
       "    </tr>\n",
       "    <tr>\n",
       "      <th>GOOGL</th>\n",
       "      <td>0.1933</td>\n",
       "      <td>0.2742</td>\n",
       "      <td>0.7050</td>\n",
       "    </tr>\n",
       "    <tr>\n",
       "      <th>TSLA</th>\n",
       "      <td>0.5697</td>\n",
       "      <td>0.6070</td>\n",
       "      <td>0.9386</td>\n",
       "    </tr>\n",
       "    <tr>\n",
       "      <th>XOM</th>\n",
       "      <td>0.1242</td>\n",
       "      <td>0.3116</td>\n",
       "      <td>0.3986</td>\n",
       "    </tr>\n",
       "  </tbody>\n",
       "</table>\n",
       "</div>"
      ],
      "text/plain": [
       "        mean    std  sharpe\n",
       "AAPL  0.3194 0.2839  1.1252\n",
       "MSFT  0.2881 0.2402  1.1993\n",
       "AMZN  0.2395 0.3104  0.7715\n",
       "NVDA  0.6507 0.4681  1.3900\n",
       "GOOGL 0.1933 0.2742  0.7050\n",
       "TSLA  0.5697 0.6070  0.9386\n",
       "XOM   0.1242 0.3116  0.3986"
      ]
     },
     "metadata": {},
     "output_type": "display_data"
    }
   ],
   "source": [
    "def calc_summary(df, annual_factor=1):\n",
    "    return df.apply(lambda x: pd.Series({\n",
    "        \"mean\": x.mean() * annual_factor,\n",
    "        \"std\": x.std() * np.sqrt(annual_factor),\n",
    "        \"sharpe\": x.mean() / x.std() * np.sqrt(annual_factor)  \n",
    "    }))\n",
    "\n",
    "df_summary = (calc_summary(df_excess_rets, annual_factor=annual_factor)\n",
    "              # .rename(columns=custom_ticker_mapping)\n",
    "              ).T\n",
    "\n",
    "display(df_summary)"
   ]
  },
  {
   "cell_type": "markdown",
   "id": "2f091c84",
   "metadata": {},
   "source": [
    "## 2.\n",
    "\n",
    "Report the weights of the tangency portfolio.\n",
    "\n",
    "Also report the Sharpe ratio achieved by the tangency portfolio over this sample."
   ]
  },
  {
   "cell_type": "code",
   "execution_count": 131,
   "id": "93ca9c2d",
   "metadata": {},
   "outputs": [
    {
     "name": "stdout",
     "output_type": "stream",
     "text": [
      "tangent mean: 0.5634741093289569\n",
      "tangent vol: 0.35835079239709444\n",
      "tangent sharpe: 1.5724092740516726\n"
     ]
    },
    {
     "data": {
      "text/html": [
       "<div>\n",
       "<style scoped>\n",
       "    .dataframe tbody tr th:only-of-type {\n",
       "        vertical-align: middle;\n",
       "    }\n",
       "\n",
       "    .dataframe tbody tr th {\n",
       "        vertical-align: top;\n",
       "    }\n",
       "\n",
       "    .dataframe thead th {\n",
       "        text-align: right;\n",
       "    }\n",
       "</style>\n",
       "<table border=\"1\" class=\"dataframe\">\n",
       "  <thead>\n",
       "    <tr style=\"text-align: right;\">\n",
       "      <th></th>\n",
       "      <th>tangent_weight</th>\n",
       "      <th>mean</th>\n",
       "      <th>std</th>\n",
       "      <th>sharpe</th>\n",
       "    </tr>\n",
       "  </thead>\n",
       "  <tbody>\n",
       "    <tr>\n",
       "      <th>NVDA</th>\n",
       "      <td>0.4960</td>\n",
       "      <td>0.6507</td>\n",
       "      <td>0.4681</td>\n",
       "      <td>1.3900</td>\n",
       "    </tr>\n",
       "    <tr>\n",
       "      <th>MSFT</th>\n",
       "      <td>0.7875</td>\n",
       "      <td>0.2881</td>\n",
       "      <td>0.2402</td>\n",
       "      <td>1.1993</td>\n",
       "    </tr>\n",
       "    <tr>\n",
       "      <th>AAPL</th>\n",
       "      <td>0.3226</td>\n",
       "      <td>0.3194</td>\n",
       "      <td>0.2839</td>\n",
       "      <td>1.1252</td>\n",
       "    </tr>\n",
       "    <tr>\n",
       "      <th>TSLA</th>\n",
       "      <td>0.1060</td>\n",
       "      <td>0.5697</td>\n",
       "      <td>0.6070</td>\n",
       "      <td>0.9386</td>\n",
       "    </tr>\n",
       "    <tr>\n",
       "      <th>AMZN</th>\n",
       "      <td>-0.2286</td>\n",
       "      <td>0.2395</td>\n",
       "      <td>0.3104</td>\n",
       "      <td>0.7715</td>\n",
       "    </tr>\n",
       "    <tr>\n",
       "      <th>GOOGL</th>\n",
       "      <td>-0.5027</td>\n",
       "      <td>0.1933</td>\n",
       "      <td>0.2742</td>\n",
       "      <td>0.7050</td>\n",
       "    </tr>\n",
       "    <tr>\n",
       "      <th>XOM</th>\n",
       "      <td>0.0193</td>\n",
       "      <td>0.1242</td>\n",
       "      <td>0.3116</td>\n",
       "      <td>0.3986</td>\n",
       "    </tr>\n",
       "  </tbody>\n",
       "</table>\n",
       "</div>"
      ],
      "text/plain": [
       "       tangent_weight   mean    std  sharpe\n",
       "NVDA           0.4960 0.6507 0.4681  1.3900\n",
       "MSFT           0.7875 0.2881 0.2402  1.1993\n",
       "AAPL           0.3226 0.3194 0.2839  1.1252\n",
       "TSLA           0.1060 0.5697 0.6070  0.9386\n",
       "AMZN          -0.2286 0.2395 0.3104  0.7715\n",
       "GOOGL         -0.5027 0.1933 0.2742  0.7050\n",
       "XOM            0.0193 0.1242 0.3116  0.3986"
      ]
     },
     "metadata": {},
     "output_type": "display_data"
    }
   ],
   "source": [
    "def compute_stats(weights, mu_hat, sigma_hat, annual_factor=12):\n",
    "    p_return = weights.T @ mu_hat * annual_factor\n",
    "    p_vol = np.sqrt(weights.T @ sigma_hat @ weights) * np.sqrt(annual_factor)\n",
    "    return p_vol, p_return\n",
    "\n",
    "def tangent_portfolio(mu_hat, sigma_hat, flip_weights=False, annual_factor=12):\n",
    "    sigma_inv = np.linalg.inv(sigma_hat)\n",
    "    weights = sigma_inv @ mu_hat\n",
    "    weights = weights / np.sum(weights)\n",
    "    \n",
    "    t_vol, t_return = compute_stats(weights, mu_hat, sigma_hat, annual_factor=annual_factor)\n",
    "    if t_return < 0 and flip_weights:\n",
    "        weights *= -1\n",
    "        t_vol, t_return = compute_stats(weights, mu_hat, sigma_hat, annual_factor=annual_factor)\n",
    "    return [t_vol, t_return, weights]\n",
    "\n",
    "mu_hat = df_excess_rets.mean().values\n",
    "sigma_hat = df_excess_rets.cov().values\n",
    "t_vol, t_return, t_weights = tangent_portfolio(mu_hat, sigma_hat, annual_factor=annual_factor)\n",
    "\n",
    "print(f\"tangent mean: {t_return}\")\n",
    "print(f\"tangent vol: {t_vol }\")\n",
    "print(f\"tangent sharpe: {t_return/t_vol }\")\n",
    "\n",
    "df_temp = pd.DataFrame(t_weights, index=df_excess_rets.columns, columns=[\"tangent_weight\"])\n",
    "df_temp = pd.merge(df_temp, df_summary,left_index=True, right_index=True)\n",
    "display(df_temp.sort_values(\"sharpe\", ascending=False))\n"
   ]
  },
  {
   "cell_type": "code",
   "execution_count": 132,
   "id": "da416290",
   "metadata": {},
   "outputs": [],
   "source": [
    "# analysis_sharpe_vs_tangent_weights = (\n",
    "#     pmh.calc_summary_statistics(\n",
    "#         df_excess_rets,\n",
    "#         annual_factor=annual_factor,\n",
    "#         provided_excess_returns=True,\n",
    "#         keep_columns=['Tangency Weights', 'Annualized Sharpe']\n",
    "#     )\n",
    "#     .sort_values('Annualized Sharpe', ascending=False)\n",
    "# )\n",
    "\n",
    "# display(analysis_sharpe_vs_tangent_weights)"
   ]
  },
  {
   "cell_type": "code",
   "execution_count": 133,
   "id": "fdc63b3b",
   "metadata": {},
   "outputs": [],
   "source": [
    "# pmh.calc_summary_statistics(\n",
    "#     pmh.calc_tangency_weights(df_excess_rets, return_port_ret=True),\n",
    "#     annual_factor=annual_factor,\n",
    "#     provided_excess_returns=True,\n",
    "#     keep_columns=['Annualized Sharpe', 'Annualized Mean', 'Annualized Vol']\n",
    "# )"
   ]
  },
  {
   "cell_type": "markdown",
   "id": "eb1bab65",
   "metadata": {},
   "source": [
    "## 3.\n",
    "\n",
    "* What weight is given to the asset with the lowest Sharpe ratio?\n",
    "* What Sharpe ratio does the lowest (most negative) weight asset have?\n",
    "\n",
    "Explain. Support your answer with evidence."
   ]
  },
  {
   "cell_type": "markdown",
   "id": "f8afefc8",
   "metadata": {},
   "source": [
    "XOM has the lowest sharpe ratio and this was given a weight of .0193. GOOGL has the lowest weight with a sharpe ratio of .7050"
   ]
  },
  {
   "cell_type": "markdown",
   "id": "131963d5",
   "metadata": {},
   "source": [
    "## 4.\n",
    "\n",
    "Let's examine the out-of-sample performance.\n",
    "\n",
    "Calculate and report the following three allocations using only data through the end of 2022:\n",
    "* tangency portfolio\n",
    "* equally weighted portfolio\n",
    "* a regularized approach, with a new formula shown below\n",
    "\n",
    "where\n",
    "$$\\wEW_i = \\frac{1}{n}$$\n",
    "\n",
    "$$\\wREG \\sim \\widehat{\\Sigma}^{-1}\\mux$$\n",
    "\n",
    "$$\\widehat{\\Sigma} = \\frac{\\Sigma + \\boldsymbol{2}\\,\\Sigma_D}{\\boldsymbol{3}}$$\n",
    "where $\\Sigma_D$ denotes a *diagonal* matrix of the security variances, with zeros in the off-diagonals."
   ]
  },
  {
   "cell_type": "code",
   "execution_count": 150,
   "id": "78125e23",
   "metadata": {},
   "outputs": [
    {
     "name": "stdout",
     "output_type": "stream",
     "text": [
      "Tangent: 0.524255\n",
      "Equally-weighting: 0.340696\n",
      "Regularized: 0.374730\n"
     ]
    }
   ],
   "source": [
    "def create_portfolios(df_returns):\n",
    "    mu_hat=df_returns.mean().values\n",
    "    sigma_hat=df_returns.cov().values\n",
    "    \n",
    "    port_weights = {\n",
    "        'Tangent': tangent_portfolio(mu_hat, sigma_hat, annual_factor=annual_factor)[2],\n",
    "        'Equally-weighting': np.ones_like(mu_hat)/len(mu_hat),\n",
    "        'Regularized': tangent_portfolio(mu_hat, \n",
    "                                         (sigma_hat + 2*np.diag(np.diagonal(sigma_hat)) ) / 3\n",
    "                                         )[2],\n",
    "    }\n",
    "    \n",
    "    # Returns\n",
    "    df_port_returns = pd.DataFrame({name : df_returns @ weights \n",
    "                                         for name, weights in port_weights.items()})\n",
    "    \n",
    "    # Statistics\n",
    "    df_port_stats = calc_summary(df_port_returns, annual_factor=annual_factor)\n",
    "    for name, weights in port_weights.items():\n",
    "        df_port_stats.loc[\"sum weights\", name] = sum(weights)\n",
    "    return port_weights, df_port_returns, df_port_stats\n",
    "\n",
    "\n",
    "df_2022 = df_excess_rets[df_excess_rets.index.year <= 2022]\n",
    "\n",
    "port_weights, df_port_returns, df_port_stats = create_portfolios(df_2022)\n",
    "\n",
    "# Check target\n",
    "for name, weights in port_weights.items():\n",
    "    print(f\"{name}: {weights.dot(df_excess_rets.mean()*annual_factor):.6f}\")"
   ]
  },
  {
   "cell_type": "code",
   "execution_count": 143,
   "id": "549b072a",
   "metadata": {},
   "outputs": [
    {
     "data": {
      "text/html": [
       "<div>\n",
       "<style scoped>\n",
       "    .dataframe tbody tr th:only-of-type {\n",
       "        vertical-align: middle;\n",
       "    }\n",
       "\n",
       "    .dataframe tbody tr th {\n",
       "        vertical-align: top;\n",
       "    }\n",
       "\n",
       "    .dataframe thead th {\n",
       "        text-align: right;\n",
       "    }\n",
       "</style>\n",
       "<table border=\"1\" class=\"dataframe\">\n",
       "  <thead>\n",
       "    <tr style=\"text-align: right;\">\n",
       "      <th></th>\n",
       "      <th>Tangent</th>\n",
       "      <th>Equally-weighting</th>\n",
       "      <th>Regularized</th>\n",
       "    </tr>\n",
       "  </thead>\n",
       "  <tbody>\n",
       "    <tr>\n",
       "      <th>AAPL</th>\n",
       "      <td>0.3106</td>\n",
       "      <td>0.1429</td>\n",
       "      <td>0.2373</td>\n",
       "    </tr>\n",
       "    <tr>\n",
       "      <th>MSFT</th>\n",
       "      <td>1.0731</td>\n",
       "      <td>0.1429</td>\n",
       "      <td>0.3308</td>\n",
       "    </tr>\n",
       "    <tr>\n",
       "      <th>AMZN</th>\n",
       "      <td>-0.2591</td>\n",
       "      <td>0.1429</td>\n",
       "      <td>0.0472</td>\n",
       "    </tr>\n",
       "    <tr>\n",
       "      <th>NVDA</th>\n",
       "      <td>0.3801</td>\n",
       "      <td>0.1429</td>\n",
       "      <td>0.1968</td>\n",
       "    </tr>\n",
       "    <tr>\n",
       "      <th>GOOGL</th>\n",
       "      <td>-0.7515</td>\n",
       "      <td>0.1429</td>\n",
       "      <td>0.0114</td>\n",
       "    </tr>\n",
       "    <tr>\n",
       "      <th>TSLA</th>\n",
       "      <td>0.1016</td>\n",
       "      <td>0.1429</td>\n",
       "      <td>0.0902</td>\n",
       "    </tr>\n",
       "    <tr>\n",
       "      <th>XOM</th>\n",
       "      <td>0.1453</td>\n",
       "      <td>0.1429</td>\n",
       "      <td>0.0864</td>\n",
       "    </tr>\n",
       "  </tbody>\n",
       "</table>\n",
       "</div>"
      ],
      "text/plain": [
       "       Tangent  Equally-weighting  Regularized\n",
       "AAPL    0.3106             0.1429       0.2373\n",
       "MSFT    1.0731             0.1429       0.3308\n",
       "AMZN   -0.2591             0.1429       0.0472\n",
       "NVDA    0.3801             0.1429       0.1968\n",
       "GOOGL  -0.7515             0.1429       0.0114\n",
       "TSLA    0.1016             0.1429       0.0902\n",
       "XOM     0.1453             0.1429       0.0864"
      ]
     },
     "metadata": {},
     "output_type": "display_data"
    }
   ],
   "source": [
    "df_port_weights = pd.DataFrame(port_weights, index=df_excess_rets.columns)\n",
    "\n",
    "display(df_port_weights)"
   ]
  },
  {
   "cell_type": "markdown",
   "id": "f9255bdd",
   "metadata": {},
   "source": [
    "## 5.\n",
    "\n",
    "Report the out-of-sample (2023) performance of all three portfolios in terms of annualized mean, vol, and Sharpe."
   ]
  },
  {
   "cell_type": "code",
   "execution_count": 144,
   "id": "b977fac7",
   "metadata": {},
   "outputs": [
    {
     "data": {
      "text/html": [
       "<div>\n",
       "<style scoped>\n",
       "    .dataframe tbody tr th:only-of-type {\n",
       "        vertical-align: middle;\n",
       "    }\n",
       "\n",
       "    .dataframe tbody tr th {\n",
       "        vertical-align: top;\n",
       "    }\n",
       "\n",
       "    .dataframe thead th {\n",
       "        text-align: right;\n",
       "    }\n",
       "</style>\n",
       "<table border=\"1\" class=\"dataframe\">\n",
       "  <thead>\n",
       "    <tr style=\"text-align: right;\">\n",
       "      <th></th>\n",
       "      <th>Tangent</th>\n",
       "      <th>Equally-weighting</th>\n",
       "      <th>Regularized</th>\n",
       "    </tr>\n",
       "  </thead>\n",
       "  <tbody>\n",
       "    <tr>\n",
       "      <th>mean</th>\n",
       "      <td>1.2047</td>\n",
       "      <td>0.9551</td>\n",
       "      <td>1.0135</td>\n",
       "    </tr>\n",
       "    <tr>\n",
       "      <th>std</th>\n",
       "      <td>0.4437</td>\n",
       "      <td>0.2470</td>\n",
       "      <td>0.2503</td>\n",
       "    </tr>\n",
       "    <tr>\n",
       "      <th>sharpe</th>\n",
       "      <td>2.7150</td>\n",
       "      <td>3.8677</td>\n",
       "      <td>4.0499</td>\n",
       "    </tr>\n",
       "  </tbody>\n",
       "</table>\n",
       "</div>"
      ],
      "text/plain": [
       "        Tangent  Equally-weighting  Regularized\n",
       "mean     1.2047             0.9551       1.0135\n",
       "std      0.4437             0.2470       0.2503\n",
       "sharpe   2.7150             3.8677       4.0499"
      ]
     },
     "execution_count": 144,
     "metadata": {},
     "output_type": "execute_result"
    }
   ],
   "source": [
    "df_2023 = df_excess_rets[df_excess_rets.index.year == 2023]\n",
    "\n",
    "calc_summary(df_2023 @ df_port_weights,  annual_factor=annual_factor)"
   ]
  },
  {
   "cell_type": "markdown",
   "id": "f65554c5",
   "metadata": {},
   "source": [
    "## 6.\n",
    "\n",
    "Imagine just for this problem that this data is for **total** returns, not excess returns.\n",
    "\n",
    "Report the weights of the global-minimum-variance portfolio."
   ]
  },
  {
   "cell_type": "code",
   "execution_count": 185,
   "id": "c0032d29",
   "metadata": {},
   "outputs": [
    {
     "data": {
      "text/html": [
       "<div>\n",
       "<style scoped>\n",
       "    .dataframe tbody tr th:only-of-type {\n",
       "        vertical-align: middle;\n",
       "    }\n",
       "\n",
       "    .dataframe tbody tr th {\n",
       "        vertical-align: top;\n",
       "    }\n",
       "\n",
       "    .dataframe thead th {\n",
       "        text-align: right;\n",
       "    }\n",
       "</style>\n",
       "<table border=\"1\" class=\"dataframe\">\n",
       "  <thead>\n",
       "    <tr style=\"text-align: right;\">\n",
       "      <th></th>\n",
       "      <th>Tangent</th>\n",
       "      <th>Equally-weighting</th>\n",
       "      <th>Regularized</th>\n",
       "      <th>GMV</th>\n",
       "    </tr>\n",
       "  </thead>\n",
       "  <tbody>\n",
       "    <tr>\n",
       "      <th>AAPL</th>\n",
       "      <td>0.3106</td>\n",
       "      <td>0.1429</td>\n",
       "      <td>0.2373</td>\n",
       "      <td>0.2062</td>\n",
       "    </tr>\n",
       "    <tr>\n",
       "      <th>MSFT</th>\n",
       "      <td>1.0731</td>\n",
       "      <td>0.1429</td>\n",
       "      <td>0.3308</td>\n",
       "      <td>0.4912</td>\n",
       "    </tr>\n",
       "    <tr>\n",
       "      <th>AMZN</th>\n",
       "      <td>-0.2591</td>\n",
       "      <td>0.1429</td>\n",
       "      <td>0.0472</td>\n",
       "      <td>0.1609</td>\n",
       "    </tr>\n",
       "    <tr>\n",
       "      <th>NVDA</th>\n",
       "      <td>0.3801</td>\n",
       "      <td>0.1429</td>\n",
       "      <td>0.1968</td>\n",
       "      <td>-0.1192</td>\n",
       "    </tr>\n",
       "    <tr>\n",
       "      <th>GOOGL</th>\n",
       "      <td>-0.7515</td>\n",
       "      <td>0.1429</td>\n",
       "      <td>0.0114</td>\n",
       "      <td>0.0114</td>\n",
       "    </tr>\n",
       "    <tr>\n",
       "      <th>TSLA</th>\n",
       "      <td>0.1016</td>\n",
       "      <td>0.1429</td>\n",
       "      <td>0.0902</td>\n",
       "      <td>-0.0469</td>\n",
       "    </tr>\n",
       "    <tr>\n",
       "      <th>XOM</th>\n",
       "      <td>0.1453</td>\n",
       "      <td>0.1429</td>\n",
       "      <td>0.0864</td>\n",
       "      <td>0.2964</td>\n",
       "    </tr>\n",
       "  </tbody>\n",
       "</table>\n",
       "</div>"
      ],
      "text/plain": [
       "       Tangent  Equally-weighting  Regularized     GMV\n",
       "AAPL    0.3106             0.1429       0.2373  0.2062\n",
       "MSFT    1.0731             0.1429       0.3308  0.4912\n",
       "AMZN   -0.2591             0.1429       0.0472  0.1609\n",
       "NVDA    0.3801             0.1429       0.1968 -0.1192\n",
       "GOOGL  -0.7515             0.1429       0.0114  0.0114\n",
       "TSLA    0.1016             0.1429       0.0902 -0.0469\n",
       "XOM     0.1453             0.1429       0.0864  0.2964"
      ]
     },
     "metadata": {},
     "output_type": "display_data"
    },
    {
     "data": {
      "text/html": [
       "<div>\n",
       "<style scoped>\n",
       "    .dataframe tbody tr th:only-of-type {\n",
       "        vertical-align: middle;\n",
       "    }\n",
       "\n",
       "    .dataframe tbody tr th {\n",
       "        vertical-align: top;\n",
       "    }\n",
       "\n",
       "    .dataframe thead th {\n",
       "        text-align: right;\n",
       "    }\n",
       "</style>\n",
       "<table border=\"1\" class=\"dataframe\">\n",
       "  <thead>\n",
       "    <tr style=\"text-align: right;\">\n",
       "      <th></th>\n",
       "      <th>Tangent</th>\n",
       "      <th>Equally-weighting</th>\n",
       "      <th>Regularized</th>\n",
       "      <th>GMV</th>\n",
       "    </tr>\n",
       "  </thead>\n",
       "  <tbody>\n",
       "    <tr>\n",
       "      <th>mean</th>\n",
       "      <td>1.2047</td>\n",
       "      <td>0.9551</td>\n",
       "      <td>1.0135</td>\n",
       "      <td>0.2431</td>\n",
       "    </tr>\n",
       "    <tr>\n",
       "      <th>std</th>\n",
       "      <td>0.4437</td>\n",
       "      <td>0.2470</td>\n",
       "      <td>0.2503</td>\n",
       "      <td>0.1835</td>\n",
       "    </tr>\n",
       "    <tr>\n",
       "      <th>sharpe</th>\n",
       "      <td>2.7150</td>\n",
       "      <td>3.8677</td>\n",
       "      <td>4.0499</td>\n",
       "      <td>1.3249</td>\n",
       "    </tr>\n",
       "  </tbody>\n",
       "</table>\n",
       "</div>"
      ],
      "text/plain": [
       "        Tangent  Equally-weighting  Regularized    GMV\n",
       "mean     1.2047             0.9551       1.0135 0.2431\n",
       "std      0.4437             0.2470       0.2503 0.1835\n",
       "sharpe   2.7150             3.8677       4.0499 1.3249"
      ]
     },
     "execution_count": 185,
     "metadata": {},
     "output_type": "execute_result"
    }
   ],
   "source": [
    "def gmv_weights(tot_returns):\n",
    "    \n",
    "    ones = np.ones(tot_returns.columns.shape)\n",
    "    cov = tot_returns.cov()*12\n",
    "    cov_inv = np.linalg.inv(cov)\n",
    "    scaling = 1/(np.transpose(ones) @ cov_inv @ ones)\n",
    "    gmv_tot = scaling * cov_inv @ ones\n",
    "    return gmv_tot\n",
    "\n",
    "df_port_weights[\"GMV\"] = gmv_weights(df_excess_rets)\n",
    "\n",
    "display(df_port_weights)\n",
    "calc_summary(df_2023 @ df_port_weights, annual_factor)"
   ]
  },
  {
   "cell_type": "markdown",
   "id": "8b41a996",
   "metadata": {},
   "source": [
    "## 7.\n",
    "\n",
    "To target a mean return of 0.005%, would you be long or short this global minimum variance portfolio?"
   ]
  },
  {
   "cell_type": "code",
   "execution_count": 141,
   "id": "b2a9c01b",
   "metadata": {},
   "outputs": [
    {
     "data": {
      "text/plain": [
       "0.0026000000000000003"
      ]
     },
     "execution_count": 141,
     "metadata": {},
     "output_type": "execute_result"
    }
   ],
   "source": [
    "annual_factor * .00005"
   ]
  },
  {
   "cell_type": "markdown",
   "id": "69415000",
   "metadata": {},
   "source": [
    "long the global minimum"
   ]
  },
  {
   "cell_type": "markdown",
   "id": "30cdbfa9",
   "metadata": {},
   "source": [
    "***"
   ]
  },
  {
   "cell_type": "markdown",
   "id": "a34d9fbd",
   "metadata": {},
   "source": [
    "# 3. Performance"
   ]
  },
  {
   "cell_type": "markdown",
   "id": "426af123",
   "metadata": {},
   "source": [
    "## 1. \n",
    "\n",
    "Report the following performance metrics of excess returns for Tesla (`TSLA`).\n",
    "* skewness\n",
    "* kurtosis\n",
    "\n",
    "You are not annualizing any of these stats.\n",
    "\n",
    "What do these metrics indicate about the nature of the returns?"
   ]
  },
  {
   "cell_type": "code",
   "execution_count": 203,
   "id": "d45ef424",
   "metadata": {},
   "outputs": [
    {
     "name": "stdout",
     "output_type": "stream",
     "text": [
      "Skewness: 0.441\n",
      "Excess Kurtosis: 1.527\n"
     ]
    }
   ],
   "source": [
    "tsla_rets = df_excess_rets[\"TSLA\"]\n",
    "\n",
    "\n",
    "print(f\"Skewness: {tsla_rets.skew():.3f}\")\n",
    "print(f\"Excess Kurtosis: {tsla_rets.kurtosis():.3f}\")"
   ]
  },
  {
   "cell_type": "markdown",
   "id": "402133ba",
   "metadata": {},
   "source": [
    "The distribution is positively (right skewed) meaning the median return will be larger then the median.\n",
    "\n",
    "The kurtosis is 1.527 which is less then 3. This tells us the distribution has fat tails. So crazy returns are more likely to be seen then if it was assumed to be normal"
   ]
  },
  {
   "cell_type": "markdown",
   "id": "877253fc",
   "metadata": {},
   "source": [
    "## 2. \n",
    "\n",
    "Report the maximum drawdown for `TSLA` over the sample.\n",
    "* Ignore that your data is in excess returns rather than total returns.\n",
    "* Simply proceed with the excess return data for this calculation."
   ]
  },
  {
   "cell_type": "code",
   "execution_count": 206,
   "id": "d95c3c07",
   "metadata": {},
   "outputs": [
    {
     "name": "stdout",
     "output_type": "stream",
     "text": [
      "Max Draw Down: 0.682\n"
     ]
    }
   ],
   "source": [
    "tsla_cum_rets = (tsla_rets+1).cumprod()\n",
    "draw_downs = (tsla_cum_rets.cummax() - tsla_cum_rets) / tsla_cum_rets.cummax()\n",
    "\n",
    "print(f\"Max Draw Down: {draw_downs.max():.3f}\")"
   ]
  },
  {
   "cell_type": "markdown",
   "id": "20d77a74",
   "metadata": {},
   "source": [
    "## 3.\n",
    "\n",
    "For `TSLA`, calculate the following metrics, relative to `SPY`:\n",
    "* market beta\n",
    "* alpha\n",
    "* sortino ratio\n",
    "\n",
    "Annualize alpha and sortino ratio."
   ]
  },
  {
   "cell_type": "code",
   "execution_count": 220,
   "id": "3e7b1da0",
   "metadata": {},
   "outputs": [
    {
     "data": {
      "text/html": [
       "<div>\n",
       "<style scoped>\n",
       "    .dataframe tbody tr th:only-of-type {\n",
       "        vertical-align: middle;\n",
       "    }\n",
       "\n",
       "    .dataframe tbody tr th {\n",
       "        vertical-align: top;\n",
       "    }\n",
       "\n",
       "    .dataframe thead th {\n",
       "        text-align: right;\n",
       "    }\n",
       "</style>\n",
       "<table border=\"1\" class=\"dataframe\">\n",
       "  <thead>\n",
       "    <tr style=\"text-align: right;\">\n",
       "      <th></th>\n",
       "      <th>Market Alpha</th>\n",
       "      <th>Market Beta</th>\n",
       "      <th>Sortino</th>\n",
       "    </tr>\n",
       "    <tr>\n",
       "      <th>index</th>\n",
       "      <th></th>\n",
       "      <th></th>\n",
       "      <th></th>\n",
       "    </tr>\n",
       "  </thead>\n",
       "  <tbody>\n",
       "    <tr>\n",
       "      <th>TSLA</th>\n",
       "      <td>0.3095</td>\n",
       "      <td>1.7768</td>\n",
       "      <td>1.6423</td>\n",
       "    </tr>\n",
       "  </tbody>\n",
       "</table>\n",
       "</div>"
      ],
      "text/plain": [
       "       Market Alpha  Market Beta  Sortino\n",
       "index                                    \n",
       "TSLA         0.3095       1.7768   1.6423"
      ]
     },
     "execution_count": 220,
     "metadata": {},
     "output_type": "execute_result"
    }
   ],
   "source": [
    "def factor_model(df, y_var, x_vars, intercept=True):\n",
    "    if not isinstance(x_vars, list):\n",
    "        x_vars = [x_vars]\n",
    "    # Run regression\n",
    "    formula = f\"{y_var} ~ {' + '.join(x_vars)}\"\n",
    "    if not intercept:\n",
    "        formula = formula + \" - 1\"\n",
    "    model = smf.ols(formula=formula, data=df)\n",
    "    results = model.fit()\n",
    "    summary = results.summary()\n",
    "    \n",
    "    return model, results\n",
    "\n",
    "def risk_summary(df, index_cols, market_col, annual_scale = 12):\n",
    "    \n",
    "    data = []\n",
    "    for c in index_cols:\n",
    "        _, results = factor_model(df, c, market_col)\n",
    "        market_beta = results.params[market_col]\n",
    "        \n",
    "        data.append({\n",
    "            \"index\": c,\n",
    "            \"Market Alpha\": results.params[\"Intercept\"] * annual_scale,\n",
    "            \"Market Beta\": market_beta,\n",
    "            \"Sortino\": df[c].mean() / df[c][df[c] < 0].std() * np.sqrt(annual_scale),\n",
    "        })\n",
    "    return pd.DataFrame(data).set_index(\"index\")\n",
    "\n",
    "df_regression = pd.DataFrame()\n",
    "df_regression[\"TSLA\"] = tsla_rets\n",
    "df_regression[\"SPY\"] = df_spy[\"SPY\"]\n",
    "# display(df_regression)\n",
    "\n",
    "risk_summary(df_regression, [\"TSLA\"], \"SPY\", annual_scale=annual_factor)"
   ]
  },
  {
   "cell_type": "markdown",
   "id": "bc7919b2",
   "metadata": {},
   "source": [
    "## 4.\n",
    "\n",
    "Continuing with `TSLA`, calculate the full-sample, 5th-percentile CVaR.\n",
    "* Use the `normal` formula, assuming mean returns are zero.\n",
    "* Use the full-sample volatility.\n",
    "\n",
    "Use the entire sample to calculate a single CVaR number. "
   ]
  },
  {
   "cell_type": "code",
   "execution_count": 226,
   "id": "255101ba",
   "metadata": {},
   "outputs": [
    {
     "name": "stdout",
     "output_type": "stream",
     "text": [
      "cVaR: -0.1736378370038865\n"
     ]
    }
   ],
   "source": [
    "percent_cvar = 0.05\n",
    "cvar_multiplier = -1 * stats.norm.pdf(stats.norm.ppf(percent_cvar)) / percent_cvar\n",
    "\n",
    "print(f\"cVaR: {tsla_rets.std() * cvar_multiplier}\")\n"
   ]
  },
  {
   "cell_type": "markdown",
   "id": "94065e1d",
   "metadata": {},
   "source": [
    "## 5.\n",
    "\n",
    "Now calculate the 5th-percentile, one-period ahead, **VaR** for `TSLA`.\n",
    "\n",
    "Here, calculate the running series of VaR estimates.\n",
    "\n",
    "Again, \n",
    "* use the normal formula, with mean zero.\n",
    "\n",
    "But now, use the rolling volatility, based on \n",
    "* rolling window or $m=52$ weeks.\n",
    "\n",
    "Report the final 5 values of your calculated VaR series."
   ]
  },
  {
   "cell_type": "code",
   "execution_count": 258,
   "id": "cf6f6958",
   "metadata": {},
   "outputs": [
    {
     "data": {
      "text/plain": [
       "date\n",
       "2023-06-16   -0.1561\n",
       "2023-06-23   -0.1563\n",
       "2023-06-30   -0.1537\n",
       "2023-07-07   -0.1522\n",
       "2023-07-14   -0.1505\n",
       "Name: TSLA, dtype: float64"
      ]
     },
     "execution_count": 258,
     "metadata": {},
     "output_type": "execute_result"
    }
   ],
   "source": [
    "var_multiplier = stats.norm.ppf(percent_cvar)\n",
    "# var_multiplier = -1.65\n",
    "\n",
    "vars = (\n",
    "    tsla_rets\n",
    "    .rolling(window=annual_factor)\n",
    "    .apply(lambda x: np.sqrt(sum(x**2)/len(x)))\n",
    "    .shift(1) \n",
    "    * var_multiplier\n",
    ")\n",
    "\n",
    "vars.tail(5)"
   ]
  },
  {
   "cell_type": "markdown",
   "id": "25a30cac",
   "metadata": {},
   "source": [
    "## 6. \n",
    "\n",
    "Calculate the out-of-sample **hit ratio** for your VaR series reported in your previous answer."
   ]
  },
  {
   "cell_type": "code",
   "execution_count": 260,
   "id": "8fe75db5",
   "metadata": {},
   "outputs": [
    {
     "name": "stdout",
     "output_type": "stream",
     "text": [
      "Exceed Percent - 5% VaR Expanding: 5.59%\n"
     ]
    }
   ],
   "source": [
    "def get_hit_percent(vars, returns):\n",
    "    return sum(returns < vars) / sum(~vars.isna())\n",
    "\n",
    "exceed = get_hit_percent(vars, tsla_rets)\n",
    "print(f'Exceed Percent - 5% VaR Expanding: {exceed:.2%}')"
   ]
  },
  {
   "cell_type": "markdown",
   "id": "efee2bb2",
   "metadata": {},
   "source": [
    "***"
   ]
  },
  {
   "cell_type": "markdown",
   "id": "f3820d1b",
   "metadata": {},
   "source": [
    "# 4. Hedging"
   ]
  },
  {
   "cell_type": "markdown",
   "id": "b559f9a9",
   "metadata": {},
   "source": [
    "## 1. \n",
    "\n",
    "Consider the following scenario: you are holding a \\$100 million long position in `NVDA`. You wish to hedge the position using some combination of \n",
    "* `AAPL`\n",
    "* `AMZN`\n",
    "* `GOOGL`\n",
    "* `MSFT`\n",
    "\n",
    "Report the positions you would hold of those 4 securities for an optimal hedge.\n",
    "\n",
    "Note:\n",
    "* In the regression estimation, include an intercept.\n",
    "* Use the full-sample regression. No need to worry about in-sample versus out-of-sample."
   ]
  },
  {
   "cell_type": "markdown",
   "id": "6127f366",
   "metadata": {},
   "source": [
    "## 2.\n",
    "\n",
    "How well does the hedge do? Cite a regression statistic to support your answer.\n",
    "\n",
    "Also estimate the volatility of the basis, (epsilon.)"
   ]
  },
  {
   "cell_type": "markdown",
   "id": "579b6394",
   "metadata": {},
   "source": [
    "## 3.\n",
    "\n",
    "Report the annualized intercept. By including this intercept, what are you assuming about the nature of the returns of `NVDA` as well as the returns of the hedging instruments?"
   ]
  }
 ],
 "metadata": {
  "hide_input": false,
  "kernelspec": {
   "display_name": "git_finm-portfolio-2024",
   "language": "python",
   "name": "python3"
  },
  "language_info": {
   "codemirror_mode": {
    "name": "ipython",
    "version": 3
   },
   "file_extension": ".py",
   "mimetype": "text/x-python",
   "name": "python",
   "nbconvert_exporter": "python",
   "pygments_lexer": "ipython3",
   "version": "3.11.9"
  }
 },
 "nbformat": 4,
 "nbformat_minor": 5
}
