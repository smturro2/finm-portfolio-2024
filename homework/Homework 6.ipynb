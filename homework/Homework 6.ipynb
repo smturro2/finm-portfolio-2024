{
 "cells": [
  {
   "cell_type": "code",
   "execution_count": 2,
   "metadata": {},
   "outputs": [],
   "source": [
    "import numpy as np\n",
    "import matplotlib.pyplot as plt\n",
    "import pandas as pd\n",
    "import seaborn as sns\n",
    "import scipy\n",
    "import os\n",
    "import statsmodels.api as sm\n",
    "import scipy.stats as stats\n",
    "import statsmodels.formula.api as smf\n",
    "\n",
    "if os.getcwd().split(\"\\\\\")[-1] == \"homework\":\n",
    "    os.chdir(\"../\")\n",
    "    \n",
    "import cmds.custom_portfolio_management_helper as cpm\n",
    "# import cmds.portfolio_management_helper as pm"
   ]
  },
  {
   "cell_type": "markdown",
   "metadata": {},
   "source": [
    "Hidden latex commands\n",
    "\n",
    "$$\\newcommand{\\iidsim}{\\stackrel{\\text{i.i.d.}}{\\sim}}$$"
   ]
  },
  {
   "cell_type": "markdown",
   "metadata": {},
   "source": [
    "# Homework \\#6 \n",
    "\n",
    "Case: AQR's Momentum Funds (A) [9-211-025].\n",
    "\n",
    "## 1 The Momentum Product\n",
    "\n",
    "This section is not graded, and you do not need to submit your answers. But you are expected to consider these issues and be ready to discuss them.\n",
    "\n",
    "## 1.1\n",
    "What is novel about the AQR Momentum product under construction compared to the various momentum investment products already offered?\n",
    "\n",
    "The used offered it in the form of a mutual fund. Before it was typically only through hedge funds"
   ]
  },
  {
   "cell_type": "markdown",
   "metadata": {},
   "source": [
    "\n",
    "## 1.2\n",
    "Name three reasons the momentum investment product will not exactly track the momentum index, (ie. why the strategy will have tracking error.)\n",
    "\n",
    "- Different rebalance frequency\n",
    "- Taxes\n",
    "- AQR might exclude stocks that they thought were going to go bad (based on other factors besides momentum)\n"
   ]
  },
  {
   "cell_type": "markdown",
   "metadata": {},
   "source": [
    "\n",
    "## 1.3\n",
    "When constructing the momentum portfolio, AQR ranks stocks on their returns from month $t-12$ through $t-2$. Why don't they include the $t-1$ return in this ranking?\n",
    "\n",
    "A paper by Jegadeesh (1990) showed evidence that stocks with high returns last month tend to reverse in the following month."
   ]
  },
  {
   "cell_type": "markdown",
   "metadata": {},
   "source": [
    "\n",
    "# 2 Investigating Momentum\n",
    "\n",
    "In this section, we empirically investigate some concerns regarding AQR's new momentum product.\n",
    "On Canvas, find the data file, \"momentum_data.xlsx\".\n",
    "\n",
    "- The first tab contains the momentum factor as an excess return: $\\tilde{r}^{\\text {mom }}$.\n",
    "- The second tab contains returns on portfolios corresponding to scored momentum deciles.\n",
    "    - $r^{\\text {mom(1) }}$ denotes the portfolio of stocks in the lowest momentum decile, the \"losers\" with the lowest past returns.\n",
    "    - $r^{\\operatorname{mom}(10)}$ denotes the portfolio of stocks in the highest momentum decile.\n",
    "- The third tab gives portfolios sorted by momentum and size.\n",
    "    - $r^{\\text {momSU }}$ denotes the portfolio of small stocks in the top 3 deciles of momentum scores.\n",
    "    - $r^{\\text {momBD }}$ denotes the portfolio of big-stocks in the bottom 3 deciles of momentum scores.\n",
    "\n",
    "Note that the Fama-French momentum return, $\\tilde{r}^{\\mathrm{mom}: \\mathrm{FF}}$, given in the first tab, is constructed by FF as,\n",
    "\n",
    "$$\n",
    "\\begin{equation*}\n",
    "\\tilde{r}^{\\mathrm{mom}: \\mathrm{FF}}=\\frac{1}{2}\\left(r^{\\mathrm{momBU}}+r^{\\mathrm{momSU}}\\right)-\\frac{1}{2}\\left(r^{\\mathrm{momBD}}+r^{\\mathrm{momSD}}\\right) \\tag{1}\n",
    "\\end{equation*}\n",
    "$$\n"
   ]
  },
  {
   "cell_type": "code",
   "execution_count": 3,
   "metadata": {},
   "outputs": [
    {
     "name": "stdout",
     "output_type": "stream",
     "text": [
      "descriptions: (8, 5)\n",
      "factors (excess returns): (1173, 4)\n",
      "momentum (excess returns): (1173, 2)\n",
      "deciles (total returns): (1173, 11)\n",
      "size_sorts (total returns): (1173, 7)\n",
      "risk-free rate: (1173, 2)\n"
     ]
    },
    {
     "data": {
      "text/plain": [
       "{'MKT': 'Market',\n",
       " 'SMB': 'Size',\n",
       " 'HML': 'Value',\n",
       " 'RF': 'Risk-free rate',\n",
       " 'SMALL LoPRIOR': 'Small Down',\n",
       " 'SMALL HiPRIOR': 'Small Up',\n",
       " 'BIG LoPRIOR': 'Big Down',\n",
       " 'BIG HiPRIOR': 'Big Up'}"
      ]
     },
     "execution_count": 3,
     "metadata": {},
     "output_type": "execute_result"
    }
   ],
   "source": [
    "file_path = r\"data/momentum_data.xlsx\" \n",
    "dfs_raw = pd.read_excel(file_path, sheet_name=None)\n",
    "for key in dfs_raw.keys():\n",
    "    print(f\"{key}: {dfs_raw[key].shape}\")\n",
    "\n",
    "# display(dfs_raw['descriptions'].head())\n",
    "annual_factor = 12\n",
    "\n",
    "ticker_mapping = {tick: name \n",
    "                  for tick, name in zip(dfs_raw['descriptions'].iloc[:, 0], \n",
    "                                                dfs_raw['descriptions'].iloc[:, 1])}\n",
    "\n",
    "ticker_mapping\n"
   ]
  },
  {
   "cell_type": "code",
   "execution_count": 4,
   "metadata": {},
   "outputs": [
    {
     "data": {
      "text/html": [
       "<div>\n",
       "<style scoped>\n",
       "    .dataframe tbody tr th:only-of-type {\n",
       "        vertical-align: middle;\n",
       "    }\n",
       "\n",
       "    .dataframe tbody tr th {\n",
       "        vertical-align: top;\n",
       "    }\n",
       "\n",
       "    .dataframe thead th {\n",
       "        text-align: right;\n",
       "    }\n",
       "</style>\n",
       "<table border=\"1\" class=\"dataframe\">\n",
       "  <thead>\n",
       "    <tr style=\"text-align: right;\">\n",
       "      <th></th>\n",
       "      <th>mom(1)</th>\n",
       "      <th>mom(2)</th>\n",
       "      <th>mom(3)</th>\n",
       "      <th>mom(4)</th>\n",
       "      <th>mom(5)</th>\n",
       "      <th>mom(6)</th>\n",
       "      <th>mom(7)</th>\n",
       "      <th>mom(8)</th>\n",
       "      <th>mom(9)</th>\n",
       "      <th>mom(10)</th>\n",
       "      <th>momSD</th>\n",
       "      <th>ME1 PRIOR2</th>\n",
       "      <th>momSU</th>\n",
       "      <th>momBD</th>\n",
       "      <th>ME2 PRIOR2</th>\n",
       "      <th>momBU</th>\n",
       "    </tr>\n",
       "    <tr>\n",
       "      <th>Date</th>\n",
       "      <th></th>\n",
       "      <th></th>\n",
       "      <th></th>\n",
       "      <th></th>\n",
       "      <th></th>\n",
       "      <th></th>\n",
       "      <th></th>\n",
       "      <th></th>\n",
       "      <th></th>\n",
       "      <th></th>\n",
       "      <th></th>\n",
       "      <th></th>\n",
       "      <th></th>\n",
       "      <th></th>\n",
       "      <th></th>\n",
       "      <th></th>\n",
       "    </tr>\n",
       "  </thead>\n",
       "  <tbody>\n",
       "    <tr>\n",
       "      <th>1927-01-31</th>\n",
       "      <td>-0.0332</td>\n",
       "      <td>-0.0446</td>\n",
       "      <td>0.0269</td>\n",
       "      <td>-0.0033</td>\n",
       "      <td>-0.0041</td>\n",
       "      <td>0.0097</td>\n",
       "      <td>0.0074</td>\n",
       "      <td>0.0036</td>\n",
       "      <td>-0.0041</td>\n",
       "      <td>-0.0024</td>\n",
       "      <td>0.0008</td>\n",
       "      <td>0.0357</td>\n",
       "      <td>0.0040</td>\n",
       "      <td>-0.0040</td>\n",
       "      <td>0.0026</td>\n",
       "      <td>0.0000</td>\n",
       "    </tr>\n",
       "    <tr>\n",
       "      <th>1927-02-28</th>\n",
       "      <td>0.0753</td>\n",
       "      <td>0.0593</td>\n",
       "      <td>0.0825</td>\n",
       "      <td>0.0727</td>\n",
       "      <td>0.0322</td>\n",
       "      <td>0.0421</td>\n",
       "      <td>0.0283</td>\n",
       "      <td>0.0326</td>\n",
       "      <td>0.0420</td>\n",
       "      <td>0.0701</td>\n",
       "      <td>0.0701</td>\n",
       "      <td>0.0648</td>\n",
       "      <td>0.0551</td>\n",
       "      <td>0.0727</td>\n",
       "      <td>0.0380</td>\n",
       "      <td>0.0447</td>\n",
       "    </tr>\n",
       "    <tr>\n",
       "      <th>1927-03-31</th>\n",
       "      <td>-0.0323</td>\n",
       "      <td>-0.0301</td>\n",
       "      <td>-0.0392</td>\n",
       "      <td>-0.0477</td>\n",
       "      <td>-0.0048</td>\n",
       "      <td>-0.0242</td>\n",
       "      <td>0.0205</td>\n",
       "      <td>0.0041</td>\n",
       "      <td>0.0096</td>\n",
       "      <td>0.0547</td>\n",
       "      <td>-0.0346</td>\n",
       "      <td>-0.0288</td>\n",
       "      <td>-0.0206</td>\n",
       "      <td>-0.0357</td>\n",
       "      <td>-0.0018</td>\n",
       "      <td>0.0226</td>\n",
       "    </tr>\n",
       "    <tr>\n",
       "      <th>1927-04-30</th>\n",
       "      <td>0.0204</td>\n",
       "      <td>-0.0320</td>\n",
       "      <td>-0.0247</td>\n",
       "      <td>-0.0137</td>\n",
       "      <td>0.0220</td>\n",
       "      <td>-0.0005</td>\n",
       "      <td>0.0205</td>\n",
       "      <td>-0.0059</td>\n",
       "      <td>0.0159</td>\n",
       "      <td>0.0549</td>\n",
       "      <td>-0.0075</td>\n",
       "      <td>-0.0048</td>\n",
       "      <td>0.0332</td>\n",
       "      <td>-0.0272</td>\n",
       "      <td>0.0075</td>\n",
       "      <td>0.0181</td>\n",
       "    </tr>\n",
       "    <tr>\n",
       "      <th>1927-05-31</th>\n",
       "      <td>0.0272</td>\n",
       "      <td>0.0457</td>\n",
       "      <td>0.0595</td>\n",
       "      <td>0.0318</td>\n",
       "      <td>0.0636</td>\n",
       "      <td>0.0580</td>\n",
       "      <td>0.0496</td>\n",
       "      <td>0.0681</td>\n",
       "      <td>0.0811</td>\n",
       "      <td>0.0632</td>\n",
       "      <td>0.0248</td>\n",
       "      <td>0.1115</td>\n",
       "      <td>0.0683</td>\n",
       "      <td>0.0552</td>\n",
       "      <td>0.0496</td>\n",
       "      <td>0.0718</td>\n",
       "    </tr>\n",
       "  </tbody>\n",
       "</table>\n",
       "</div>"
      ],
      "text/plain": [
       "            mom(1)  mom(2)  mom(3)  mom(4)  mom(5)  mom(6)  mom(7)  mom(8)  \\\n",
       "Date                                                                         \n",
       "1927-01-31 -0.0332 -0.0446  0.0269 -0.0033 -0.0041  0.0097  0.0074  0.0036   \n",
       "1927-02-28  0.0753  0.0593  0.0825  0.0727  0.0322  0.0421  0.0283  0.0326   \n",
       "1927-03-31 -0.0323 -0.0301 -0.0392 -0.0477 -0.0048 -0.0242  0.0205  0.0041   \n",
       "1927-04-30  0.0204 -0.0320 -0.0247 -0.0137  0.0220 -0.0005  0.0205 -0.0059   \n",
       "1927-05-31  0.0272  0.0457  0.0595  0.0318  0.0636  0.0580  0.0496  0.0681   \n",
       "\n",
       "            mom(9)  mom(10)   momSD  ME1 PRIOR2   momSU   momBD  ME2 PRIOR2  \\\n",
       "Date                                                                          \n",
       "1927-01-31 -0.0041  -0.0024  0.0008      0.0357  0.0040 -0.0040      0.0026   \n",
       "1927-02-28  0.0420   0.0701  0.0701      0.0648  0.0551  0.0727      0.0380   \n",
       "1927-03-31  0.0096   0.0547 -0.0346     -0.0288 -0.0206 -0.0357     -0.0018   \n",
       "1927-04-30  0.0159   0.0549 -0.0075     -0.0048  0.0332 -0.0272      0.0075   \n",
       "1927-05-31  0.0811   0.0632  0.0248      0.1115  0.0683  0.0552      0.0496   \n",
       "\n",
       "             momBU  \n",
       "Date                \n",
       "1927-01-31  0.0000  \n",
       "1927-02-28  0.0447  \n",
       "1927-03-31  0.0226  \n",
       "1927-04-30  0.0181  \n",
       "1927-05-31  0.0718  "
      ]
     },
     "metadata": {},
     "output_type": "display_data"
    }
   ],
   "source": [
    "df_total_returns = (dfs_raw[\"deciles (total returns)\"].set_index(\"Date\")\n",
    "                    .rename(columns={\"Lo PRIOR\": \"mom(1)\",\n",
    "                                    \"PRIOR 2\": \"mom(2)\",\n",
    "                                    \"PRIOR 3\": \"mom(3)\",\n",
    "                                    \"PRIOR 4\": \"mom(4)\",\n",
    "                                    \"PRIOR 5\": \"mom(5)\",\n",
    "                                    \"PRIOR 6\": \"mom(6)\",\n",
    "                                    \"PRIOR 7\": \"mom(7)\",\n",
    "                                    \"PRIOR 8\": \"mom(8)\",\n",
    "                                    \"PRIOR 9\": \"mom(9)\",\n",
    "                                    \"Hi PRIOR\": \"mom(10)\",})\n",
    "                    .merge(dfs_raw[\"size_sorts (total returns)\"].set_index(\"Date\"),\n",
    "                           how=\"outer\",\n",
    "                           left_index=True,\n",
    "                           right_index=True)\n",
    "                    .rename(columns={\"SMALL LoPRIOR\": \"momSD\",\n",
    "                                    \"SMALL HiPRIOR\": \"momSU\",\n",
    "                                    \"BIG LoPRIOR\": \"momBD\",\n",
    "                                    \"BIG HiPRIOR\": \"momBU\"\n",
    "                                    })\n",
    "                    )\n",
    "# print(df_total_returns.isna().sum())\n",
    "display(df_total_returns.head())\n"
   ]
  },
  {
   "cell_type": "code",
   "execution_count": 5,
   "metadata": {},
   "outputs": [
    {
     "data": {
      "text/html": [
       "<div>\n",
       "<style scoped>\n",
       "    .dataframe tbody tr th:only-of-type {\n",
       "        vertical-align: middle;\n",
       "    }\n",
       "\n",
       "    .dataframe tbody tr th {\n",
       "        vertical-align: top;\n",
       "    }\n",
       "\n",
       "    .dataframe thead th {\n",
       "        text-align: right;\n",
       "    }\n",
       "</style>\n",
       "<table border=\"1\" class=\"dataframe\">\n",
       "  <thead>\n",
       "    <tr style=\"text-align: right;\">\n",
       "      <th></th>\n",
       "      <th>mom:FF</th>\n",
       "      <th>m</th>\n",
       "      <th>s</th>\n",
       "      <th>v</th>\n",
       "    </tr>\n",
       "    <tr>\n",
       "      <th>Date</th>\n",
       "      <th></th>\n",
       "      <th></th>\n",
       "      <th></th>\n",
       "      <th></th>\n",
       "    </tr>\n",
       "  </thead>\n",
       "  <tbody>\n",
       "    <tr>\n",
       "      <th>1927-01-31</th>\n",
       "      <td>0.0036</td>\n",
       "      <td>-0.0006</td>\n",
       "      <td>-0.0037</td>\n",
       "      <td>0.0454</td>\n",
       "    </tr>\n",
       "    <tr>\n",
       "      <th>1927-02-28</th>\n",
       "      <td>-0.0214</td>\n",
       "      <td>0.0418</td>\n",
       "      <td>0.0004</td>\n",
       "      <td>0.0294</td>\n",
       "    </tr>\n",
       "    <tr>\n",
       "      <th>1927-03-31</th>\n",
       "      <td>0.0361</td>\n",
       "      <td>0.0013</td>\n",
       "      <td>-0.0165</td>\n",
       "      <td>-0.0261</td>\n",
       "    </tr>\n",
       "    <tr>\n",
       "      <th>1927-04-30</th>\n",
       "      <td>0.0430</td>\n",
       "      <td>0.0046</td>\n",
       "      <td>0.0030</td>\n",
       "      <td>0.0081</td>\n",
       "    </tr>\n",
       "    <tr>\n",
       "      <th>1927-05-31</th>\n",
       "      <td>0.0300</td>\n",
       "      <td>0.0544</td>\n",
       "      <td>0.0153</td>\n",
       "      <td>0.0473</td>\n",
       "    </tr>\n",
       "  </tbody>\n",
       "</table>\n",
       "</div>"
      ],
      "text/plain": [
       "            mom:FF       m       s       v\n",
       "Date                                      \n",
       "1927-01-31  0.0036 -0.0006 -0.0037  0.0454\n",
       "1927-02-28 -0.0214  0.0418  0.0004  0.0294\n",
       "1927-03-31  0.0361  0.0013 -0.0165 -0.0261\n",
       "1927-04-30  0.0430  0.0046  0.0030  0.0081\n",
       "1927-05-31  0.0300  0.0544  0.0153  0.0473"
      ]
     },
     "metadata": {},
     "output_type": "display_data"
    }
   ],
   "source": [
    "df_excess_returns = (dfs_raw[\"momentum (excess returns)\"].set_index(\"Date\")\n",
    "                    .rename(columns={\"UMD\": \"mom:FF\"})\n",
    "                    .merge(dfs_raw[\"factors (excess returns)\"].set_index(\"Date\"),\n",
    "                           how=\"outer\",\n",
    "                           left_index=True,\n",
    "                           right_index=True)\n",
    "                    .rename(columns={\"MKT\": \"m\",\n",
    "                                    \"SMB\": \"s\",\n",
    "                                    \"HML\": \"v\"})\n",
    "                    )\n",
    "# print(df_excess_returns.isna().sum())\n",
    "display(df_excess_returns.head())\n"
   ]
  },
  {
   "cell_type": "code",
   "execution_count": 6,
   "metadata": {},
   "outputs": [
    {
     "data": {
      "text/html": [
       "<div>\n",
       "<style scoped>\n",
       "    .dataframe tbody tr th:only-of-type {\n",
       "        vertical-align: middle;\n",
       "    }\n",
       "\n",
       "    .dataframe tbody tr th {\n",
       "        vertical-align: top;\n",
       "    }\n",
       "\n",
       "    .dataframe thead th {\n",
       "        text-align: right;\n",
       "    }\n",
       "</style>\n",
       "<table border=\"1\" class=\"dataframe\">\n",
       "  <thead>\n",
       "    <tr style=\"text-align: right;\">\n",
       "      <th></th>\n",
       "      <th>f</th>\n",
       "    </tr>\n",
       "    <tr>\n",
       "      <th>Date</th>\n",
       "      <th></th>\n",
       "    </tr>\n",
       "  </thead>\n",
       "  <tbody>\n",
       "    <tr>\n",
       "      <th>1927-01-31</th>\n",
       "      <td>0.0025</td>\n",
       "    </tr>\n",
       "    <tr>\n",
       "      <th>1927-02-28</th>\n",
       "      <td>0.0026</td>\n",
       "    </tr>\n",
       "    <tr>\n",
       "      <th>1927-03-31</th>\n",
       "      <td>0.0030</td>\n",
       "    </tr>\n",
       "    <tr>\n",
       "      <th>1927-04-30</th>\n",
       "      <td>0.0025</td>\n",
       "    </tr>\n",
       "    <tr>\n",
       "      <th>1927-05-31</th>\n",
       "      <td>0.0030</td>\n",
       "    </tr>\n",
       "  </tbody>\n",
       "</table>\n",
       "</div>"
      ],
      "text/plain": [
       "                 f\n",
       "Date              \n",
       "1927-01-31  0.0025\n",
       "1927-02-28  0.0026\n",
       "1927-03-31  0.0030\n",
       "1927-04-30  0.0025\n",
       "1927-05-31  0.0030"
      ]
     },
     "execution_count": 6,
     "metadata": {},
     "output_type": "execute_result"
    }
   ],
   "source": [
    "df_risk_free = (dfs_raw[\"risk-free rate\"]\n",
    "                .set_index(\"Date\")\n",
    "                .rename(columns={\"RF\": \"f\"})\n",
    "                )\n",
    "\n",
    "df_risk_free.head()"
   ]
  },
  {
   "cell_type": "markdown",
   "metadata": {},
   "source": [
    "\n",
    "## 2.1. Is momentum still profitable?\n",
    "\n",
    "The excess returns of lucrative trading strategies often disappear once the strategy is well-known. The first widely-cited paper on momentum was published in 1993. Have momentum returns or risk changed since then? The AQR case takes place at the end of 2008. Have momentum returns changed in 2009-2024?\n",
    "\n",
    "Investigate by filling out the summary statistics below for the full-sample and three sub-samples.\n",
    "### 2.1.a Using the data provided, fill in Table 1 with the appropriate stats for $\\tilde{r}^{\\text {mom:FF }}$.\n",
    "\n",
    "#### Table 1: Momentum performance over time.\n",
    "\n",
    "| Subsample | mean | vol | Sharpe | skewness | corr. to $\\tilde{r}^{m}$ | corr. to $\\tilde{r}^{v}$ |\n",
    "| :--- | :--- | :--- | :--- | :--- | :--- | :--- |\n",
    "\n",
    "1927-2024\n",
    "1927-1993\n",
    "1994-2008\n",
    "2009-2024\n"
   ]
  },
  {
   "cell_type": "code",
   "execution_count": 7,
   "metadata": {},
   "outputs": [
    {
     "data": {
      "text/html": [
       "<div>\n",
       "<style scoped>\n",
       "    .dataframe tbody tr th:only-of-type {\n",
       "        vertical-align: middle;\n",
       "    }\n",
       "\n",
       "    .dataframe tbody tr th {\n",
       "        vertical-align: top;\n",
       "    }\n",
       "\n",
       "    .dataframe thead th {\n",
       "        text-align: right;\n",
       "    }\n",
       "</style>\n",
       "<table border=\"1\" class=\"dataframe\">\n",
       "  <thead>\n",
       "    <tr style=\"text-align: right;\">\n",
       "      <th></th>\n",
       "      <th>mean</th>\n",
       "      <th>vol</th>\n",
       "      <th>sharpe</th>\n",
       "      <th>skewness</th>\n",
       "      <th>corr to m</th>\n",
       "      <th>corr to v</th>\n",
       "    </tr>\n",
       "  </thead>\n",
       "  <tbody>\n",
       "    <tr>\n",
       "      <th>full</th>\n",
       "      <td>0.075328</td>\n",
       "      <td>0.162508</td>\n",
       "      <td>0.463534</td>\n",
       "      <td>-2.990493</td>\n",
       "      <td>-0.344284</td>\n",
       "      <td>-0.406410</td>\n",
       "    </tr>\n",
       "    <tr>\n",
       "      <th>1927:1993</th>\n",
       "      <td>0.088274</td>\n",
       "      <td>0.160707</td>\n",
       "      <td>0.549287</td>\n",
       "      <td>-3.805803</td>\n",
       "      <td>-0.364777</td>\n",
       "      <td>-0.504255</td>\n",
       "    </tr>\n",
       "    <tr>\n",
       "      <th>1994:2008</th>\n",
       "      <td>0.097950</td>\n",
       "      <td>0.172699</td>\n",
       "      <td>0.567171</td>\n",
       "      <td>-0.685658</td>\n",
       "      <td>-0.200952</td>\n",
       "      <td>-0.075988</td>\n",
       "    </tr>\n",
       "    <tr>\n",
       "      <th>2009:2024</th>\n",
       "      <td>-0.015092</td>\n",
       "      <td>0.158467</td>\n",
       "      <td>-0.095238</td>\n",
       "      <td>-2.691022</td>\n",
       "      <td>-0.367588</td>\n",
       "      <td>-0.320924</td>\n",
       "    </tr>\n",
       "  </tbody>\n",
       "</table>\n",
       "</div>"
      ],
      "text/plain": [
       "               mean       vol    sharpe  skewness  corr to m  corr to v\n",
       "full       0.075328  0.162508  0.463534 -2.990493  -0.344284  -0.406410\n",
       "1927:1993  0.088274  0.160707  0.549287 -3.805803  -0.364777  -0.504255\n",
       "1994:2008  0.097950  0.172699  0.567171 -0.685658  -0.200952  -0.075988\n",
       "2009:2024 -0.015092  0.158467 -0.095238 -2.691022  -0.367588  -0.320924"
      ]
     },
     "metadata": {},
     "output_type": "display_data"
    }
   ],
   "source": [
    "def homework_6_summary_table(df, annual_factor=12, summary_cols=[\"mean\", \"vol\", \"sharpe\", \"skewness\"]):\n",
    "    summary_cols = [\"mean\", \"vol\", \"sharpe\", \"skewness\"]\n",
    "    \n",
    "    df_table = cpm.calc_summary_stats(df, \n",
    "                                      annual_factor=annual_factor,\n",
    "                                      summary_cols = summary_cols\n",
    "                                      ).T\n",
    "\n",
    "\n",
    "    # corr. to $\\tilde{r}^{m}$ | corr. to $\\tilde{r}^{v}$\n",
    "    df_table[\"corr to m\"] = df.corrwith(df_excess_returns[\"m\"], axis=0)\n",
    "    df_table[\"corr to v\"] = df.corrwith(df_excess_returns[\"v\"], axis=0)\n",
    "    return df_table\n",
    "\n",
    "\n",
    "masks = {\"full\": df_excess_returns.index,\n",
    "         \"1927:1993\":(df_excess_returns.index.year >= 1927) & (df_excess_returns.index.year < 1993),\n",
    "         \"1994:2008\":(df_excess_returns.index.year >= 1994) & (df_excess_returns.index.year < 2008),\n",
    "         \"2009:2024\":(df_excess_returns.index.year >= 2009),\n",
    "}\n",
    "\n",
    "df_temp = pd.DataFrame()\n",
    "for sample_name, sample_mask in masks.items():\n",
    "    df_temp[sample_name] = df_excess_returns.loc[sample_mask, \"mom:FF\"]\n",
    "\n",
    "df_table1 = homework_6_summary_table(df_temp)\n",
    "display(df_table1)"
   ]
  },
  {
   "cell_type": "markdown",
   "metadata": {},
   "source": [
    "\n",
    "### 2.1.b Has momentum changed much over time, as seen through these subsample statistics?\n"
   ]
  },
  {
   "cell_type": "markdown",
   "metadata": {},
   "source": [
    "The momentum strategies seems to have significantly declined past 2009"
   ]
  },
  {
   "cell_type": "markdown",
   "metadata": {},
   "source": [
    "### 2.1.c \n",
    "\n",
    "Does this data support AQR's argument that momentum is an important piece of the ideal portfolio? What if mean returns to momentum are in actuality near zero due to transaction costs-would there still be evidence here that momentum is valuable?\n",
    "\n",
    "todo\n",
    "\n",
    "Hard to say. Decent negative correlation with market and value. If the actual mean returns were near 0, then it wouldn't be a good investment?"
   ]
  },
  {
   "cell_type": "markdown",
   "metadata": {},
   "source": [
    "\n",
    "## 2.2 \n",
    "The case is about whether a long-only implementation of momentum is valuable.\n",
    "\n",
    "Construct your own long-only implementation: ${ }^{1}$,\n",
    "\n",
    "$$\n",
    "\\tilde{r}^{\\mathrm{momU}: \\mathrm{FF}}=\\frac{1}{2}\\left(r^{\\mathrm{momBU}}+r^{\\mathrm{momSU}}\\right)-r^{f}\n",
    "$$\n",
    "\n",
    "Note that this is following the FF approach of treating big and small stocks separately. This would be very similar to a scaled version of,\n",
    "\n",
    "$$\n",
    "\\tilde{r}^{\\operatorname{momU}}=\\frac{1}{3}\\left(r^{\\operatorname{mom}(8)}+r^{\\operatorname{mom}(9)}+r^{\\operatorname{mom}(10)}\\right)-r^{f}\n",
    "$$\n",
    "\n",
    "For the question below, use the FF-style, $\\tilde{r}_{t}^{\\text {momU:FF }}$.\n",
    "\n"
   ]
  },
  {
   "cell_type": "code",
   "execution_count": 8,
   "metadata": {},
   "outputs": [],
   "source": [
    "df_excess_returns[\"momU:FF\"] = 1/2 * (\n",
    "    df_total_returns[\"momBU\"] + df_total_returns[\"momSU\"]\n",
    ") - df_risk_free[\"f\"]"
   ]
  },
  {
   "cell_type": "markdown",
   "metadata": {},
   "source": [
    "\n",
    "### 2.2.a \n",
    "Fill out Table 2 for the data in the period 1994-2024.\n",
    "\n",
    "#### Table 2: Long-only momentum performance.\n",
    "\n",
    "| $1994-2024$ | mean | vol | Sharpe | skew | corr. to $\\tilde{r}^{m}$ | corr. to $\\tilde{r}^{v}$ |\n",
    "| :--- | :--- | :--- | :--- | :--- | :--- | :--- |\n",
    "\n",
    "Long-and-short, ( $\\tilde{r}^{\\text {mom:FF }}$ )\n",
    "Long-only ( $\\tilde{r}^{\\mathrm{momU}: \\mathrm{FF}}$ )"
   ]
  },
  {
   "cell_type": "code",
   "execution_count": 9,
   "metadata": {},
   "outputs": [
    {
     "data": {
      "text/html": [
       "<div>\n",
       "<style scoped>\n",
       "    .dataframe tbody tr th:only-of-type {\n",
       "        vertical-align: middle;\n",
       "    }\n",
       "\n",
       "    .dataframe tbody tr th {\n",
       "        vertical-align: top;\n",
       "    }\n",
       "\n",
       "    .dataframe thead th {\n",
       "        text-align: right;\n",
       "    }\n",
       "</style>\n",
       "<table border=\"1\" class=\"dataframe\">\n",
       "  <thead>\n",
       "    <tr style=\"text-align: right;\">\n",
       "      <th></th>\n",
       "      <th>mean</th>\n",
       "      <th>vol</th>\n",
       "      <th>sharpe</th>\n",
       "      <th>skewness</th>\n",
       "      <th>corr to m</th>\n",
       "      <th>corr to v</th>\n",
       "    </tr>\n",
       "  </thead>\n",
       "  <tbody>\n",
       "    <tr>\n",
       "      <th>mom:FF</th>\n",
       "      <td>0.043184</td>\n",
       "      <td>0.167682</td>\n",
       "      <td>0.257534</td>\n",
       "      <td>-1.445951</td>\n",
       "      <td>-0.306180</td>\n",
       "      <td>-0.215225</td>\n",
       "    </tr>\n",
       "    <tr>\n",
       "      <th>momU:FF</th>\n",
       "      <td>0.117195</td>\n",
       "      <td>0.178410</td>\n",
       "      <td>0.656885</td>\n",
       "      <td>-0.444802</td>\n",
       "      <td>0.903581</td>\n",
       "      <td>-0.118954</td>\n",
       "    </tr>\n",
       "  </tbody>\n",
       "</table>\n",
       "</div>"
      ],
      "text/plain": [
       "             mean       vol    sharpe  skewness  corr to m  corr to v\n",
       "mom:FF   0.043184  0.167682  0.257534 -1.445951  -0.306180  -0.215225\n",
       "momU:FF  0.117195  0.178410  0.656885 -0.444802   0.903581  -0.118954"
      ]
     },
     "metadata": {},
     "output_type": "display_data"
    }
   ],
   "source": [
    "masks[\"1994:\"] = (df_excess_returns.index.year >= 1994)\n",
    "\n",
    "df_temp = df_excess_returns.loc[masks[\"1994:\"], [\"mom:FF\", \"momU:FF\"]]\n",
    "df_table2 = homework_6_summary_table(df_temp)\n",
    "display(df_table2)"
   ]
  },
  {
   "cell_type": "markdown",
   "metadata": {},
   "source": [
    "\n",
    "### 2.2.b \n",
    "Is long-only momentum as attractive as long-short momentum with respect to mean, volatility, and Sharpe Ratio?\n",
    "\n",
    "Yes, it actually seems more attractive, when only considering these statistics.\n"
   ]
  },
  {
   "cell_type": "markdown",
   "metadata": {},
   "source": [
    "\n",
    "### 2.2.c \n",
    "Is long-only momentum as diversifying as long-short momentum with respect to market and value premia?\n"
   ]
  },
  {
   "cell_type": "markdown",
   "metadata": {},
   "source": [
    "No, the correlations are alot higher for both momentum and value"
   ]
  },
  {
   "cell_type": "markdown",
   "metadata": {},
   "source": [
    "\n",
    "### 2.2.d \n",
    "Show a plot of the cumulative product of $1+\\tilde{r}^{\\mathrm{mom}: \\mathrm{FF}}$ and $1+\\tilde{r}^{\\mathrm{momU}: \\mathrm{FF}}$ over the 1994-2024 subsample. ${ }^{2}$\n"
   ]
  },
  {
   "cell_type": "code",
   "execution_count": 10,
   "metadata": {},
   "outputs": [
    {
     "data": {
      "image/png": "[encoded data removed]",
      "text/plain": [
       "<Figure size 1200x600 with 1 Axes>"
      ]
     },
     "metadata": {},
     "output_type": "display_data"
    }
   ],
   "source": [
    "df_temp = df_excess_returns.loc[masks[\"1994:\"],[\"mom:FF\", \"momU:FF\"]]\n",
    "df_temp = (df_temp + 1).cumprod()\n",
    "\n",
    "df_temp.plot(figsize=(12, 6), title=\"Cumulative Returns\")\n",
    "plt.grid()"
   ]
  },
  {
   "cell_type": "markdown",
   "metadata": {},
   "source": [
    "\n",
    "## 2.3 Is momentum just data mining, or is it a robust strategy?\n",
    "\n",
    "Assess how sensitive the threshold for the \"winners\" and \"losers\" is in the results. Specifically, we compare three constructions:\n",
    "\n",
    "- long the top 1 decile and short the bottom 1 deciles\n",
    "\n",
    "$$\n",
    "\\tilde{r}^{\\mathrm{momD1}}=r^{\\operatorname{mom}(10)}-r^{\\operatorname{mom}(1)}\n",
    "$$\n",
    "\n",
    "- long the top 3 deciles and short the bottom 3 deciles\n",
    "\n",
    "$$\n",
    "\\begin{aligned}\n",
    "\\tilde{r}^{\\operatorname{momD3}} & =\\frac{1}{3}\\left(r^{\\operatorname{mom}(8)}+r^{\\operatorname{mom}(9)}+r^{\\operatorname{mom}(10)}\\right)-\\frac{1}{3}\\left(r^{\\operatorname{mom}(1)}+r^{\\operatorname{mom}(2)}+r^{\\operatorname{mom}(3)}\\right) \\\\\n",
    "& =\\frac{1}{3} \\sum_{k=8}^{10} r^{\\operatorname{mom}(k)}-\\frac{1}{3} \\sum_{k=1}^{3} r^{\\operatorname{mom}(k)}\n",
    "\\end{aligned}\n",
    "$$\n",
    "\n",
    "- long the top 5 deciles and short the bottom 5 deciles\n",
    "\n",
    "$$\n",
    "\\tilde{r}^{\\operatorname{momD} 5}=\\frac{1}{5} \\sum_{k=6}^{10} r^{\\operatorname{mom}(k)}-\\frac{1}{5} \\sum_{k=1}^{5} r^{\\operatorname{mom}(k)}\n",
    "$$\n"
   ]
  },
  {
   "cell_type": "markdown",
   "metadata": {},
   "source": [
    "\n",
    "### 2.3.a \n",
    "Compare all three constructions, (in the full-sample period,) by filling out the stats in the table below for the period 1994-2024.\n",
    "\n",
    "\n",
    "#### Table 3: Robustness of momentum construction.\n",
    "\n",
    "| 1994-2024 | mean | vol | Sharpe | skewness | corr. to $\\tilde{r}^{m}$ | corr. to $\\tilde{r}^{v}$ |\n",
    "| :--- | :--- | :--- | :--- | :--- | :--- | :--- |\n",
    "| $\\tilde{r}^{\\text {momD1 }}$ |  |  |  |  |  |  |\n",
    "| $\\tilde{r}^{\\text {momD3 }}$ |  |  |  |  |  |  |\n",
    "| $\\tilde{r}^{\\text {momD5 }}$ |  |  |  |  |  |  |\n",
    "|  |  |  |  |  |  |  |\n"
   ]
  },
  {
   "cell_type": "code",
   "execution_count": 11,
   "metadata": {},
   "outputs": [],
   "source": [
    "def decile_portfolio(df_total_returns, df_risk_free, num_deciles, short_bottom=True, excess=False):\n",
    "    vals = -1 * df_risk_free[\"f\"]\n",
    "    if not excess:\n",
    "        vals = vals * 0\n",
    "    for i in range(1, num_deciles+1):\n",
    "        vals += df_total_returns[f\"mom({11-i})\"] * (1/num_deciles)\n",
    "        \n",
    "        if short_bottom:\n",
    "            vals -= df_total_returns[f\"mom({i})\"] * (1/num_deciles)\n",
    "    \n",
    "    return vals\n",
    "    \n",
    "    \n",
    "for n in [1,3,5]:\n",
    "    df_excess_returns[f\"momD{n}\"] = decile_portfolio(df_total_returns, df_risk_free, n)"
   ]
  },
  {
   "cell_type": "code",
   "execution_count": 12,
   "metadata": {},
   "outputs": [
    {
     "data": {
      "text/html": [
       "<div>\n",
       "<style scoped>\n",
       "    .dataframe tbody tr th:only-of-type {\n",
       "        vertical-align: middle;\n",
       "    }\n",
       "\n",
       "    .dataframe tbody tr th {\n",
       "        vertical-align: top;\n",
       "    }\n",
       "\n",
       "    .dataframe thead th {\n",
       "        text-align: right;\n",
       "    }\n",
       "</style>\n",
       "<table border=\"1\" class=\"dataframe\">\n",
       "  <thead>\n",
       "    <tr style=\"text-align: right;\">\n",
       "      <th></th>\n",
       "      <th>mean</th>\n",
       "      <th>vol</th>\n",
       "      <th>sharpe</th>\n",
       "      <th>skewness</th>\n",
       "      <th>corr to m</th>\n",
       "      <th>corr to v</th>\n",
       "    </tr>\n",
       "  </thead>\n",
       "  <tbody>\n",
       "    <tr>\n",
       "      <th>momD1</th>\n",
       "      <td>0.082010</td>\n",
       "      <td>0.299035</td>\n",
       "      <td>0.274248</td>\n",
       "      <td>-1.304629</td>\n",
       "      <td>-0.319715</td>\n",
       "      <td>-0.233463</td>\n",
       "    </tr>\n",
       "    <tr>\n",
       "      <th>momD3</th>\n",
       "      <td>0.028551</td>\n",
       "      <td>0.193383</td>\n",
       "      <td>0.147638</td>\n",
       "      <td>-1.345002</td>\n",
       "      <td>-0.361659</td>\n",
       "      <td>-0.211472</td>\n",
       "    </tr>\n",
       "    <tr>\n",
       "      <th>momD5</th>\n",
       "      <td>0.016411</td>\n",
       "      <td>0.133990</td>\n",
       "      <td>0.122480</td>\n",
       "      <td>-1.415925</td>\n",
       "      <td>-0.348584</td>\n",
       "      <td>-0.212234</td>\n",
       "    </tr>\n",
       "  </tbody>\n",
       "</table>\n",
       "</div>"
      ],
      "text/plain": [
       "           mean       vol    sharpe  skewness  corr to m  corr to v\n",
       "momD1  0.082010  0.299035  0.274248 -1.304629  -0.319715  -0.233463\n",
       "momD3  0.028551  0.193383  0.147638 -1.345002  -0.361659  -0.211472\n",
       "momD5  0.016411  0.133990  0.122480 -1.415925  -0.348584  -0.212234"
      ]
     },
     "metadata": {},
     "output_type": "display_data"
    }
   ],
   "source": [
    "df_temp = df_excess_returns.loc[masks[\"1994:\"], [\"momD1\", \"momD3\", \"momD5\"]]\n",
    "\n",
    "df_table3 = homework_6_summary_table(df_temp)\n",
    "display(df_table3)"
   ]
  },
  {
   "cell_type": "markdown",
   "metadata": {},
   "source": [
    "\n",
    "\n",
    "### 2.3.b\n",
    "Do the tradeoffs between the 1-decile, 3-decile, and 5-decile constructions line up with the theoretical tradeoffs we discussed in the lecture?\n"
   ]
  },
  {
   "cell_type": "markdown",
   "metadata": {},
   "source": [
    "Yes, the D1 portfolio has a higher mean, sharpe, and vol compared to the D5 portfolio."
   ]
  },
  {
   "cell_type": "markdown",
   "metadata": {},
   "source": [
    "\n",
    "### 2.3.c \n",
    "Should AQR's retail product consider using a 1-decile or 5-decile construction?\n"
   ]
  },
  {
   "cell_type": "markdown",
   "metadata": {},
   "source": [
    "1-decile looks alot better, it has higher mean and better sharpe."
   ]
  },
  {
   "cell_type": "markdown",
   "metadata": {},
   "source": [
    "\n",
    "### 2.3.d\n",
    "Does $\\tilde{r}^{\\text {momD3 }}$ have similar stats to the Fama-French construction in (1). Recall that construction is also a 3 -decile, long-short construction, but it is segmented for small and large stocks. Compare the middle row of Table 3 with the top row of Table 2."
   ]
  },
  {
   "cell_type": "code",
   "execution_count": 13,
   "metadata": {},
   "outputs": [
    {
     "data": {
      "text/html": [
       "<div>\n",
       "<style scoped>\n",
       "    .dataframe tbody tr th:only-of-type {\n",
       "        vertical-align: middle;\n",
       "    }\n",
       "\n",
       "    .dataframe tbody tr th {\n",
       "        vertical-align: top;\n",
       "    }\n",
       "\n",
       "    .dataframe thead th {\n",
       "        text-align: right;\n",
       "    }\n",
       "</style>\n",
       "<table border=\"1\" class=\"dataframe\">\n",
       "  <thead>\n",
       "    <tr style=\"text-align: right;\">\n",
       "      <th></th>\n",
       "      <th>mean</th>\n",
       "      <th>vol</th>\n",
       "      <th>sharpe</th>\n",
       "      <th>skewness</th>\n",
       "      <th>corr to m</th>\n",
       "      <th>corr to v</th>\n",
       "    </tr>\n",
       "  </thead>\n",
       "  <tbody>\n",
       "    <tr>\n",
       "      <th>mom:FF</th>\n",
       "      <td>0.043184</td>\n",
       "      <td>0.167682</td>\n",
       "      <td>0.257534</td>\n",
       "      <td>-1.445951</td>\n",
       "      <td>-0.306180</td>\n",
       "      <td>-0.215225</td>\n",
       "    </tr>\n",
       "    <tr>\n",
       "      <th>momD3</th>\n",
       "      <td>0.028551</td>\n",
       "      <td>0.193383</td>\n",
       "      <td>0.147638</td>\n",
       "      <td>-1.345002</td>\n",
       "      <td>-0.361659</td>\n",
       "      <td>-0.211472</td>\n",
       "    </tr>\n",
       "  </tbody>\n",
       "</table>\n",
       "</div>"
      ],
      "text/plain": [
       "            mean       vol    sharpe  skewness  corr to m  corr to v\n",
       "mom:FF  0.043184  0.167682  0.257534 -1.445951  -0.306180  -0.215225\n",
       "momD3   0.028551  0.193383  0.147638 -1.345002  -0.361659  -0.211472"
      ]
     },
     "execution_count": 13,
     "metadata": {},
     "output_type": "execute_result"
    }
   ],
   "source": [
    "pd.concat([df_table2.loc[\"mom:FF\"], df_table3.loc[\"momD3\"]],axis=1).T"
   ]
  },
  {
   "cell_type": "markdown",
   "metadata": {},
   "source": [
    "The fama-french construction looks to be a lot better just based on the mean and sharpe."
   ]
  },
  {
   "cell_type": "markdown",
   "metadata": {},
   "source": [
    "\n",
    "## 2.4 Does implementing momentum require trading lots of small stocks-thus causing even larger trading costs?\n",
    "\n",
    "For regulatory and liquidity reasons, AQR is particularly interested in using larger stocks for their momentum baskets. (Though they will launch one product that focuses on medium-sized stocks.)\n",
    "Use the data provided on both small-stock \"winners\", $r^{\\text {momSU }}$, and small-stock \"losers\", $r^{\\text {momSD }}$, to construct a small-stock momentum portfolio,\n",
    "\n",
    "$$\n",
    "r_{t}^{\\operatorname{mom} S}=r_{t}^{\\mathrm{momSU}}-r_{t}^{\\mathrm{momSD}}\n",
    "$$\n",
    "\n",
    "Similarly, use the data provided to construct a big-stock momentum portfolio,\n",
    "\n",
    "$$\n",
    "r_{t}^{\\operatorname{mom} B}=r_{t}^{\\mathrm{momBU}}-r_{t}^{\\mathrm{momBD}}\n",
    "$$\n"
   ]
  },
  {
   "cell_type": "code",
   "execution_count": 14,
   "metadata": {},
   "outputs": [],
   "source": [
    "df_total_returns[\"momS\"] = df_total_returns[\"momSU\"] - df_total_returns[\"momSD\"]\n",
    "df_total_returns[\"momB\"] = df_total_returns[\"momBU\"] - df_total_returns[\"momBD\"]"
   ]
  },
  {
   "cell_type": "markdown",
   "metadata": {},
   "source": [
    "\n",
    "### 2.4.a \n",
    "Fill out Table 4 over the sample 1994-2024.\n",
    "\n",
    "#### Table 4: Momentum of small and big stocks.\n",
    "\n",
    "| 1994-2024 | mean | vol | Sharpe | skewness | corr. to $\\tilde{r}[m]$ |\n",
    "| :--- | :--- | :--- | :--- | :--- | :--- |\n",
    "\n",
    "All stocks, $\\tilde{r}^{\\text {mom:FF }}$\n",
    "Small stocks $r_{t}^{\\text {mom } S}$\n",
    "Large stocks $r_{t}^{\\text {mom } B}$\n",
    "\n"
   ]
  },
  {
   "cell_type": "code",
   "execution_count": 15,
   "metadata": {},
   "outputs": [
    {
     "data": {
      "text/html": [
       "<div>\n",
       "<style scoped>\n",
       "    .dataframe tbody tr th:only-of-type {\n",
       "        vertical-align: middle;\n",
       "    }\n",
       "\n",
       "    .dataframe tbody tr th {\n",
       "        vertical-align: top;\n",
       "    }\n",
       "\n",
       "    .dataframe thead th {\n",
       "        text-align: right;\n",
       "    }\n",
       "</style>\n",
       "<table border=\"1\" class=\"dataframe\">\n",
       "  <thead>\n",
       "    <tr style=\"text-align: right;\">\n",
       "      <th></th>\n",
       "      <th>mean</th>\n",
       "      <th>vol</th>\n",
       "      <th>sharpe</th>\n",
       "      <th>skewness</th>\n",
       "      <th>corr to m</th>\n",
       "      <th>corr to v</th>\n",
       "    </tr>\n",
       "  </thead>\n",
       "  <tbody>\n",
       "    <tr>\n",
       "      <th>mom:FF</th>\n",
       "      <td>0.043184</td>\n",
       "      <td>0.167682</td>\n",
       "      <td>0.257534</td>\n",
       "      <td>-1.445951</td>\n",
       "      <td>-0.306180</td>\n",
       "      <td>-0.215225</td>\n",
       "    </tr>\n",
       "    <tr>\n",
       "      <th>momS</th>\n",
       "      <td>0.063200</td>\n",
       "      <td>0.169633</td>\n",
       "      <td>0.372569</td>\n",
       "      <td>-1.763649</td>\n",
       "      <td>-0.303976</td>\n",
       "      <td>-0.148512</td>\n",
       "    </tr>\n",
       "    <tr>\n",
       "      <th>momB</th>\n",
       "      <td>0.023177</td>\n",
       "      <td>0.182458</td>\n",
       "      <td>0.127028</td>\n",
       "      <td>-0.879114</td>\n",
       "      <td>-0.280159</td>\n",
       "      <td>-0.257523</td>\n",
       "    </tr>\n",
       "  </tbody>\n",
       "</table>\n",
       "</div>"
      ],
      "text/plain": [
       "            mean       vol    sharpe  skewness  corr to m  corr to v\n",
       "mom:FF  0.043184  0.167682  0.257534 -1.445951  -0.306180  -0.215225\n",
       "momS    0.063200  0.169633  0.372569 -1.763649  -0.303976  -0.148512\n",
       "momB    0.023177  0.182458  0.127028 -0.879114  -0.280159  -0.257523"
      ]
     },
     "metadata": {},
     "output_type": "display_data"
    }
   ],
   "source": [
    "df_temp = (df_excess_returns.loc[masks[\"1994:\"], [\"mom:FF\"]]\n",
    "           .merge(df_total_returns.loc[masks[\"1994:\"], [\"momS\", \"momB\"]],\n",
    "                  how=\"outer\",\n",
    "                  left_index=True,\n",
    "                  right_index=True)\n",
    ")\n",
    "\n",
    "df_table4 = homework_6_summary_table(df_temp)\n",
    "display(df_table4)"
   ]
  },
  {
   "cell_type": "markdown",
   "metadata": {},
   "source": [
    "\n",
    "### 2.4.b \n",
    "Is the attractiveness of the momentum strategy mostly driven by the small stocks? That is, does a momentum strategy in large stocks still deliver excess returns at comparable risk?\n"
   ]
  },
  {
   "cell_type": "markdown",
   "metadata": {},
   "source": [
    "No. The vol of all these portfolios is about the same, but momS has noticably higher mean return."
   ]
  },
  {
   "cell_type": "markdown",
   "metadata": {},
   "source": [
    "## 2.5 \n",
    "In conclusion, what is your assessment of the $A Q R$ retail product? Is it capturing the important features of the Fama-French construction of momentum? Would you suggest any modifications?\n",
    "\n"
   ]
  },
  {
   "cell_type": "code",
   "execution_count": 16,
   "metadata": {},
   "outputs": [
    {
     "data": {
      "text/html": [
       "<div>\n",
       "<style scoped>\n",
       "    .dataframe tbody tr th:only-of-type {\n",
       "        vertical-align: middle;\n",
       "    }\n",
       "\n",
       "    .dataframe tbody tr th {\n",
       "        vertical-align: top;\n",
       "    }\n",
       "\n",
       "    .dataframe thead th {\n",
       "        text-align: right;\n",
       "    }\n",
       "</style>\n",
       "<table border=\"1\" class=\"dataframe\">\n",
       "  <thead>\n",
       "    <tr style=\"text-align: right;\">\n",
       "      <th></th>\n",
       "      <th>mean</th>\n",
       "      <th>vol</th>\n",
       "      <th>sharpe</th>\n",
       "      <th>skewness</th>\n",
       "      <th>corr to m</th>\n",
       "      <th>corr to v</th>\n",
       "    </tr>\n",
       "  </thead>\n",
       "  <tbody>\n",
       "    <tr>\n",
       "      <th>FF Construction</th>\n",
       "      <td>0.043184</td>\n",
       "      <td>0.167682</td>\n",
       "      <td>0.257534</td>\n",
       "      <td>-1.445951</td>\n",
       "      <td>-0.306180</td>\n",
       "      <td>-0.215225</td>\n",
       "    </tr>\n",
       "    <tr>\n",
       "      <th>Long Only Construction (AQR Implementation)</th>\n",
       "      <td>0.117195</td>\n",
       "      <td>0.178410</td>\n",
       "      <td>0.656885</td>\n",
       "      <td>-0.444802</td>\n",
       "      <td>0.903581</td>\n",
       "      <td>-0.118954</td>\n",
       "    </tr>\n",
       "  </tbody>\n",
       "</table>\n",
       "</div>"
      ],
      "text/plain": [
       "                                                 mean       vol    sharpe  \\\n",
       "FF Construction                              0.043184  0.167682  0.257534   \n",
       "Long Only Construction (AQR Implementation)  0.117195  0.178410  0.656885   \n",
       "\n",
       "                                             skewness  corr to m  corr to v  \n",
       "FF Construction                             -1.445951  -0.306180  -0.215225  \n",
       "Long Only Construction (AQR Implementation) -0.444802   0.903581  -0.118954  "
      ]
     },
     "metadata": {},
     "output_type": "display_data"
    }
   ],
   "source": [
    "df_temp = (df_table2\n",
    "           .rename(index={\n",
    "               \"mom:FF\":\"FF Construction\",\n",
    "               \"momU:FF\":\"Long Only Construction (AQR Implementation)\",\n",
    "               })\n",
    "           )\n",
    "\n",
    "display(df_temp)"
   ]
  },
  {
   "cell_type": "markdown",
   "metadata": {},
   "source": [
    "I do not think AQR accurately captured the appeal of the FF construction, notably it's low correlation to the mark. AQR has a very correlation of .9 to the market. \n",
    "\n",
    "It seems shorting the low end is very important in order to replicate the FF construction. They should look to capture these returns while still providing a ETF type investment."
   ]
  },
  {
   "cell_type": "markdown",
   "metadata": {},
   "source": [
    "\n",
    "# 3 Barnstable's Analysis\n",
    "\n",
    "\n",
    "The Risk of Stocks in the Long-Run: The Barnstable College Endowment [HBS 9296073].\n",
    "\n",
    "This section is not graded, and you do not need to submit your answers.\n",
    "We may discuss these problems later, but they will not be covered in Midterm 2.\n",
    "\n",
    "## 3.1. Barnstable's Philosophy\n",
    "### 3.1.a \n",
    "What has Barnstable's investment strategy been in the past?\n",
    "\n",
    "Just put it all into equities lol"
   ]
  },
  {
   "cell_type": "markdown",
   "metadata": {},
   "source": [
    "\n",
    "### 3.1.b \n",
    "Explain the logic behind their view that stocks are safer in the long run.\n",
    "\n",
    "They think \"sure we might have a few bad years, but in the long return we'll have about the same amount of bad years as we do good years\""
   ]
  },
  {
   "cell_type": "markdown",
   "metadata": {},
   "source": [
    "\n",
    "### 3.1.c\n",
    "What assumptions underly Barnstable's belief in the long-run safety of stocks?\n"
   ]
  },
  {
   "cell_type": "markdown",
   "metadata": {},
   "source": [
    "They are using a 16% std for annual equity market return which is based on the performance of the stock market after WW2 to 1999.\n",
    "\n",
    "They used 13% for the mean annual return based on the current (as of 1999) yields of 10Y tresury 6%, plus the historic risk premium seen for the stock market: 7% (timeline unspecified)."
   ]
  },
  {
   "cell_type": "markdown",
   "metadata": {},
   "source": [
    "\n",
    "## 3.2 Two Proposals\n",
    "### 3.2.a \n",
    "Describe the two proposals Barnstable is considering for how to take advantage of their view regarding the long-run safety of stocks.\n",
    "\n",
    "* First option is to sell puts on the S&P with far maturities\n",
    "* Second option is to take a \"tranche* like position in the US equity market. They replicate the S&P 500 and sell preferred shares at a 6% hurdle."
   ]
  },
  {
   "cell_type": "markdown",
   "metadata": {},
   "source": [
    "\n",
    "### 3.2.b\n",
    "How is the trust different from simply shorting the risk-free rate to take a levered position in stocks?\n"
   ]
  },
  {
   "cell_type": "code",
   "execution_count": 17,
   "metadata": {},
   "outputs": [
    {
     "name": "stderr",
     "output_type": "stream",
     "text": [
      "C:\\Users\\Majes\\AppData\\Local\\Temp\\ipykernel_25200\\3427005675.py:32: RuntimeWarning: invalid value encountered in power\n",
      "  final_yield = (final_aum)**(1/maturity_years) - 1\n",
      "C:\\Users\\Majes\\AppData\\Local\\Temp\\ipykernel_25200\\3427005675.py:32: RuntimeWarning: invalid value encountered in power\n",
      "  final_yield = (final_aum)**(1/maturity_years) - 1\n",
      "C:\\Users\\Majes\\AppData\\Local\\Temp\\ipykernel_25200\\3427005675.py:32: RuntimeWarning: invalid value encountered in power\n",
      "  final_yield = (final_aum)**(1/maturity_years) - 1\n",
      "C:\\Users\\Majes\\AppData\\Local\\Temp\\ipykernel_25200\\3427005675.py:32: RuntimeWarning: invalid value encountered in power\n",
      "  final_yield = (final_aum)**(1/maturity_years) - 1\n"
     ]
    },
    {
     "data": {
      "image/png": "[encoded data removed]",
      "text/plain": [
       "<Figure size 1200x600 with 1 Axes>"
      ]
     },
     "metadata": {},
     "output_type": "display_data"
    }
   ],
   "source": [
    "# aum = 1000000\n",
    "equity_yearly_returns = np.linspace(-.05, .20)\n",
    "maturity_years = 30\n",
    "risk_free = .06\n",
    "\n",
    "def cum_return(rate):\n",
    "    return (1 + rate) ** maturity_years\n",
    "\n",
    "def vehicle_yield(equity_yearly_returns, hurdle=.06, preferred_spread=.01, risk_free=.06):\n",
    "    preferred_cutoff = cum_return(hurdle)\n",
    "    vehicle_final_val = cum_return(equity_yearly_returns)\n",
    "    \n",
    "    final_aum = 0\n",
    "    \n",
    "    # Money from Common Stock\n",
    "    common_stock_final_val = np.maximum(vehicle_final_val - preferred_cutoff, 0)\n",
    "    \n",
    "    # Money from selling preferred\n",
    "    preferred_yield = hurdle + preferred_spread\n",
    "    preferred_price = preferred_cutoff / (1 + preferred_yield)**maturity_years  # discount\n",
    "    preferred_final_val = preferred_price * cum_return(risk_free)   # assume invest in risk free\n",
    "\n",
    "    final_aum = common_stock_final_val + preferred_final_val\n",
    "    final_yield = (final_aum)**(1/maturity_years) - 1\n",
    "    return final_yield\n",
    "\n",
    "def levered_yield(equity_yearly_returns, risk_free=.06, debt_percent=1.5):\n",
    "    debt = -1 * debt_percent\n",
    "    equity = 1 - debt\n",
    "    \n",
    "    final_aum = equity * cum_return(equity_yearly_returns) + debt * cum_return(risk_free)\n",
    "    final_yield = (final_aum)**(1/maturity_years) - 1\n",
    "    return final_yield\n",
    "\n",
    "\n",
    "debt_percentages = [.05, .10, .25, .5]\n",
    "preferred_spreads = [.001, .01, .02]\n",
    "red_shades = [\"#FF0000\", \"#FF3333\", \"#FF6666\", \"#FF9999\", \"#FFCCCC\"]\n",
    "blue_shades = [\"#0000FF\", \"#3333FF\", \"#6666FF\", \"#9999FF\", \"#CCCCFF\"]\n",
    "\n",
    "df_temp = pd.DataFrame()\n",
    "\n",
    "# calculate yield for vehicle portfolio\n",
    "for preferred_spread in preferred_spreads:\n",
    "    df_temp[f\"vehicle_{preferred_spread*100:.0f}%\"] = vehicle_yield(equity_yearly_returns, preferred_spread=preferred_spread)\n",
    "\n",
    "# calculate yield for levered portfolio\n",
    "for debt_percent in debt_percentages:\n",
    "    df_temp[f\"levered_{debt_percent*100:.0f}%\"] = levered_yield(equity_yearly_returns, debt_percent=debt_percent)\n",
    "\n",
    "# plot\n",
    "plt.figure(figsize=(12, 6))\n",
    "for preferred_spread, color in zip(preferred_spreads, red_shades):\n",
    "    plt.plot(equity_yearly_returns, df_temp[f\"vehicle_{preferred_spread*100:.0f}%\"], label=f\"Preferred Spread: {preferred_spread:.2f}\", color=color)\n",
    "for debt_percent, color in zip(debt_percentages, blue_shades):\n",
    "    plt.plot(equity_yearly_returns, df_temp[f\"levered_{debt_percent*100:.0f}%\"], label=f\"Debt Percent: {debt_percent:.2f}\", color=color)\n",
    "plt.xlabel(\"Stock Market Yield\")\n",
    "plt.ylabel(\"Final Yield\")\n",
    "plt.legend()\n",
    "plt.grid()"
   ]
  },
  {
   "cell_type": "markdown",
   "metadata": {},
   "source": [
    "With a leveraged portfolio you can own more stock and are more sensative to the market performance. \n",
    "\n",
    "By selling the perferred stock, you are guaranteed a small amount of money and can invest that in a bond. And you will have a pay off if the market does better then 6%. Its comparable to owning a bond and owning a call option."
   ]
  },
  {
   "cell_type": "markdown",
   "metadata": {},
   "source": [
    "\n",
    "### 3.2.c\n",
    "Do these proposals take the same bet on long-run stock performance? In what outcomes will they have different returns?\n"
   ]
  },
  {
   "cell_type": "markdown",
   "metadata": {},
   "source": [
    "No they do not. Take the case where the stock market does very poorly over the 30 years. The puts would be exercised and they would lose a lot of money. In the vehicle case, you still gained some money by selling preferred stock but you didn't make any money on the common stock."
   ]
  },
  {
   "cell_type": "markdown",
   "metadata": {},
   "source": [
    "\n",
    "### 3.2.d\n",
    "Do the two proposals differ in their risk?\n"
   ]
  },
  {
   "cell_type": "markdown",
   "metadata": {},
   "source": [
    "The vehicle has holds the upside and protects against the downside, While the puts sell the upside and holds the downside."
   ]
  },
  {
   "cell_type": "markdown",
   "metadata": {},
   "source": [
    "\n",
    "\n",
    "### 3.3\n",
    "Do you recommend a direct investment in the S\\&P, the trust or the puts?\n",
    "\n",
    "Given the trust is for a college, I would suggest a direct investment in the S\\&P."
   ]
  },
  {
   "cell_type": "markdown",
   "metadata": {},
   "source": [
    "\n",
    "# 4 Estimating Underperformance\n",
    "\n",
    "This section is required and is to be submitted..\n",
    "This section is fair game for Midterm 2.\n",
    "\n",
    "### Data\n",
    "\n",
    "- Use the returns on the S\\&P $500\\left(r^{m}\\right)$ and 1-month T-bills, $\\left(r^{f}\\right)$ provided in \"barnstable_analysis_data.xlsx\".\n",
    "- Barnstable's estimates of mean and volatility are based on the subsample of 1965 to 1999.\n",
    "- We consider this subsample, as well as 2000-2024, as well as the full sample of 1926-2024.\n",
    "- We only have data through part of 2024, but no adjustment is needed for the fact that you have only the partial year-just use what you have.\n"
   ]
  },
  {
   "cell_type": "code",
   "execution_count": 18,
   "metadata": {},
   "outputs": [
    {
     "name": "stdout",
     "output_type": "stream",
     "text": [
      "descriptions: (2, 2)\n",
      "data: (1185, 3)\n"
     ]
    },
    {
     "data": {
      "text/plain": [
       "{'SPX': 'S&P500 Index', 'TB1M': 'Treasury Bill (1M) Index'}"
      ]
     },
     "execution_count": 18,
     "metadata": {},
     "output_type": "execute_result"
    }
   ],
   "source": [
    "file_path = r\"data/barnstable_analysis_data.xlsx\" \n",
    "dfs_raw = pd.read_excel(file_path, sheet_name=None)\n",
    "for key in dfs_raw.keys():\n",
    "    print(f\"{key}: {dfs_raw[key].shape}\")\n",
    "\n",
    "# display(dfs_raw['descriptions'].head())\n",
    "annual_factor = 12\n",
    "\n",
    "ticker_mapping = {tick: name \n",
    "                  for tick, name in zip(dfs_raw['descriptions'].iloc[:, 0], \n",
    "                                                dfs_raw['descriptions'].iloc[:, 1])}\n",
    "\n",
    "ticker_mapping\n"
   ]
  },
  {
   "cell_type": "code",
   "execution_count": 37,
   "metadata": {},
   "outputs": [
    {
     "data": {
      "text/html": [
       "<div>\n",
       "<style scoped>\n",
       "    .dataframe tbody tr th:only-of-type {\n",
       "        vertical-align: middle;\n",
       "    }\n",
       "\n",
       "    .dataframe tbody tr th {\n",
       "        vertical-align: top;\n",
       "    }\n",
       "\n",
       "    .dataframe thead th {\n",
       "        text-align: right;\n",
       "    }\n",
       "</style>\n",
       "<table border=\"1\" class=\"dataframe\">\n",
       "  <thead>\n",
       "    <tr style=\"text-align: right;\">\n",
       "      <th></th>\n",
       "      <th>m</th>\n",
       "      <th>f</th>\n",
       "      <th>m_excess</th>\n",
       "    </tr>\n",
       "    <tr>\n",
       "      <th>date</th>\n",
       "      <th></th>\n",
       "      <th></th>\n",
       "      <th></th>\n",
       "    </tr>\n",
       "  </thead>\n",
       "  <tbody>\n",
       "    <tr>\n",
       "      <th>1926-01-30</th>\n",
       "      <td>-0.001783</td>\n",
       "      <td>0.003061</td>\n",
       "      <td>-0.004844</td>\n",
       "    </tr>\n",
       "    <tr>\n",
       "      <th>1926-02-27</th>\n",
       "      <td>-0.033297</td>\n",
       "      <td>0.002612</td>\n",
       "      <td>-0.035909</td>\n",
       "    </tr>\n",
       "    <tr>\n",
       "      <th>1926-03-31</th>\n",
       "      <td>-0.057708</td>\n",
       "      <td>0.002601</td>\n",
       "      <td>-0.060309</td>\n",
       "    </tr>\n",
       "    <tr>\n",
       "      <th>1926-04-30</th>\n",
       "      <td>0.038522</td>\n",
       "      <td>0.002270</td>\n",
       "      <td>0.036252</td>\n",
       "    </tr>\n",
       "    <tr>\n",
       "      <th>1926-05-28</th>\n",
       "      <td>0.013623</td>\n",
       "      <td>0.002691</td>\n",
       "      <td>0.010932</td>\n",
       "    </tr>\n",
       "  </tbody>\n",
       "</table>\n",
       "</div>"
      ],
      "text/plain": [
       "                   m         f  m_excess\n",
       "date                                    \n",
       "1926-01-30 -0.001783  0.003061 -0.004844\n",
       "1926-02-27 -0.033297  0.002612 -0.035909\n",
       "1926-03-31 -0.057708  0.002601 -0.060309\n",
       "1926-04-30  0.038522  0.002270  0.036252\n",
       "1926-05-28  0.013623  0.002691  0.010932"
      ]
     },
     "metadata": {},
     "output_type": "display_data"
    },
    {
     "data": {
      "text/html": [
       "<div>\n",
       "<style scoped>\n",
       "    .dataframe tbody tr th:only-of-type {\n",
       "        vertical-align: middle;\n",
       "    }\n",
       "\n",
       "    .dataframe tbody tr th {\n",
       "        vertical-align: top;\n",
       "    }\n",
       "\n",
       "    .dataframe thead th {\n",
       "        text-align: right;\n",
       "    }\n",
       "</style>\n",
       "<table border=\"1\" class=\"dataframe\">\n",
       "  <thead>\n",
       "    <tr style=\"text-align: right;\">\n",
       "      <th></th>\n",
       "      <th>m</th>\n",
       "      <th>f</th>\n",
       "      <th>m_excess</th>\n",
       "    </tr>\n",
       "    <tr>\n",
       "      <th>date</th>\n",
       "      <th></th>\n",
       "      <th></th>\n",
       "      <th></th>\n",
       "    </tr>\n",
       "  </thead>\n",
       "  <tbody>\n",
       "    <tr>\n",
       "      <th>1926-01-30</th>\n",
       "      <td>-0.001785</td>\n",
       "      <td>0.003057</td>\n",
       "      <td>-0.004856</td>\n",
       "    </tr>\n",
       "    <tr>\n",
       "      <th>1926-02-27</th>\n",
       "      <td>-0.033864</td>\n",
       "      <td>0.002609</td>\n",
       "      <td>-0.036570</td>\n",
       "    </tr>\n",
       "    <tr>\n",
       "      <th>1926-03-31</th>\n",
       "      <td>-0.059440</td>\n",
       "      <td>0.002598</td>\n",
       "      <td>-0.062205</td>\n",
       "    </tr>\n",
       "    <tr>\n",
       "      <th>1926-04-30</th>\n",
       "      <td>0.037799</td>\n",
       "      <td>0.002268</td>\n",
       "      <td>0.035610</td>\n",
       "    </tr>\n",
       "    <tr>\n",
       "      <th>1926-05-28</th>\n",
       "      <td>0.013531</td>\n",
       "      <td>0.002688</td>\n",
       "      <td>0.010872</td>\n",
       "    </tr>\n",
       "  </tbody>\n",
       "</table>\n",
       "</div>"
      ],
      "text/plain": [
       "                   m         f  m_excess\n",
       "date                                    \n",
       "1926-01-30 -0.001785  0.003057 -0.004856\n",
       "1926-02-27 -0.033864  0.002609 -0.036570\n",
       "1926-03-31 -0.059440  0.002598 -0.062205\n",
       "1926-04-30  0.037799  0.002268  0.035610\n",
       "1926-05-28  0.013531  0.002688  0.010872"
      ]
     },
     "metadata": {},
     "output_type": "display_data"
    }
   ],
   "source": [
    "df_level_returns = (dfs_raw[\"data\"]\n",
    "                    .set_index(\"date\")\n",
    "                    .rename(columns={\n",
    "                        \"SPX\": \"m\",\n",
    "                        \"TB1M\": \"f\"\n",
    "                    })\n",
    "                    .ffill()\n",
    "                    )\n",
    "df_level_returns[\"m_excess\"] = df_level_returns[\"m\"] - df_level_returns[\"f\"]\n",
    "display(df_level_returns.head())\n",
    "\n",
    "df_log_returns = np.log(1+df_level_returns.copy())\n",
    "display(df_log_returns.head())"
   ]
  },
  {
   "cell_type": "markdown",
   "metadata": {},
   "source": [
    "\n",
    "## 4.1 Summary Statistics\n",
    "### 4.1.a \n",
    "Report the following (annualized) statistics.\n",
    "\n",
    "|  |  | 1965-1999 | 2000-2024 | 1926-2024 |\n",
    "| :---: | :---: | :---: | :---: | :---: |\n",
    "|  |  | mean/vol | mean/vol | mean/vol |\n",
    "| levels | $r^{m}$ |  |  |  |\n",
    "|  | $\\tilde{r}^{m}$ |  |  |  |\n",
    "|  | $r^{f}$ |  |  |  |\n",
    "| logs | $\\mathrm{r}^{m}$ |  |  |  |\n",
    "|  | $\\tilde{\\mathrm{r}}^{m}$ |  |  |  |\n",
    "|  | $\\mathrm{r}^{f}$ |  |  |  |\n"
   ]
  },
  {
   "cell_type": "code",
   "execution_count": 21,
   "metadata": {},
   "outputs": [
    {
     "data": {
      "text/html": [
       "<div>\n",
       "<style scoped>\n",
       "    .dataframe tbody tr th:only-of-type {\n",
       "        vertical-align: middle;\n",
       "    }\n",
       "\n",
       "    .dataframe tbody tr th {\n",
       "        vertical-align: top;\n",
       "    }\n",
       "\n",
       "    .dataframe thead tr th {\n",
       "        text-align: left;\n",
       "    }\n",
       "\n",
       "    .dataframe thead tr:last-of-type th {\n",
       "        text-align: right;\n",
       "    }\n",
       "</style>\n",
       "<table border=\"1\" class=\"dataframe\">\n",
       "  <thead>\n",
       "    <tr>\n",
       "      <th></th>\n",
       "      <th>sample</th>\n",
       "      <th colspan=\"2\" halign=\"left\">1926:2024</th>\n",
       "      <th colspan=\"2\" halign=\"left\">1965:1999</th>\n",
       "      <th colspan=\"2\" halign=\"left\">2000:2024</th>\n",
       "    </tr>\n",
       "    <tr>\n",
       "      <th></th>\n",
       "      <th></th>\n",
       "      <th>mean</th>\n",
       "      <th>vol</th>\n",
       "      <th>mean</th>\n",
       "      <th>vol</th>\n",
       "      <th>mean</th>\n",
       "      <th>vol</th>\n",
       "    </tr>\n",
       "    <tr>\n",
       "      <th>return_type</th>\n",
       "      <th>asset</th>\n",
       "      <th></th>\n",
       "      <th></th>\n",
       "      <th></th>\n",
       "      <th></th>\n",
       "      <th></th>\n",
       "      <th></th>\n",
       "    </tr>\n",
       "  </thead>\n",
       "  <tbody>\n",
       "    <tr>\n",
       "      <th rowspan=\"3\" valign=\"top\">levels</th>\n",
       "      <th>m</th>\n",
       "      <td>0.115535</td>\n",
       "      <td>0.186777</td>\n",
       "      <td>0.129354</td>\n",
       "      <td>0.149405</td>\n",
       "      <td>0.087283</td>\n",
       "      <td>0.153055</td>\n",
       "    </tr>\n",
       "    <tr>\n",
       "      <th>m_excess</th>\n",
       "      <td>0.083340</td>\n",
       "      <td>0.187459</td>\n",
       "      <td>0.068660</td>\n",
       "      <td>0.150227</td>\n",
       "      <td>0.070083</td>\n",
       "      <td>0.153337</td>\n",
       "    </tr>\n",
       "    <tr>\n",
       "      <th>f</th>\n",
       "      <td>0.031902</td>\n",
       "      <td>0.008516</td>\n",
       "      <td>0.061503</td>\n",
       "      <td>0.007179</td>\n",
       "      <td>0.017200</td>\n",
       "      <td>0.005533</td>\n",
       "    </tr>\n",
       "    <tr>\n",
       "      <th rowspan=\"3\" valign=\"top\">logs</th>\n",
       "      <th>m</th>\n",
       "      <td>0.097804</td>\n",
       "      <td>0.186068</td>\n",
       "      <td>0.117600</td>\n",
       "      <td>0.149568</td>\n",
       "      <td>0.075257</td>\n",
       "      <td>0.154032</td>\n",
       "    </tr>\n",
       "    <tr>\n",
       "      <th>m_excess</th>\n",
       "      <td>0.065680</td>\n",
       "      <td>0.187046</td>\n",
       "      <td>0.057161</td>\n",
       "      <td>0.151207</td>\n",
       "      <td>0.058096</td>\n",
       "      <td>0.154498</td>\n",
       "    </tr>\n",
       "    <tr>\n",
       "      <th>f</th>\n",
       "      <td>0.031823</td>\n",
       "      <td>0.008482</td>\n",
       "      <td>0.061320</td>\n",
       "      <td>0.007132</td>\n",
       "      <td>0.017173</td>\n",
       "      <td>0.005521</td>\n",
       "    </tr>\n",
       "  </tbody>\n",
       "</table>\n",
       "</div>"
      ],
      "text/plain": [
       "sample               1926:2024           1965:1999           2000:2024  \\\n",
       "                          mean       vol      mean       vol      mean   \n",
       "return_type asset                                                        \n",
       "levels      m         0.115535  0.186777  0.129354  0.149405  0.087283   \n",
       "            m_excess  0.083340  0.187459  0.068660  0.150227  0.070083   \n",
       "            f         0.031902  0.008516  0.061503  0.007179  0.017200   \n",
       "logs        m         0.097804  0.186068  0.117600  0.149568  0.075257   \n",
       "            m_excess  0.065680  0.187046  0.057161  0.151207  0.058096   \n",
       "            f         0.031823  0.008482  0.061320  0.007132  0.017173   \n",
       "\n",
       "sample                          \n",
       "                           vol  \n",
       "return_type asset               \n",
       "levels      m         0.153055  \n",
       "            m_excess  0.153337  \n",
       "            f         0.005533  \n",
       "logs        m         0.154032  \n",
       "            m_excess  0.154498  \n",
       "            f         0.005521  "
      ]
     },
     "metadata": {},
     "output_type": "display_data"
    }
   ],
   "source": [
    "long_data = []\n",
    "masks = {\"1965:1999\": (df_level_returns.index.year >= 1965) & (df_level_returns.index.year <= 1999),\n",
    "         \"2000:2024\": (df_level_returns.index.year >= 2000),\n",
    "         \"1926:2024\": (df_level_returns.index.year >= 1926)\n",
    "}\n",
    "\n",
    "for sample_name, sample_mask in masks.items():\n",
    "    # level data\n",
    "    df_temp = df_level_returns.loc[sample_mask].copy()\n",
    "    df_temp = df_temp.melt(value_vars=[\"m\", \"m_excess\", \"f\"], \n",
    "                           var_name=\"asset\", \n",
    "                           value_name=\"return\", \n",
    "                           ignore_index=False).reset_index()\n",
    "    df_temp[\"sample\"] = sample_name\n",
    "    df_temp[\"return_type\"] = \"levels\"\n",
    "    long_data.append(df_temp)\n",
    "    \n",
    "    # log data\n",
    "    df_temp = df_log_returns.loc[sample_mask].copy()\n",
    "    df_temp = df_temp.melt(value_vars=[\"m\", \"m_excess\", \"f\"], \n",
    "                           var_name=\"asset\", \n",
    "                           value_name=\"return\", \n",
    "                           ignore_index=False).reset_index()\n",
    "    df_temp[\"sample\"] = sample_name\n",
    "    df_temp[\"return_type\"] = \"logs\"\n",
    "    long_data.append(df_temp)\n",
    "\n",
    "df_temp = pd.concat(long_data).set_index(\"date\")\n",
    "# display(df_temp)\n",
    "\n",
    "table4 = (df_temp\n",
    "          .pivot_table(values=\"return\", \n",
    "                       index=[\"return_type\", \"asset\"], \n",
    "                       columns=\"sample\", \n",
    "                       aggfunc=[\"mean\", \"std\"],\n",
    "                       )\n",
    "          .rename(columns={\"std\":\"vol\"})\n",
    "          .reindex([\"m\", \"m_excess\", \"f\"], level=1)\n",
    "          )\n",
    "\n",
    "# reorder\n",
    "table4.columns = table4.columns.swaplevel(0, 1)\n",
    "table4 = table4.sort_index(axis=1)\n",
    "# Annualize\n",
    "for c in table4.columns:\n",
    "    if c[1] == \"mean\":\n",
    "        table4[c] = table4[c] * annual_factor\n",
    "    else:\n",
    "        table4[c] = table4[c] * np.sqrt(annual_factor)\n",
    "\n",
    "display(table4)"
   ]
  },
  {
   "cell_type": "markdown",
   "metadata": {},
   "source": [
    "\n",
    "### 4.1.b \n",
    "Comment on how the full-sample return stats compare to the sub-sample stats. Comment on how the level stats compare to the log stats.\n",
    "\n"
   ]
  },
  {
   "cell_type": "markdown",
   "metadata": {},
   "source": [
    "* The difference between log and level returns are similar. \n",
    "* In the full sample the returns of the market are a bit higher then recently observed\n",
    "* The risk free rate was a lot higher in 1965:1999 then in 2000:2024\n",
    "* the risk premium is about the same across sample"
   ]
  },
  {
   "cell_type": "markdown",
   "metadata": {},
   "source": [
    "\n",
    "## 4.2 Recall the following...\n",
    "\n",
    "- If $x \\sim \\mathcal{N}\\left(\\mu_{x}, \\sigma_{x}^{2}\\right)$, then\n",
    "\n",
    "$$\n",
    "\\begin{aligned}\n",
    "\\operatorname{Pr}[x<\\ell] & =\\Phi_{\\mathcal{N}}(L) \\\\\n",
    "L & =\\frac{c-\\mu_{x}}{\\sigma_{x}}\n",
    "\\end{aligned}\n",
    "$$\n",
    "\n",
    "where $\\Phi_{\\mathcal{N}}$ denotes the standard normal cdf.\n",
    "\n",
    "- Remember that cumulative log returns are simply the sum of the single-period log returns,\n",
    "\n",
    "$$\n",
    "\\mathrm{r}_{t, t+h}^{m} \\equiv \\sum_{i=1}^{h} \\mathrm{r}_{t+i}^{m}\n",
    "$$\n",
    "\n",
    "- It will be convenient to use and denote sample averages. We use the following notation for an $h$-period average ending at time $t+h$,\n",
    "\n",
    "$$\n",
    "\\overline{\\mathrm{r}}_{t, t+h}^{m}=\\frac{1}{h} \\sum_{i=1}^{h} \\mathrm{r}_{t+i}^{m}\n",
    "$$\n",
    "\n",
    "Calculate the probability that the cumulative market return will fall short of the cumulative risk-free return. ${ }^{3}$\n",
    "\n",
    "$$\n",
    "\\begin{equation*}\n",
    "\\Pr\\left[R_{t, t+h}^{m}<R_{t, t+h}^{f}\\right] \\tag{2}\n",
    "\\end{equation*}\n",
    "$$\n",
    "\n",
    "To analyze this analytically, convert the probability statement above to a probability statement about mean log returns.\n"
   ]
  },
  {
   "cell_type": "markdown",
   "metadata": {},
   "source": [
    "---"
   ]
  },
  {
   "cell_type": "markdown",
   "metadata": {},
   "source": [
    "We look to find the probability that the cummulative log return on the market $R_{t, t+h}^{m}$ is greater then the cummulative log return on the risk free rate $R_{t, t+h}^{f}$. Note that:\n",
    "* $R_{t, t+h}^{m} = \\sum_{i=1}^{h} r_{t+i}^{m}$\n",
    "* $R_{t, t+h}^{f} = \\sum_{i=1}^{h} r_{t+i}^{f}$\n",
    "\n",
    "$$\\begin{aligned}\n",
    "\\Pr(R_{t, t+h}^{m}<R_{t, t+h}^{f})\n",
    "    &= \\Pr\\left(\\sum_{i=1}^{h} r_{t+i}^{m}<\\sum_{i=1}^{h} r_{t+i}^{f}\\right) \\\\\n",
    "    &= \\Pr\\left(\\sum_{i=1}^{h} r_{t+i}^{m}- r_{t+i}^{f} < 0\\right) \\\\\n",
    "\\end{aligned}$$\n"
   ]
  },
  {
   "cell_type": "markdown",
   "metadata": {},
   "source": [
    "Let $\\tilde r_{t}^{m} = r_{t}^{m} - r_{t}^{f}$ be the excess log return of the market. \n",
    "\n",
    "$$\\begin{aligned}\n",
    "\\Pr(R_{t, t+h}^{m}<R_{t, t+h}^{f})\n",
    "    &= \\Pr\\left(\\sum_{i=1}^{h} \\tilde r_{t+i}^{m} < 0\\right) \\\\\n",
    "\\end{aligned}$$"
   ]
  },
  {
   "cell_type": "markdown",
   "metadata": {},
   "source": [
    "Let $\\tilde r_{t, t+h}^{m} = \\sum_{i=1}^{h} \\tilde r_{t+i}^{m}$ be the cummulative excess log return of the market.\n",
    "\n",
    "If we assume $\\tilde r_t^m \\iidsim \\mathcal{N}(\\mu, \\sigma)$, then $\\tilde r_{t, t+h}^{m} \\sim \\mathcal{N}(h\\mu, h\\sigma^2)$."
   ]
  },
  {
   "cell_type": "markdown",
   "metadata": {},
   "source": [
    "$$\\begin{aligned}\n",
    "\\Pr(R_{t, t+h}^{m}<R_{t, t+h}^{f})\n",
    "    &= \\Pr(\\tilde r_{t, t+h}^{m} < 0) \\\\\n",
    "    &= \\Phi_{\\mathcal{N}} \\left(\\frac{0-h\\mu}{\\sqrt{h}\\sigma} \\right) \\\\\n",
    "    &= \\Phi_{\\mathcal{N}} \\left(-\\frac{\\sqrt{h}\\mu}{\\sigma} \\right) \\\\\n",
    "\\end{aligned}$$"
   ]
  },
  {
   "cell_type": "markdown",
   "metadata": {},
   "source": [
    "\n",
    "### 4.2.a \n",
    "Calculate (2) using the subsample 1965-1999.\n"
   ]
  },
  {
   "cell_type": "code",
   "execution_count": 22,
   "metadata": {},
   "outputs": [
    {
     "data": {
      "text/plain": [
       "0.01266043954250754"
      ]
     },
     "execution_count": 22,
     "metadata": {},
     "output_type": "execute_result"
    }
   ],
   "source": [
    "def probability_of_underperformance(sample_data, h=None):\n",
    "    mu_hat = sample_data.mean()\n",
    "    sigma_hat = sample_data.std()\n",
    "    h = h if h is not None else len(sample_data)\n",
    "    \n",
    "    # print(mu_hat)\n",
    "    # print(sigma_hat)\n",
    "    \n",
    "    z_score = -np.sqrt(h) * mu_hat / sigma_hat\n",
    "    return stats.norm.cdf(z_score)\n",
    "\n",
    "\n",
    "probability_of_underperformance(df_log_returns.loc[masks[\"1965:1999\"], \"m_excess\"])"
   ]
  },
  {
   "cell_type": "markdown",
   "metadata": {},
   "source": [
    "\n",
    "### 4.2.b \n",
    "Report the precise probability for $h=15$ and $h=30$ years.\n"
   ]
  },
  {
   "cell_type": "code",
   "execution_count": 23,
   "metadata": {},
   "outputs": [
    {
     "name": "stdout",
     "output_type": "stream",
     "text": [
      "Probability of underperformance in 15 years: 7.16%\n",
      "Probability of underperformance in 30 years: 1.92%\n"
     ]
    }
   ],
   "source": [
    "for h_years in [15,30]:\n",
    "    h = h_years * annual_factor\n",
    "    prob = probability_of_underperformance(df_log_returns.loc[masks[\"1965:1999\"], \"m_excess\"], h=h)\n",
    "    print(f\"Probability of underperformance in {h_years} years: {prob:.2%}\")"
   ]
  },
  {
   "cell_type": "markdown",
   "metadata": {},
   "source": [
    "\n",
    "### 4.2.c \n",
    "Plot the probability as a function of the investment horizon, $h$, for $0<h \\leq 30$ years.\n",
    "\n"
   ]
  },
  {
   "cell_type": "code",
   "execution_count": 24,
   "metadata": {},
   "outputs": [
    {
     "data": {
      "image/png": "[encoded data removed]",
      "text/plain": [
       "<Figure size 1200x600 with 1 Axes>"
      ]
     },
     "metadata": {},
     "output_type": "display_data"
    }
   ],
   "source": [
    "h_year_vals = np.linspace(0, 30)\n",
    "prob_vals = probability_of_underperformance(df_log_returns.loc[masks[\"1965:1999\"], \"m_excess\"], h=h_year_vals*annual_factor) \n",
    "\n",
    "# Plot\n",
    "plt.figure(figsize=(12, 6))\n",
    "plt.plot(h_year_vals, prob_vals)\n",
    "plt.xlabel(\"Years\")\n",
    "plt.ylabel(\"Probability of Underperformance\")\n",
    "plt.grid()\n",
    "plt.show()"
   ]
  },
  {
   "cell_type": "markdown",
   "metadata": {},
   "source": [
    "\n",
    "\n",
    "## 4.3 \n",
    "Use the sample 1965-2024 to reconsider the 30 -year probability. As of the end of 2024, calculate the probability of the stock return underperforming the risk-free rate over the next 30 years. That is, $R_{t, t+h}^{m}$ underperforming $R_{t, t+h}^{f}$ for $0<h \\leq 30$.\n",
    "\n"
   ]
  },
  {
   "cell_type": "code",
   "execution_count": 25,
   "metadata": {},
   "outputs": [
    {
     "data": {
      "image/png": "[encoded data removed]",
      "text/plain": [
       "<Figure size 1200x600 with 1 Axes>"
      ]
     },
     "metadata": {},
     "output_type": "display_data"
    }
   ],
   "source": [
    "h_year_vals = np.linspace(0, 30)\n",
    "\n",
    "masks[\"1965:2024\"] = (df_log_returns.index.year >= 1965)\n",
    "\n",
    "prob_vals_2024 = probability_of_underperformance(df_log_returns.loc[masks[\"1965:2024\"], \"m_excess\"], h=h_year_vals*annual_factor) \n",
    "\n",
    "# Plot\n",
    "plt.figure(figsize=(12, 6))\n",
    "plt.plot(h_year_vals, prob_vals, label=\"1965:1999\")\n",
    "plt.plot(h_year_vals, prob_vals_2024, label=\"1965:2024\")\n",
    "plt.legend()\n",
    "plt.xlabel(\"Years\")\n",
    "plt.ylabel(\"Probability of Underperformance\")\n",
    "plt.grid()\n",
    "plt.show()"
   ]
  },
  {
   "cell_type": "markdown",
   "metadata": {},
   "source": [
    "It looks exactly the same"
   ]
  },
  {
   "cell_type": "markdown",
   "metadata": {},
   "source": [
    "\n",
    "## 4.4 \n",
    "Let's consider how things turned out relative to Barnstable's 1999 expectations.\n",
    "\n",
    "What was the probability (based on the 1999 estimate of $\\mu$,) that the 25 -year market return, $R_{t, t+25}^{m}$, would be smaller than that realized in 2000-2024? Note that we are asking about the market return, not the excess market return. Continue using the 1965-1999 sample standard deviation for $\\sigma$.\n"
   ]
  },
  {
   "cell_type": "code",
   "execution_count": 26,
   "metadata": {},
   "outputs": [
    {
     "data": {
      "text/plain": [
       "0.23819875860731032"
      ]
     },
     "execution_count": 26,
     "metadata": {},
     "output_type": "execute_result"
    }
   ],
   "source": [
    "sample_data = df_log_returns.loc[masks[\"1965:1999\"], \"m\"]\n",
    "\n",
    "mu_hat = sample_data.mean()\n",
    "sigma_hat = sample_data.std()\n",
    "h = 25\n",
    "target = df_log_returns.loc[masks[\"2000:2024\"], \"m\"].sum()\n",
    "\n",
    "\n",
    "z_score = (target-np.sqrt(h)) * mu_hat / sigma_hat\n",
    "stats.norm.cdf(z_score)"
   ]
  }
 ],
 "metadata": {
  "kernelspec": {
   "display_name": "git_finm-portfolio-2024",
   "language": "python",
   "name": "python3"
  },
  "language_info": {
   "codemirror_mode": {
    "name": "ipython",
    "version": 3
   },
   "file_extension": ".py",
   "mimetype": "text/x-python",
   "name": "python",
   "nbconvert_exporter": "python",
   "pygments_lexer": "ipython3",
   "version": "3.11.7"
  }
 },
 "nbformat": 4,
 "nbformat_minor": 2
}
