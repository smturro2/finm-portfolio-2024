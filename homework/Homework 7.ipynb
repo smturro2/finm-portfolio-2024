{
 "cells": [
  {
   "cell_type": "code",
   "execution_count": 157,
   "metadata": {},
   "outputs": [],
   "source": [
    "import numpy as np\n",
    "import matplotlib.pyplot as plt\n",
    "import pandas as pd\n",
    "import seaborn as sns\n",
    "import scipy\n",
    "import os\n",
    "import statsmodels.api as sm\n",
    "import scipy.stats as stats\n",
    "import statsmodels.formula.api as smf\n",
    "\n",
    "if os.getcwd().split(\"\\\\\")[-1] == \"homework\":\n",
    "    os.chdir(\"../\")\n",
    "    \n",
    "import cmds.custom_portfolio_management_helper as cpm\n",
    "import cmds.portfolio_management_helper as pm"
   ]
  },
  {
   "cell_type": "markdown",
   "metadata": {},
   "source": [
    "# Homework \\#7 \n",
    "\n",
    "## Case: Grantham, Mayo, and Van Otterloo, 2012: Estimating the Equity Risk Premium) [9-211-051].\n",
    "\n",
    "# 1 GMO\n",
    "\n",
    "This section is not graded, and you do not need to submit your answers. But you are expected to consider these issues and be ready to discuss them.\n"
   ]
  },
  {
   "cell_type": "markdown",
   "metadata": {},
   "source": [
    "\n",
    "## 1.1. GMO's approach.\n",
    "(a) Why does GMO believe they can more easily predict long-run than short-run asset class performance?\n",
    "(b) What predicting variables does the case mention are used by GMO? Does this fit with the goal of long-run forecasts?\n",
    "(c) How has this approach led to contrarian positions?\n",
    "(d) How does this approach raise business risk and managerial career risk?\n"
   ]
  },
  {
   "cell_type": "markdown",
   "metadata": {},
   "source": [
    "\n",
    "## 1.2. The market environment.\n",
    "(a) We often estimate the market risk premium by looking at a large sample of historic data. What reasons does the case give to be skeptical that the market risk premium will be as high in the future as it has been over the past 50 years?\n",
    "(b) In 2007, GMO forecasts real excess equity returns will be negative. What are the biggest drivers of their pessimistic conditional forecast relative to the unconditional forecast. (See Exhibit 9.)\n",
    "(c) In the 2011 forecast, what components has GMO revised most relative to 2007? Now how does their conditional forecast compare to the unconditional? (See Exhibit 10.)\n"
   ]
  },
  {
   "cell_type": "markdown",
   "metadata": {},
   "source": [
    "\n",
    "## 1.3. Consider the asset class forecasts in Exhibit 1.\n",
    "(a) Which asset class did GMO estimate to have a negative 10-year return over 2002-2011?\n",
    "(b) Which asset classes substantially outperformed GMO's estimate over that time period?\n",
    "(c) Which asset classes substantially underperformed GMO's estimate over that time period?\n",
    "4. Fund Performance.\n",
    "(a) In which asset class was GMWAX most heavily allocated throughout the majority of 19972011?\n",
    "(b) Comment on the performance of GMWAX versus its benchmark. (No calculation needed; simply comment on the comparison in the exhibits.)\n"
   ]
  },
  {
   "cell_type": "markdown",
   "metadata": {},
   "source": [
    "\n",
    "# 2 Analyzing GMO\n",
    "\n",
    "This section utilizes data in the file, gmo_data.xlsx.\n",
    "Examine GMO's performance. Use the risk-free rate to convert the total returns to excess returns\n",
    "\n"
   ]
  },
  {
   "cell_type": "code",
   "execution_count": 158,
   "metadata": {},
   "outputs": [
    {
     "name": "stdout",
     "output_type": "stream",
     "text": [
      "info: (7, 2)\n",
      "signals: (335, 4)\n",
      "risk-free rate: (335, 2)\n",
      "total returns: (335, 4)\n"
     ]
    }
   ],
   "source": [
    "file_path = r\"data/gmo_data.xlsx\" \n",
    "dfs_raw = pd.read_excel(file_path, sheet_name=None)\n",
    "for key in dfs_raw.keys():\n",
    "    print(f\"{key}: {dfs_raw[key].shape}\")\n",
    "\n",
    "# display(dfs_raw['descriptions'].head())\n",
    "annual_factor = 12\n",
    "\n",
    "# ticker_mapping = {tick: name \n",
    "#                   for tick, name in zip(dfs_raw['descriptions'].iloc[:, 0], \n",
    "#                                                 dfs_raw['descriptions'].iloc[:, 1])}\n",
    "\n",
    "# ticker_mapping\n"
   ]
  },
  {
   "cell_type": "code",
   "execution_count": 159,
   "metadata": {},
   "outputs": [
    {
     "name": "stdout",
     "output_type": "stream",
     "text": [
      "(335, 3)\n"
     ]
    },
    {
     "data": {
      "text/html": [
       "<div>\n",
       "<style scoped>\n",
       "    .dataframe tbody tr th:only-of-type {\n",
       "        vertical-align: middle;\n",
       "    }\n",
       "\n",
       "    .dataframe tbody tr th {\n",
       "        vertical-align: top;\n",
       "    }\n",
       "\n",
       "    .dataframe thead th {\n",
       "        text-align: right;\n",
       "    }\n",
       "</style>\n",
       "<table border=\"1\" class=\"dataframe\">\n",
       "  <thead>\n",
       "    <tr style=\"text-align: right;\">\n",
       "      <th></th>\n",
       "      <th>SPY</th>\n",
       "      <th>GMWAX</th>\n",
       "      <th>GMGEX</th>\n",
       "    </tr>\n",
       "    <tr>\n",
       "      <th>date</th>\n",
       "      <th></th>\n",
       "      <th></th>\n",
       "      <th></th>\n",
       "    </tr>\n",
       "  </thead>\n",
       "  <tbody>\n",
       "    <tr>\n",
       "      <th>1996-12-31</th>\n",
       "      <td>-0.0276</td>\n",
       "      <td>-0.0264</td>\n",
       "      <td>-0.0173</td>\n",
       "    </tr>\n",
       "    <tr>\n",
       "      <th>1997-01-31</th>\n",
       "      <td>0.0575</td>\n",
       "      <td>0.0104</td>\n",
       "      <td>0.0302</td>\n",
       "    </tr>\n",
       "    <tr>\n",
       "      <th>1997-02-28</th>\n",
       "      <td>0.0052</td>\n",
       "      <td>0.0179</td>\n",
       "      <td>0.0084</td>\n",
       "    </tr>\n",
       "    <tr>\n",
       "      <th>1997-03-31</th>\n",
       "      <td>-0.0502</td>\n",
       "      <td>-0.0196</td>\n",
       "      <td>-0.0209</td>\n",
       "    </tr>\n",
       "    <tr>\n",
       "      <th>1997-04-30</th>\n",
       "      <td>0.0600</td>\n",
       "      <td>-0.0111</td>\n",
       "      <td>-0.0044</td>\n",
       "    </tr>\n",
       "  </tbody>\n",
       "</table>\n",
       "</div>"
      ],
      "text/plain": [
       "               SPY   GMWAX   GMGEX\n",
       "date                              \n",
       "1996-12-31 -0.0276 -0.0264 -0.0173\n",
       "1997-01-31  0.0575  0.0104  0.0302\n",
       "1997-02-28  0.0052  0.0179  0.0084\n",
       "1997-03-31 -0.0502 -0.0196 -0.0209\n",
       "1997-04-30  0.0600 -0.0111 -0.0044"
      ]
     },
     "execution_count": 159,
     "metadata": {},
     "output_type": "execute_result"
    }
   ],
   "source": [
    "df_risk_free = dfs_raw['risk-free rate'].set_index(\"date\") / annual_factor\n",
    "df_excess_returns = dfs_raw['total returns'].set_index(\"date\")\n",
    "df_excess_returns = df_excess_returns.subtract(df_risk_free[\"TBill 3M\"],axis=0)\n",
    "\n",
    "print(df_excess_returns.shape)\n",
    "df_excess_returns.head()"
   ]
  },
  {
   "cell_type": "markdown",
   "metadata": {},
   "source": [
    "\n",
    "## 2.1. Calculate the mean, volatility, and Sharpe ratio for GMWAX. Do this for three samples:\n",
    "\n",
    "- from inception through 2011\n",
    "- 2012-present\n",
    "- inception - present\n",
    "\n",
    "Has the mean, vol, and Sharpe changed much since the case?\n"
   ]
  },
  {
   "cell_type": "code",
   "execution_count": 160,
   "metadata": {},
   "outputs": [
    {
     "data": {
      "text/html": [
       "<div>\n",
       "<style scoped>\n",
       "    .dataframe tbody tr th:only-of-type {\n",
       "        vertical-align: middle;\n",
       "    }\n",
       "\n",
       "    .dataframe tbody tr th {\n",
       "        vertical-align: top;\n",
       "    }\n",
       "\n",
       "    .dataframe thead th {\n",
       "        text-align: right;\n",
       "    }\n",
       "</style>\n",
       "<table border=\"1\" class=\"dataframe\">\n",
       "  <thead>\n",
       "    <tr style=\"text-align: right;\">\n",
       "      <th></th>\n",
       "      <th>mean</th>\n",
       "      <th>vol</th>\n",
       "      <th>sharpe</th>\n",
       "      <th>min</th>\n",
       "      <th>5% VaR</th>\n",
       "      <th>max_drawdown</th>\n",
       "    </tr>\n",
       "    <tr>\n",
       "      <th>mask</th>\n",
       "      <th></th>\n",
       "      <th></th>\n",
       "      <th></th>\n",
       "      <th></th>\n",
       "      <th></th>\n",
       "      <th></th>\n",
       "    </tr>\n",
       "  </thead>\n",
       "  <tbody>\n",
       "    <tr>\n",
       "      <th>:2011</th>\n",
       "      <td>0.0464</td>\n",
       "      <td>0.1105</td>\n",
       "      <td>0.4201</td>\n",
       "      <td>-0.1492</td>\n",
       "      <td>-0.0440</td>\n",
       "      <td>0.3065</td>\n",
       "    </tr>\n",
       "    <tr>\n",
       "      <th>2012:</th>\n",
       "      <td>0.0434</td>\n",
       "      <td>0.0949</td>\n",
       "      <td>0.4573</td>\n",
       "      <td>-0.1150</td>\n",
       "      <td>-0.0409</td>\n",
       "      <td>0.2256</td>\n",
       "    </tr>\n",
       "    <tr>\n",
       "      <th>full</th>\n",
       "      <td>0.0450</td>\n",
       "      <td>0.1035</td>\n",
       "      <td>0.4352</td>\n",
       "      <td>-0.1492</td>\n",
       "      <td>-0.0414</td>\n",
       "      <td>0.3065</td>\n",
       "    </tr>\n",
       "  </tbody>\n",
       "</table>\n",
       "</div>"
      ],
      "text/plain": [
       "        mean    vol  sharpe     min  5% VaR  max_drawdown\n",
       "mask                                                     \n",
       ":2011 0.0464 0.1105  0.4201 -0.1492 -0.0440        0.3065\n",
       "2012: 0.0434 0.0949  0.4573 -0.1150 -0.0409        0.2256\n",
       "full  0.0450 0.1035  0.4352 -0.1492 -0.0414        0.3065"
      ]
     },
     "execution_count": 160,
     "metadata": {},
     "output_type": "execute_result"
    }
   ],
   "source": [
    "summary_cols = [\"mean\", \"vol\", \"sharpe\", \"min\", \"5% VaR\", \"max_drawdown\"]\n",
    "\n",
    "masks = {\":2011\": (df_excess_returns.index.year <= 2011),\n",
    "         \"2012:\": (df_excess_returns.index.year >= 2012),\n",
    "         \"full\": df_excess_returns.index,\n",
    "}\n",
    "\n",
    "\n",
    "main_col = \"GMWAX\"\n",
    "df_summary = pd.DataFrame()\n",
    "for sample_name, sample_mask in masks.items():\n",
    "    df_temp = cpm.calc_summary_stats(df_excess_returns[[main_col]],\n",
    "                                      mask=sample_mask, \n",
    "                                      annual_factor=annual_factor,\n",
    "                                      summary_cols=summary_cols\n",
    "                                      ).T\n",
    "    df_temp[\"mask\"] = sample_name\n",
    "    df_summary = pd.concat([df_summary, df_temp])\n",
    "df_summary = df_summary.set_index(\"mask\")\n",
    "df_summary"
   ]
  },
  {
   "cell_type": "markdown",
   "metadata": {},
   "source": [
    "## 2.2. GMO believes a risk premium is compensation for a security's tendency to lose money at \"bad times\". For all three samples, analyze extreme scenarios by looking at\n",
    "\n",
    "- Min return\n",
    "- 5th percentile (VaR-5th)\n",
    "- Maximum drawdown ${ }^{1}$\n",
    "(a) Does GMWAX have high or low tail-risk as seen by these stats?\n",
    "(b) Does that vary much across the two subsamples?\n"
   ]
  },
  {
   "cell_type": "markdown",
   "metadata": {},
   "source": [
    "\n",
    "\n",
    "## 2.3. For all three samples, regress excess returns of GMWAX on excess returns of SPY.\n",
    "(a) Report the estimated alpha, beta, and r-squared.\n",
    "(b) Is GMWAX a low-beta strategy? Has that changed since the case?\n",
    "(c) Does GMWAX provide alpha? Has that changed across the subsamples?\n"
   ]
  },
  {
   "cell_type": "code",
   "execution_count": 161,
   "metadata": {},
   "outputs": [
    {
     "data": {
      "text/html": [
       "<div>\n",
       "<style scoped>\n",
       "    .dataframe tbody tr th:only-of-type {\n",
       "        vertical-align: middle;\n",
       "    }\n",
       "\n",
       "    .dataframe tbody tr th {\n",
       "        vertical-align: top;\n",
       "    }\n",
       "\n",
       "    .dataframe thead th {\n",
       "        text-align: right;\n",
       "    }\n",
       "</style>\n",
       "<table border=\"1\" class=\"dataframe\">\n",
       "  <thead>\n",
       "    <tr style=\"text-align: right;\">\n",
       "      <th></th>\n",
       "      <th>market_alpha</th>\n",
       "      <th>market_beta</th>\n",
       "      <th>trenor_ratio</th>\n",
       "      <th>info_ratio</th>\n",
       "      <th>R2</th>\n",
       "    </tr>\n",
       "    <tr>\n",
       "      <th>mask</th>\n",
       "      <th></th>\n",
       "      <th></th>\n",
       "      <th></th>\n",
       "      <th></th>\n",
       "      <th></th>\n",
       "    </tr>\n",
       "  </thead>\n",
       "  <tbody>\n",
       "    <tr>\n",
       "      <th>:2011</th>\n",
       "      <td>0.0023</td>\n",
       "      <td>0.5421</td>\n",
       "      <td>0.0856</td>\n",
       "      <td>0.4201</td>\n",
       "      <td>0.6487</td>\n",
       "    </tr>\n",
       "    <tr>\n",
       "      <th>2012:</th>\n",
       "      <td>-0.0028</td>\n",
       "      <td>0.5818</td>\n",
       "      <td>0.0746</td>\n",
       "      <td>0.4573</td>\n",
       "      <td>0.7487</td>\n",
       "    </tr>\n",
       "    <tr>\n",
       "      <th>full</th>\n",
       "      <td>0.0000</td>\n",
       "      <td>0.5526</td>\n",
       "      <td>0.0815</td>\n",
       "      <td>0.4352</td>\n",
       "      <td>0.6802</td>\n",
       "    </tr>\n",
       "  </tbody>\n",
       "</table>\n",
       "</div>"
      ],
      "text/plain": [
       "       market_alpha  market_beta  trenor_ratio  info_ratio     R2\n",
       "mask                                                             \n",
       ":2011        0.0023       0.5421        0.0856      0.4201 0.6487\n",
       "2012:       -0.0028       0.5818        0.0746      0.4573 0.7487\n",
       "full         0.0000       0.5526        0.0815      0.4352 0.6802"
      ]
     },
     "execution_count": 161,
     "metadata": {},
     "output_type": "execute_result"
    }
   ],
   "source": [
    "def factor_model(df, y_var, x_vars, intercept=True, lag=0):\n",
    "    \n",
    "    if not isinstance(x_vars, list):\n",
    "        x_vars = [x_vars]\n",
    "    # Run regression\n",
    "    formula = f\"{y_var} ~ {' + '.join(x_vars)}\"\n",
    "    if not intercept:\n",
    "        formula = formula + \" - 1\"\n",
    "    model = smf.ols(formula=formula, data=df)\n",
    "    results = model.fit()\n",
    "    summary = results.summary()\n",
    "\n",
    "    return model, results\n",
    "\n",
    "def risk_summary(df, market_col, index_cols=None, annual_scale=12):\n",
    "    if index_cols is None:\n",
    "        index_cols = list(df.columns)\n",
    "        if market_col in index_cols: index_cols.remove(market_col)\n",
    "\n",
    "\n",
    "    data = []\n",
    "    for c in index_cols:\n",
    "        _, results = factor_model(df, c, market_col)\n",
    "        market_beta = results.params[market_col]\n",
    "\n",
    "        mu_return = df[c].mean() * annual_scale\n",
    "        vol_return = df[c].std() * np.sqrt(annual_scale)\n",
    "\n",
    "        data.append({\n",
    "            \"index\": c,\n",
    "            \"market_alpha\": results.params[\"Intercept\"],\n",
    "            \"market_beta\": market_beta,\n",
    "            \"trenor_ratio\": mu_return / market_beta,\n",
    "            \"info_ratio\": mu_return / vol_return,\n",
    "            \"R2\": results.rsquared,\n",
    "        })\n",
    "    return pd.DataFrame(data).set_index(\"index\")\n",
    "\n",
    "\n",
    "main_col = \"GMWAX\"\n",
    "market_col = \"SPY\"\n",
    "df_temp = pd.DataFrame()\n",
    "for sample_name, sample_mask in masks.items():\n",
    "    df_temp2 = risk_summary(df_excess_returns.loc[sample_mask,[main_col, market_col]], market_col)\n",
    "    df_temp2[\"mask\"] = sample_name\n",
    "    df_temp = pd.concat([df_temp, df_temp2])\n",
    "df_temp = df_temp.set_index(\"mask\")\n",
    "df_temp"
   ]
  },
  {
   "cell_type": "code",
   "execution_count": 162,
   "metadata": {},
   "outputs": [
    {
     "data": {
      "text/plain": [
       "-0.0014629411533982493"
      ]
     },
     "execution_count": 162,
     "metadata": {},
     "output_type": "execute_result"
    }
   ],
   "source": [
    "df_excess_returns['GMGEX'].mean() * 12"
   ]
  },
  {
   "cell_type": "markdown",
   "metadata": {},
   "source": [
    "\n",
    "## 2.4. Above, we've evaluated GMO's macro fund, \"GMWAX\", as studied in the case. Now, consider GMO's equity fund, \"GMGEX\".\n",
    "Compute the performance stats of 3.1-3.3 for GMGEX. What are some of the major differences between these two strategies?\n"
   ]
  },
  {
   "cell_type": "code",
   "execution_count": 163,
   "metadata": {},
   "outputs": [
    {
     "data": {
      "text/html": [
       "<div>\n",
       "<style scoped>\n",
       "    .dataframe tbody tr th:only-of-type {\n",
       "        vertical-align: middle;\n",
       "    }\n",
       "\n",
       "    .dataframe tbody tr th {\n",
       "        vertical-align: top;\n",
       "    }\n",
       "\n",
       "    .dataframe thead th {\n",
       "        text-align: right;\n",
       "    }\n",
       "</style>\n",
       "<table border=\"1\" class=\"dataframe\">\n",
       "  <thead>\n",
       "    <tr style=\"text-align: right;\">\n",
       "      <th></th>\n",
       "      <th>mean</th>\n",
       "      <th>vol</th>\n",
       "      <th>sharpe</th>\n",
       "      <th>min</th>\n",
       "      <th>5% VaR</th>\n",
       "      <th>max_drawdown</th>\n",
       "    </tr>\n",
       "    <tr>\n",
       "      <th>mask</th>\n",
       "      <th></th>\n",
       "      <th></th>\n",
       "      <th></th>\n",
       "      <th></th>\n",
       "      <th></th>\n",
       "      <th></th>\n",
       "    </tr>\n",
       "  </thead>\n",
       "  <tbody>\n",
       "    <tr>\n",
       "      <th>:2011</th>\n",
       "      <td>-0.0038</td>\n",
       "      <td>0.1473</td>\n",
       "      <td>-0.0260</td>\n",
       "      <td>-0.1516</td>\n",
       "      <td>-0.0823</td>\n",
       "      <td>0.5640</td>\n",
       "    </tr>\n",
       "    <tr>\n",
       "      <th>2012:</th>\n",
       "      <td>0.0013</td>\n",
       "      <td>0.2356</td>\n",
       "      <td>0.0056</td>\n",
       "      <td>-0.6589</td>\n",
       "      <td>-0.0680</td>\n",
       "      <td>0.7383</td>\n",
       "    </tr>\n",
       "    <tr>\n",
       "      <th>full</th>\n",
       "      <td>-0.0015</td>\n",
       "      <td>0.1926</td>\n",
       "      <td>-0.0076</td>\n",
       "      <td>-0.6589</td>\n",
       "      <td>-0.0762</td>\n",
       "      <td>0.7681</td>\n",
       "    </tr>\n",
       "  </tbody>\n",
       "</table>\n",
       "</div>"
      ],
      "text/plain": [
       "         mean    vol  sharpe     min  5% VaR  max_drawdown\n",
       "mask                                                      \n",
       ":2011 -0.0038 0.1473 -0.0260 -0.1516 -0.0823        0.5640\n",
       "2012:  0.0013 0.2356  0.0056 -0.6589 -0.0680        0.7383\n",
       "full  -0.0015 0.1926 -0.0076 -0.6589 -0.0762        0.7681"
      ]
     },
     "metadata": {},
     "output_type": "display_data"
    },
    {
     "data": {
      "text/html": [
       "<div>\n",
       "<style scoped>\n",
       "    .dataframe tbody tr th:only-of-type {\n",
       "        vertical-align: middle;\n",
       "    }\n",
       "\n",
       "    .dataframe tbody tr th {\n",
       "        vertical-align: top;\n",
       "    }\n",
       "\n",
       "    .dataframe thead th {\n",
       "        text-align: right;\n",
       "    }\n",
       "</style>\n",
       "<table border=\"1\" class=\"dataframe\">\n",
       "  <thead>\n",
       "    <tr style=\"text-align: right;\">\n",
       "      <th></th>\n",
       "      <th>market_alpha</th>\n",
       "      <th>market_beta</th>\n",
       "      <th>trenor_ratio</th>\n",
       "      <th>info_ratio</th>\n",
       "      <th>R2</th>\n",
       "    </tr>\n",
       "    <tr>\n",
       "      <th>mask</th>\n",
       "      <th></th>\n",
       "      <th></th>\n",
       "      <th></th>\n",
       "      <th></th>\n",
       "      <th></th>\n",
       "    </tr>\n",
       "  </thead>\n",
       "  <tbody>\n",
       "    <tr>\n",
       "      <th>:2011</th>\n",
       "      <td>-0.0026</td>\n",
       "      <td>0.7642</td>\n",
       "      <td>-0.0050</td>\n",
       "      <td>-0.0260</td>\n",
       "      <td>0.7259</td>\n",
       "    </tr>\n",
       "    <tr>\n",
       "      <th>2012:</th>\n",
       "      <td>-0.0092</td>\n",
       "      <td>0.8381</td>\n",
       "      <td>0.0016</td>\n",
       "      <td>0.0056</td>\n",
       "      <td>0.2525</td>\n",
       "    </tr>\n",
       "    <tr>\n",
       "      <th>full</th>\n",
       "      <td>-0.0054</td>\n",
       "      <td>0.7867</td>\n",
       "      <td>-0.0019</td>\n",
       "      <td>-0.0076</td>\n",
       "      <td>0.3979</td>\n",
       "    </tr>\n",
       "  </tbody>\n",
       "</table>\n",
       "</div>"
      ],
      "text/plain": [
       "       market_alpha  market_beta  trenor_ratio  info_ratio     R2\n",
       "mask                                                             \n",
       ":2011       -0.0026       0.7642       -0.0050     -0.0260 0.7259\n",
       "2012:       -0.0092       0.8381        0.0016      0.0056 0.2525\n",
       "full        -0.0054       0.7867       -0.0019     -0.0076 0.3979"
      ]
     },
     "execution_count": 163,
     "metadata": {},
     "output_type": "execute_result"
    }
   ],
   "source": [
    "main_col = \"GMGEX\"\n",
    "\n",
    "# Summary\n",
    "df_summary = pd.DataFrame()\n",
    "for sample_name, sample_mask in masks.items():\n",
    "    df_temp = cpm.calc_summary_stats(df_excess_returns[[main_col]],\n",
    "                                      mask=sample_mask, \n",
    "                                      annual_factor=annual_factor,\n",
    "                                      summary_cols=summary_cols\n",
    "                                      ).T\n",
    "    df_temp[\"mask\"] = sample_name\n",
    "    df_summary = pd.concat([df_summary, df_temp])\n",
    "df_summary = df_summary.set_index(\"mask\")\n",
    "display(df_summary)\n",
    "\n",
    "\n",
    "# Market Regressions\n",
    "df_temp = pd.DataFrame()\n",
    "for sample_name, sample_mask in masks.items():\n",
    "    df_temp2 = risk_summary(df_excess_returns.loc[sample_mask,[main_col, market_col]], market_col)\n",
    "    df_temp2[\"mask\"] = sample_name\n",
    "    df_temp = pd.concat([df_temp, df_temp2])\n",
    "df_temp = df_temp.set_index(\"mask\")\n",
    "df_temp"
   ]
  },
  {
   "cell_type": "markdown",
   "metadata": {},
   "source": [
    "\n",
    "# 3 Forecast Regressions\n",
    "\n",
    "This section utilizes data in the file, gmo_data.xlsx.\n",
    "\n"
   ]
  },
  {
   "cell_type": "markdown",
   "metadata": {},
   "source": [
    "\n",
    "## 3.1. Consider the lagged regression, where the regressor, $(X,)$ is a period behind the target, $\\left(r^{S P Y}\\right)$.\n",
    "\n",
    "$$\n",
    "\\begin{equation*}\n",
    "r_{t}^{S P Y}=\\alpha^{S P Y, \\boldsymbol{X}}+\\left(\\boldsymbol{\\beta}^{S P Y, \\boldsymbol{X}}\\right)^{\\prime} \\boldsymbol{X}_{t-1}+\\epsilon_{t}^{S P Y, \\boldsymbol{X}} \\tag{1}\n",
    "\\end{equation*}\n",
    "$$\n",
    "\n",
    "Estimate (1) and report the $\\mathcal{R}^{2}$, as well as the OLS estimates for $\\alpha$ and $\\beta$. Do this for...\n",
    "\n",
    "[^0]- $\\boldsymbol{X}$ as a single regressor, the dividend-price ratio.\n",
    "- $\\boldsymbol{X}$ as a single regressor, the earnings-price ratio.\n",
    "- $\\boldsymbol{X}$ as three regressors, the dividend-price ratio, the earnings-price ratio, and the 10 -year yield.\n",
    "\n",
    "For each, report the r-squared.\n"
   ]
  },
  {
   "cell_type": "code",
   "execution_count": 164,
   "metadata": {},
   "outputs": [
    {
     "data": {
      "text/html": [
       "<div>\n",
       "<style scoped>\n",
       "    .dataframe tbody tr th:only-of-type {\n",
       "        vertical-align: middle;\n",
       "    }\n",
       "\n",
       "    .dataframe tbody tr th {\n",
       "        vertical-align: top;\n",
       "    }\n",
       "\n",
       "    .dataframe thead th {\n",
       "        text-align: right;\n",
       "    }\n",
       "</style>\n",
       "<table border=\"1\" class=\"dataframe\">\n",
       "  <thead>\n",
       "    <tr style=\"text-align: right;\">\n",
       "      <th></th>\n",
       "      <th>SPY</th>\n",
       "      <th>GMWAX</th>\n",
       "      <th>GMGEX</th>\n",
       "      <th>SPX_DVD_YLD</th>\n",
       "      <th>SPX_P_E</th>\n",
       "      <th>TNote_10YR</th>\n",
       "    </tr>\n",
       "    <tr>\n",
       "      <th>date</th>\n",
       "      <th></th>\n",
       "      <th></th>\n",
       "      <th></th>\n",
       "      <th></th>\n",
       "      <th></th>\n",
       "      <th></th>\n",
       "    </tr>\n",
       "  </thead>\n",
       "  <tbody>\n",
       "    <tr>\n",
       "      <th>1997-01-31</th>\n",
       "      <td>-0.0276</td>\n",
       "      <td>0.0104</td>\n",
       "      <td>0.0302</td>\n",
       "      <td>1.8455</td>\n",
       "      <td>20.8856</td>\n",
       "      <td>6.4940</td>\n",
       "    </tr>\n",
       "    <tr>\n",
       "      <th>1997-02-28</th>\n",
       "      <td>0.0575</td>\n",
       "      <td>0.0179</td>\n",
       "      <td>0.0084</td>\n",
       "      <td>1.8502</td>\n",
       "      <td>21.0116</td>\n",
       "      <td>6.5520</td>\n",
       "    </tr>\n",
       "    <tr>\n",
       "      <th>1997-03-31</th>\n",
       "      <td>0.0052</td>\n",
       "      <td>-0.0196</td>\n",
       "      <td>-0.0209</td>\n",
       "      <td>1.9427</td>\n",
       "      <td>18.4633</td>\n",
       "      <td>6.9030</td>\n",
       "    </tr>\n",
       "    <tr>\n",
       "      <th>1997-04-30</th>\n",
       "      <td>-0.0502</td>\n",
       "      <td>-0.0111</td>\n",
       "      <td>-0.0044</td>\n",
       "      <td>1.8430</td>\n",
       "      <td>19.6004</td>\n",
       "      <td>6.7180</td>\n",
       "    </tr>\n",
       "    <tr>\n",
       "      <th>1997-05-30</th>\n",
       "      <td>0.0600</td>\n",
       "      <td>0.0530</td>\n",
       "      <td>0.0539</td>\n",
       "      <td>1.7478</td>\n",
       "      <td>19.9884</td>\n",
       "      <td>6.6590</td>\n",
       "    </tr>\n",
       "  </tbody>\n",
       "</table>\n",
       "</div>"
      ],
      "text/plain": [
       "               SPY   GMWAX   GMGEX  SPX_DVD_YLD  SPX_P_E  TNote_10YR\n",
       "date                                                                \n",
       "1997-01-31 -0.0276  0.0104  0.0302       1.8455  20.8856      6.4940\n",
       "1997-02-28  0.0575  0.0179  0.0084       1.8502  21.0116      6.5520\n",
       "1997-03-31  0.0052 -0.0196 -0.0209       1.9427  18.4633      6.9030\n",
       "1997-04-30 -0.0502 -0.0111 -0.0044       1.8430  19.6004      6.7180\n",
       "1997-05-30  0.0600  0.0530  0.0539       1.7478  19.9884      6.6590"
      ]
     },
     "execution_count": 164,
     "metadata": {},
     "output_type": "execute_result"
    }
   ],
   "source": [
    "def model_print(results):\n",
    "    return pd.Series({\n",
    "        \"R2\": results.rsquared,\n",
    "        **results.params\n",
    "    })\n",
    "\n",
    "\n",
    "df_signals = dfs_raw['signals'].set_index(\"date\")\n",
    "df_reg = df_excess_returns.merge(df_signals, left_index=True, right_index=True)\n",
    "df_reg.columns = [c.replace(\" \", \"_\").replace(\"/\",\"_\") for c in df_reg.columns]\n",
    "\n",
    "# Lag \"SPY\"\n",
    "lag = 1\n",
    "df_reg = df_reg.copy()\n",
    "df_reg[\"SPY\"] = df_reg[\"SPY\"].shift(lag)\n",
    "df_reg = df_reg.dropna()\n",
    "\n",
    "df_reg.head()"
   ]
  },
  {
   "cell_type": "code",
   "execution_count": 165,
   "metadata": {},
   "outputs": [],
   "source": [
    "models = []"
   ]
  },
  {
   "cell_type": "code",
   "execution_count": 166,
   "metadata": {},
   "outputs": [
    {
     "name": "stdout",
     "output_type": "stream",
     "text": [
      "Regression on Dividend Ratio\n"
     ]
    },
    {
     "data": {
      "text/plain": [
       "R2             0.0127\n",
       "Intercept      0.0295\n",
       "SPX_DVD_YLD   -0.0125\n",
       "dtype: float64"
      ]
     },
     "execution_count": 166,
     "metadata": {},
     "output_type": "execute_result"
    }
   ],
   "source": [
    "# Model 1\n",
    "model_info = {\n",
    "    \"name\": \"Regression on Dividend Ratio\",\n",
    "    \"y_var\": \"SPY\",\n",
    "    \"x_vars\": [\"SPX_DVD_YLD\"],\n",
    "}\n",
    "\n",
    "model, results = factor_model(df_reg, model_info[\"y_var\"], model_info[\"x_vars\"])\n",
    "model_info[\"model\"] = model\n",
    "model_info[\"results\"] = results\n",
    "\n",
    "models.append(model_info)\n",
    "print(model_info[\"name\"])\n",
    "model_print(results)"
   ]
  },
  {
   "cell_type": "code",
   "execution_count": 167,
   "metadata": {},
   "outputs": [
    {
     "name": "stdout",
     "output_type": "stream",
     "text": [
      "Regression on Earnings Ratio\n"
     ]
    },
    {
     "data": {
      "text/plain": [
       "R2           0.0165\n",
       "Intercept   -0.0194\n",
       "SPX_P_E      0.0013\n",
       "dtype: float64"
      ]
     },
     "execution_count": 167,
     "metadata": {},
     "output_type": "execute_result"
    }
   ],
   "source": [
    "# Model 2\n",
    "model_info = {\n",
    "    \"name\": \"Regression on Earnings Ratio\",\n",
    "    \"y_var\": \"SPY\",\n",
    "    \"x_vars\": [\"SPX_P_E\"],\n",
    "}\n",
    "\n",
    "model, results = factor_model(df_reg, model_info[\"y_var\"], model_info[\"x_vars\"])\n",
    "model_info[\"model\"] = model\n",
    "model_info[\"results\"] = results\n",
    "\n",
    "models.append(model_info)\n",
    "print(model_info[\"name\"])\n",
    "model_print(results)"
   ]
  },
  {
   "cell_type": "code",
   "execution_count": 168,
   "metadata": {},
   "outputs": [
    {
     "name": "stdout",
     "output_type": "stream",
     "text": [
      "Regression on 3 Factors\n"
     ]
    },
    {
     "data": {
      "text/plain": [
       "R2             0.0255\n",
       "Intercept      0.0203\n",
       "SPX_DVD_YLD   -0.0107\n",
       "SPX_P_E        0.0009\n",
       "TNote_10YR    -0.0032\n",
       "dtype: float64"
      ]
     },
     "execution_count": 168,
     "metadata": {},
     "output_type": "execute_result"
    }
   ],
   "source": [
    "# Model 3\n",
    "model_info = {\n",
    "    \"name\": \"Regression on 3 Factors\",\n",
    "    \"y_var\": \"SPY\",\n",
    "    \"x_vars\": [\"SPX_DVD_YLD\", \"SPX_P_E\", \"TNote_10YR\"],\n",
    "}\n",
    "\n",
    "model, results = factor_model(df_reg, model_info[\"y_var\"], model_info[\"x_vars\"])\n",
    "model_info[\"model\"] = model\n",
    "model_info[\"results\"] = results\n",
    "\n",
    "models.append(model_info)\n",
    "print(model_info[\"name\"])\n",
    "model_print(results)"
   ]
  },
  {
   "cell_type": "markdown",
   "metadata": {},
   "source": [
    "\n",
    "## 3.2. For each of the three regressions, let's try to utilize the resulting forecast in a trading strategy.\n",
    "\n",
    "- Build the forecasted SPY returns: $\\hat{r}_{t+1}^{\\mathrm{SPY}}$. Note that this denotes the forecast made using $\\boldsymbol{X}_{t}$ to forecast the $(t+1)$ return.\n",
    "- Set the scale of the investment in SPY equal to 100 times the forecasted value:\n",
    "\n",
    "$$\n",
    "w_{t}=100 \\hat{r}_{t+1}^{\\mathrm{SPY}}\n",
    "$$\n",
    "\n",
    "We are not taking this scaling too seriously. We just want the strategy to go bigger in periods where the forecast is high and to withdraw in periods where the forecast is low, or even negative.\n",
    "\n",
    "- Calculate the return on this strategy:\n",
    "\n",
    "$$\n",
    "r_{t+1}^{\\mathrm{X}}=w_{t} r_{t+1}^{\\mathrm{SPY}}\n",
    "$$\n",
    "\n",
    "You should now have the trading strategy returns, $r^{\\mathrm{x}}$ for each of the forecasts. For each strategy, estimate\n",
    "\n",
    "- mean, volatility, Sharpe,\n",
    "- max-drawdown\n",
    "- market alpha\n",
    "- market beta\n",
    "- market Information ratio\n"
   ]
  },
  {
   "cell_type": "code",
   "execution_count": null,
   "metadata": {},
   "outputs": [
    {
     "data": {
      "text/html": [
       "<div>\n",
       "<style scoped>\n",
       "    .dataframe tbody tr th:only-of-type {\n",
       "        vertical-align: middle;\n",
       "    }\n",
       "\n",
       "    .dataframe tbody tr th {\n",
       "        vertical-align: top;\n",
       "    }\n",
       "\n",
       "    .dataframe thead th {\n",
       "        text-align: right;\n",
       "    }\n",
       "</style>\n",
       "<table border=\"1\" class=\"dataframe\">\n",
       "  <thead>\n",
       "    <tr style=\"text-align: right;\">\n",
       "      <th></th>\n",
       "      <th>strategy_0</th>\n",
       "      <th>strategy_1</th>\n",
       "      <th>strategy_2</th>\n",
       "    </tr>\n",
       "    <tr>\n",
       "      <th>date</th>\n",
       "      <th></th>\n",
       "      <th></th>\n",
       "      <th></th>\n",
       "    </tr>\n",
       "  </thead>\n",
       "  <tbody>\n",
       "    <tr>\n",
       "      <th>1997-01-31</th>\n",
       "      <td>0.0064</td>\n",
       "      <td>0.0082</td>\n",
       "      <td>-0.0021</td>\n",
       "    </tr>\n",
       "    <tr>\n",
       "      <th>1997-02-28</th>\n",
       "      <td>0.0063</td>\n",
       "      <td>0.0084</td>\n",
       "      <td>-0.0022</td>\n",
       "    </tr>\n",
       "    <tr>\n",
       "      <th>1997-03-31</th>\n",
       "      <td>0.0051</td>\n",
       "      <td>0.0050</td>\n",
       "      <td>-0.0065</td>\n",
       "    </tr>\n",
       "    <tr>\n",
       "      <th>1997-04-30</th>\n",
       "      <td>0.0064</td>\n",
       "      <td>0.0065</td>\n",
       "      <td>-0.0039</td>\n",
       "    </tr>\n",
       "    <tr>\n",
       "      <th>1997-05-30</th>\n",
       "      <td>0.0076</td>\n",
       "      <td>0.0070</td>\n",
       "      <td>-0.0023</td>\n",
       "    </tr>\n",
       "  </tbody>\n",
       "</table>\n",
       "</div>"
      ],
      "text/plain": [
       "            strategy_0  strategy_1  strategy_2\n",
       "date                                          \n",
       "1997-01-31      0.0064      0.0082     -0.0021\n",
       "1997-02-28      0.0063      0.0084     -0.0022\n",
       "1997-03-31      0.0051      0.0050     -0.0065\n",
       "1997-04-30      0.0064      0.0065     -0.0039\n",
       "1997-05-30      0.0076      0.0070     -0.0023"
      ]
     },
     "execution_count": 188,
     "metadata": {},
     "output_type": "execute_result"
    }
   ],
   "source": [
    "# Run models to predict SPY\n",
    "df_strategies = pd.DataFrame()\n",
    "for idx in range(len(models)):\n",
    "    model_info = models[idx]\n",
    "    df_strategies[f\"strategy_{idx}\"] = model_info[\"results\"].predict(df_reg[model_info[\"x_vars\"]])\n",
    "df_strategies.head()"
   ]
  },
  {
   "cell_type": "code",
   "execution_count": 193,
   "metadata": {},
   "outputs": [
    {
     "data": {
      "text/html": [
       "<div>\n",
       "<style scoped>\n",
       "    .dataframe tbody tr th:only-of-type {\n",
       "        vertical-align: middle;\n",
       "    }\n",
       "\n",
       "    .dataframe tbody tr th {\n",
       "        vertical-align: top;\n",
       "    }\n",
       "\n",
       "    .dataframe thead th {\n",
       "        text-align: right;\n",
       "    }\n",
       "</style>\n",
       "<table border=\"1\" class=\"dataframe\">\n",
       "  <thead>\n",
       "    <tr style=\"text-align: right;\">\n",
       "      <th></th>\n",
       "      <th>mean</th>\n",
       "      <th>vol</th>\n",
       "      <th>sharpe</th>\n",
       "      <th>5% VaR</th>\n",
       "      <th>max_drawdown</th>\n",
       "      <th>market_alpha</th>\n",
       "      <th>market_beta</th>\n",
       "      <th>info_ratio</th>\n",
       "    </tr>\n",
       "  </thead>\n",
       "  <tbody>\n",
       "    <tr>\n",
       "      <th>strategy_0</th>\n",
       "      <td>0.0812</td>\n",
       "      <td>0.0174</td>\n",
       "      <td>4.6551</td>\n",
       "      <td>0.0008</td>\n",
       "      <td>0.1092</td>\n",
       "      <td>0.0067</td>\n",
       "      <td>0.0127</td>\n",
       "      <td>4.6551</td>\n",
       "    </tr>\n",
       "    <tr>\n",
       "      <th>strategy_1</th>\n",
       "      <td>0.0812</td>\n",
       "      <td>0.0199</td>\n",
       "      <td>4.0902</td>\n",
       "      <td>-0.0007</td>\n",
       "      <td>0.0288</td>\n",
       "      <td>0.0067</td>\n",
       "      <td>0.0165</td>\n",
       "      <td>4.0902</td>\n",
       "    </tr>\n",
       "    <tr>\n",
       "      <th>strategy_2</th>\n",
       "      <td>0.0812</td>\n",
       "      <td>0.0247</td>\n",
       "      <td>3.2888</td>\n",
       "      <td>-0.0023</td>\n",
       "      <td>0.1451</td>\n",
       "      <td>0.0066</td>\n",
       "      <td>0.0255</td>\n",
       "      <td>3.2888</td>\n",
       "    </tr>\n",
       "  </tbody>\n",
       "</table>\n",
       "</div>"
      ],
      "text/plain": [
       "             mean    vol  sharpe  5% VaR  max_drawdown  market_alpha  \\\n",
       "strategy_0 0.0812 0.0174  4.6551  0.0008        0.1092        0.0067   \n",
       "strategy_1 0.0812 0.0199  4.0902 -0.0007        0.0288        0.0067   \n",
       "strategy_2 0.0812 0.0247  3.2888 -0.0023        0.1451        0.0066   \n",
       "\n",
       "            market_beta  info_ratio  \n",
       "strategy_0       0.0127      4.6551  \n",
       "strategy_1       0.0165      4.0902  \n",
       "strategy_2       0.0255      3.2888  "
      ]
     },
     "execution_count": 193,
     "metadata": {},
     "output_type": "execute_result"
    }
   ],
   "source": [
    "# Summary\n",
    "df_strategies[\"SPY\"] = df_reg[\"SPY\"]\n",
    "df_summary = cpm.calc_summary_stats(df_strategies,\n",
    "                                    annual_factor=annual_factor,\n",
    "                                    summary_cols=summary_cols\n",
    "                                    ).T\n",
    "    \n",
    "df_summary = (df_summary\n",
    "              .merge(risk_summary(df_strategies, \"SPY\"), \n",
    "                     left_index=True, \n",
    "                     right_index=True)\n",
    ")\n",
    "\n",
    "\n",
    "df_summary[['mean', 'vol', 'sharpe', '5% VaR', 'max_drawdown', 'market_alpha', 'market_beta', 'info_ratio']]"
   ]
  },
  {
   "cell_type": "markdown",
   "metadata": {},
   "source": [
    "\n",
    "\n",
    "## 3.3. GMO believes a risk premium is compensation for a security's tendency to lose money at \"bad times\". Let's consider risk characteristics.\n",
    "(a) For both strategies, the market, and GMO, calculate the monthly VaR for $\\pi=.05$. Just use the quantile of the historic data for this VaR calculation.\n",
    "\n",
    "(b) The GMO case mentions that stocks under-performed short-term bonds from 2000-2011. Does the dynamic portfolio above under-perform the risk-free rate over this time?\n",
    "\n",
    "(c) Based on the regression estimates, in how many periods do we estimate a negative risk premium?\n",
    "\n",
    "(d) Do you believe the dynamic strategy takes on extra risk??\n"
   ]
  },
  {
   "cell_type": "markdown",
   "metadata": {},
   "source": [
    "\n",
    "# 4 Out-of-Sample Forecasting\n",
    "\n",
    "This section utilizes data in the file, gmo_data.xlsx.\n",
    "Reconsider the problem above, of estimating (1) for $\\boldsymbol{x}$. The reported $\\mathcal{R}^{2}$ was the in-sample $\\mathcal{R}^{2}$-it examined how well the forecasts fit in the sample from which the parameters were estimated.\n",
    "In particular, focus on the case of using both dividend-price and earnings-price as signals.\n",
    "Let's consider the out-of-sample r-squared. To do so, we need to do the following:\n",
    "\n",
    "- Start at $t=60$.\n",
    "- Estimate (1) only using data through time $t$.\n",
    "- Use the estimated parameters of (1), along with $\\boldsymbol{x}_{t+1}$ to calculate the out-of-sample forecast for the following period, $t+1$.\n",
    "\n",
    "$$\n",
    "\\hat{r}_{t+1}^{S P Y}=\\hat{\\alpha}_{t}^{S P Y, \\boldsymbol{x}}+\\left(\\boldsymbol{\\beta}^{S P Y, \\boldsymbol{x}}\\right)^{\\prime} \\boldsymbol{x}_{t}\n",
    "$$\n",
    "\n",
    "- Calculate the $t+1$ forecast error,\n",
    "\n",
    "$$\n",
    "e_{t+1}^{\\text {forecast }}=r_{t+1}^{S P Y}-\\hat{r}_{t+1}^{S P Y}\n",
    "$$\n",
    "\n",
    "- Move to $t=61$, and loop through the rest of the sample.\n",
    "\n",
    "You now have the time-series of out-of-sample prediction errors, $e^{x}$.\n",
    "Calculate the time-series of out-of-sample prediction errors $e^{\\text {null }}$, which are based on the null forecast:\n",
    "\n",
    "$$\n",
    "\\begin{aligned}\n",
    "\\bar{r}_{t+1}^{S P Y} & =\\frac{1}{t} \\sum_{i=1}^{t} r_{i}^{S P Y} \\\\\n",
    "e_{t+1}^{\\mathrm{null}} & =r_{t+1}^{S P Y}-\\bar{r}_{t+1}^{S P Y}\n",
    "\\end{aligned}\n",
    "$$\n"
   ]
  },
  {
   "cell_type": "markdown",
   "metadata": {},
   "source": [
    "\n",
    "\n",
    "## 4.1. Report the out-of-sample $\\mathcal{R}^{2}$ :\n",
    "\n",
    "$$\n",
    "\\mathcal{R}_{O O S}^{2} \\equiv 1-\\frac{\\sum_{i=61}^{T}\\left(e_{i}^{\\text {forecast }}\\right)^{2}}{\\sum_{i=61}^{T}\\left(e_{i}^{\\text {null }}\\right)^{2}}\n",
    "$$\n",
    "\n",
    "Note that unlike an in-sample r-squared, the out-of-sample r-squared can be anywhere between $(-\\infty, 1]$.\n",
    "Did this forecasting strategy produce a positive OOS r-squared?\n"
   ]
  },
  {
   "cell_type": "markdown",
   "metadata": {},
   "source": [
    "\n",
    "## 4.. Re-do problem 3.2 using this OOS forecast.\n",
    "\n",
    "How much better/worse is the OOS strategy compared to the in-sample version of 3.2?\n"
   ]
  },
  {
   "cell_type": "markdown",
   "metadata": {},
   "source": [
    "\n",
    "## 4.. Re-do problem 3.3 using this OOS forecast.\n",
    "\n",
    "Is the point-in-time version of the strategy riskier?\n"
   ]
  },
  {
   "cell_type": "markdown",
   "metadata": {},
   "source": [
    "\n",
    "# 5 Extensions\n",
    "\n",
    "This section is not graded, and you do not need to submit your answers. We may discuss some of these extensions.\n",
    "\n"
   ]
  },
  {
   "cell_type": "markdown",
   "metadata": {},
   "source": [
    "\n",
    "## 5.1. Classification and Regression Tree (CART)\n",
    "\n",
    "Re-do Section 3, but use CART in forecasting instead of a lagged regression.\n",
    "\n",
    "- Consider using RandomForestRegressor from sklearn.ensemble.\n",
    "- If you want to plot the tree, try using tree from sklearn.\n"
   ]
  },
  {
   "cell_type": "markdown",
   "metadata": {},
   "source": [
    "\n",
    "\n",
    "## 5.2. Expand on the CART analysis by calculating the OOS stats, as in Section 4.\n"
   ]
  },
  {
   "cell_type": "markdown",
   "metadata": {},
   "source": [
    "\n",
    "## 5.3. Re-do Section 3, but use a Neural Network in forecasting instead of a lagged regression.\n",
    "\n",
    "- Consider using MLPRegressor from sklearn.neural_network.\n",
    "\n"
   ]
  },
  {
   "cell_type": "markdown",
   "metadata": {},
   "source": [
    "\n",
    "## 5.3. Re-do Section 3, but use a Neural Network in forecasting instead of a lagged regression.\n",
    "\n",
    "- Consider using MLPRegressor from sklearn.neural_network.\n",
    "\n"
   ]
  },
  {
   "cell_type": "markdown",
   "metadata": {},
   "source": [
    "\n",
    "## 5.4. Expand on the CART and Neural Network analysis by calculating the OOS stats, as in Section 4.\n",
    "\n",
    "[^0]:    ${ }^{1}$ This should be calculated on GMWAX total returns, not excess returns.\n",
    "\n"
   ]
  }
 ],
 "metadata": {
  "kernelspec": {
   "display_name": "git_finm-portfolio-2024",
   "language": "python",
   "name": "python3"
  },
  "language_info": {
   "codemirror_mode": {
    "name": "ipython",
    "version": 3
   },
   "file_extension": ".py",
   "mimetype": "text/x-python",
   "name": "python",
   "nbconvert_exporter": "python",
   "pygments_lexer": "ipython3",
   "version": "3.11.7"
  }
 },
 "nbformat": 4,
 "nbformat_minor": 2
}
