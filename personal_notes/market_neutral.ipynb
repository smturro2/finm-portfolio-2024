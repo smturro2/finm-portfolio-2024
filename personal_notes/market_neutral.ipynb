{
 "cells": [
  {
   "cell_type": "markdown",
   "metadata": {
    "vscode": {
     "languageId": "plaintext"
    }
   },
   "source": [
    "$$\\newcommand{\\var}{\\text{Var}}$$\n",
    "$$\\newcommand{\\cov}{\\text{Cov}}$$\n",
    "$$\\newcommand{\\E}{\\mathbb{E}}$$"
   ]
  },
  {
   "cell_type": "markdown",
   "metadata": {
    "vscode": {
     "languageId": "plaintext"
    }
   },
   "source": [
    "definitions\n",
    "* $\\omega^{(M)}$ market weights\n",
    "* $\\omega^{(P)}$ (risk netural) portfolio weights\n",
    "* $r_i=m_i + d_i$ return of asset\n",
    "    * $m_i$ return of asset i due to the market\n",
    "    * $d_i$ return of asset i due to idiosyncratic events\n",
    "* $R^{(P)}$ Return of market\n",
    "* $R^{(M)}$ Return of (risk netural) portfolio\n",
    "* $\\Sigma_r$, $\\Sigma_m$, $\\Sigma_d$ covariance matricies\n",
    "    * $[\\Sigma_x]_{ij} = \\cov[x_i,x_j]$ \n",
    "\n",
    "Assumptions\n",
    "1. **Idiosyncratic returns are ind. to market returns:** $\\forall_{i,j}\\; \\cov(m_{it}, d_{jt}) = 0$"
   ]
  },
  {
   "cell_type": "markdown",
   "metadata": {},
   "source": [
    "# Task"
   ]
  },
  {
   "cell_type": "markdown",
   "metadata": {},
   "source": [
    "Below if the objective function to maxmize the return for a risk neutral portfolio.\n",
    "\n",
    "$$\\max_{\\omega^{(P)}}  \\;\n",
    "\\left(\\omega^{(P)}\\right)^T \\E[\\bold r] -\n",
    "\\left(\\omega^{(P)}\\right)^T \\Sigma_r \\omega^{(P)}$$\n",
    "Such that\n",
    "* $\\sum_i \\omega^{(P)}_i = 1$\n",
    "* $\\cov\\left[R^{(P)}, R^{(M)}\\right] = 0$"
   ]
  },
  {
   "cell_type": "markdown",
   "metadata": {},
   "source": [
    "Show that the objective above is equal to\n",
    "$$\\max_{\\omega^{(P)}}  \\;\n",
    "\\left(\\omega^{(P)}\\right)^T \\E[\\bold d] -\n",
    "\\left(\\omega^{(P)}\\right)^T \\Sigma_d \\omega^{(P)}$$\n",
    "Such that\n",
    "* $\\sum_i \\omega^{(P)}_i = 1$"
   ]
  },
  {
   "cell_type": "markdown",
   "metadata": {},
   "source": [
    "# Proof\n",
    "Lets start with our original equation\n",
    "\n",
    "$$\\max_{\\omega^{(P)}} \\;\n",
    "\\left(\\omega^{(P)}\\right)^T \\E[\\bold r] - \n",
    "\\left(\\omega^{(P)}\\right)^T \\Sigma_r \\omega^{(P)}$$\n",
    "Using appendex A.3, we have $\\Sigma_r = \\Sigma_m + \\Sigma_d$. We also expand $\\E[\\bold r]$ into $\\E[\\bold m] + \\E[\\bold d]$\n",
    "$$\\begin{aligned}\n",
    "\\max_{\\omega^{(P)}}\n",
    "&\\; \\left(\\omega^{(P)}\\right)^T \\E[\\bold m] + \\left(\\omega^{(P)}\\right)^T \\E[\\bold d] \\\\\n",
    "& - \\left(\\omega^{(P)}\\right)^T \\Sigma_m \\omega^{(P)} - \\left(\\omega^{(P)}\\right)^T \\Sigma_d \\omega^{(P)}\n",
    "\\end{aligned}$$"
   ]
  },
  {
   "cell_type": "markdown",
   "metadata": {},
   "source": [
    "rearrange\n",
    "$$\\begin{aligned}\n",
    "\\max_{\\omega^{(P)}}\n",
    "&\\; \\left(\\omega^{(P)}\\right)^T \\E[\\bold d] - \\left(\\omega^{(P)}\\right)^T \\Sigma_d \\omega^{(P)} \\\\\n",
    "& + \\left(\\omega^{(P)}\\right)^T \\E[\\bold m] - \\left(\\omega^{(P)}\\right)^T \\Sigma_m \\omega^{(P)} \\\\\n",
    "\\end{aligned}$$"
   ]
  },
  {
   "cell_type": "markdown",
   "metadata": {},
   "source": [
    "Using appendix A.3: $\\cov\\left[R^{(P)}, R^{(M)}\\right]=0$ implies that:\n",
    "$$\\left(\\omega^{(P)}\\right)^T \\E[\\bold m] - \\left(\\omega^{(P)}\\right)^T \\Sigma_m \\omega^{(P)} = 0$$\n",
    "\n",
    "Define the lagragian multiplier for this constraint to be $\\Lambda$. This equation then becomes\n",
    "$$\\begin{aligned}\n",
    "\\max_{\\omega^{(P)}}\n",
    "&\\; \\left(\\omega^{(P)}\\right)^T \\E[\\bold d] - \\left(\\omega^{(P)}\\right)^T \\Sigma_d \\omega^{(P)} \\\\\n",
    "& + \\left(\\omega^{(P)}\\right)^T \\E[\\bold m] - \\left(\\omega^{(P)}\\right)^T \\Sigma_m \\omega^{(P)} \\\\\n",
    "& + \\Lambda\\left(\n",
    "        \\left(\\omega^{(P)}\\right)^T \\E[\\bold m] -\n",
    "        \\left(\\omega^{(P)}\\right)^T \\Sigma_m \\omega^{(P)}\n",
    "    \\right)\n",
    "\\end{aligned}$$\n",
    "\n",
    "Using appendex A.4, we have $\\Lambda = -1$, therefore our objective function becomes\n",
    "\n",
    "$$\\max_{\\omega^{(P)}}\n",
    "\\left(\\omega^{(P)}\\right)^T \\E[\\bold d] - \\left(\\omega^{(P)}\\right)^T \\Sigma_d \\omega^{(P)}$$"
   ]
  },
  {
   "cell_type": "markdown",
   "metadata": {},
   "source": [
    "## What is $m_{it}$ ?\n",
    "\n",
    "It could be the risk free rate.\n",
    "\n",
    "But we would want it to be related to the s&p. In specific, we would want $m_{it}$ to represent the change in $R^{(M)}$ due to asset i\n",
    "\n",
    "$$m_{it}$$\n",
    "\n",
    "$$R = \\sum_i \\omega^{(P)}_i r_i$$"
   ]
  },
  {
   "cell_type": "markdown",
   "metadata": {},
   "source": [
    "# Appendix"
   ]
  },
  {
   "cell_type": "markdown",
   "metadata": {},
   "source": [
    "## Appendix A.1\n",
    "For 2 random vectors $\\bold x$, $\\bold y$ with covariance matrix $\\Sigma$ and 2 weight vectors $\\bold a$, $\\bold b$:\n",
    "    \n",
    "$$\\cov\\left[\\bold a \\cdot \\bold x, \\bold b \\cdot \\bold y \\right] = \n",
    "\\cov\\left[\\sum_i a_i x_i, \\sum_j b_j y_j\\right] = \n",
    "\\sum_i \\sum_j a_i b_j \\cov\\left[x_i,y_j \\right] = \n",
    "\\bold a^T \\Sigma b\n",
    "$$"
   ]
  },
  {
   "cell_type": "markdown",
   "metadata": {},
   "source": [
    "Proof: Left equal to middle is from the definition of the dot product. Thus lefts start with the middle:\n",
    "$$\\cov\\left[\n",
    "    \\sum_i a_i x_i, \\sum_j b_j y_j\n",
    "\\right]$$\n",
    "\n",
    "Recall: $\\cov[X, Y] = \\E[XY] - \\E[X]\\E[Y]$\n",
    "\n",
    "$$\n",
    "\\E\\left[\\left(\\sum_i a_i x_i\\right)\\left(\\sum_j b_j y_j\\right)\\right] -\n",
    "\\E\\left[\\sum_i a_i x_i\\right]\\E\\left[\\sum_j b_j y_j\\right]\n",
    "$$\n",
    "\n",
    "$$\n",
    "\\E\\left[\\sum_i \\sum_j a_i b_j x_i y_j\\right] -\n",
    "\\E\\left[\\sum_i a_i x_i\\right]\\E\\left[\\sum_j b_j y_j\\right]\n",
    "$$\n",
    "\n",
    "$$\n",
    "\\sum_i \\sum_j a_i b_j \\E[x_i y_j] - \n",
    "\\sum_i \\sum_j a_i b_j \\E[x_i]\\E[y_j]\n",
    "$$\n",
    "\n",
    "$$\n",
    "\\sum_i \\sum_j a_i b_j \n",
    "\\left(\\E[x_i y_j] - \\E[x_i]\\E[y_j] \\right)\n",
    "$$\n",
    "\n",
    "$$\n",
    "\\sum_i \\sum_j a_i b_j \n",
    "\\cov\\left[x_i,y_j \\right]\n",
    "$$\n",
    "\n",
    "This gives our 3rd equation. To get the forth we just use the definition of matrix multiplication:\n",
    "$$\\bold a^T \\Sigma b$$"
   ]
  },
  {
   "cell_type": "markdown",
   "metadata": {},
   "source": [
    "## Appendix A.2\n",
    "$$\\Sigma_r = \\Sigma_m + \\Sigma_d$$\n",
    "proof: Lets focus on index ij. $[\\Sigma_r]_{ij} = \\cov[r_i, r_j]$\n",
    "\n",
    "$$[\\Sigma_r]_{ij} = \\cov[r_i, r_j]$$\n",
    "$$[\\Sigma_r]_{ij} = \\cov[m_i + d_i, m_j + d_j]$$\n",
    "$$[\\Sigma_r]_{ij} = \\cov[m_i, m_j] + \\cov[m_i, d_j] + \\cov[d_i, m_j] + \\cov[d_i, d_j]$$\n",
    "Using assumption 2: $\\cov(m_{it}, d_{jt}) = \\cov(d_{it}, m_{jt}) = 0$\n",
    "\n",
    "$$[\\Sigma_r]_{ij} = \\cov[m_i, m_j] + \\cov[d_i, d_j]$$\n",
    "$$[\\Sigma_r]_{ij} = [\\Sigma_m]_{ij} + [\\Sigma_d]_{ij}$$"
   ]
  },
  {
   "cell_type": "markdown",
   "metadata": {},
   "source": [
    "## Appendix A.3\n",
    "$$\\cov\\left[R^{(P)}, R^{(M)}\\right] = 0 \\rightarrow \n",
    "\\left(\\omega^{(P)}\\right)^T \\E[\\bold m] - \\left(\\omega^{(P)}\\right)^T \\Sigma_m \\omega^{(P)} = 0$$\n"
   ]
  },
  {
   "cell_type": "markdown",
   "metadata": {},
   "source": [
    "proof: Lets start with the left hand side\n",
    "$$\\cov\\left[R^{(P)}, R^{(M)}\\right] =0$$\n",
    "\n",
    "$$\\sum_i \\sum_j \n",
    "\\omega^{(P)}_i \\omega^{(M)}_j \n",
    "\\cov\\left[r_i,r_j \\right]\n",
    "=0$$\n",
    "\n",
    "Using lemma from A.1, this equals:\n",
    "$$\\left(\\omega^{(P)}\\right)^T \\Sigma_r \\omega^{(M)} =0$$\n",
    "\n",
    "Using lemma from A.2, this equals:\n",
    "$$\\left(\\omega^{(P)}\\right)^T \\Sigma_m \\omega^{(M)} + \\left(\\omega^{(P)}\\right)^T \\Sigma_d \\omega^{(M)} =0$$\n"
   ]
  },
  {
   "cell_type": "markdown",
   "metadata": {},
   "source": [
    "Using lemma from A.2, this equals:\n",
    "$$\\left(\\omega^{(P)}\\right)^T \\left(\n",
    "    \\Sigma_m \\omega^{(M)} + \\Sigma_d \\omega^{(M)}\n",
    "\\right)=0$$\n"
   ]
  },
  {
   "cell_type": "markdown",
   "metadata": {
    "vscode": {
     "languageId": "plaintext"
    }
   },
   "source": [
    "todo"
   ]
  },
  {
   "cell_type": "markdown",
   "metadata": {},
   "source": [
    "$$\\left(\\omega^{(P)}\\right)^T \\left(\n",
    "\\E[\\bold m] - \\Sigma_m \\omega^{(P)}\n",
    "\\right)=0$$"
   ]
  },
  {
   "cell_type": "markdown",
   "metadata": {
    "vscode": {
     "languageId": "plaintext"
    }
   },
   "source": [
    "Finally we have\n",
    "\n",
    "$$\\left(\\omega^{(P)}\\right)^T \\E[\\bold m] - \\left(\\omega^{(P)}\\right)^T \\Sigma_m \\omega^{(P)}$$"
   ]
  },
  {
   "cell_type": "markdown",
   "metadata": {},
   "source": [
    "## Appendix A.4\n",
    "$$\\Lambda = -1$$\n",
    "\n",
    "proof: todo"
   ]
  },
  {
   "cell_type": "markdown",
   "metadata": {},
   "source": [
    "## Appendex A.5"
   ]
  },
  {
   "cell_type": "markdown",
   "metadata": {
    "vscode": {
     "languageId": "plaintext"
    }
   },
   "source": [
    "$$\\Sigma_m \\omega^{(M)} + \\Sigma_d \\omega^{(M)}-\n",
    "\\E[\\bold m] - \\Sigma_m \\omega^{(P)}\n",
    "$$"
   ]
  }
 ],
 "metadata": {
  "language_info": {
   "name": "python"
  }
 },
 "nbformat": 4,
 "nbformat_minor": 2
}
